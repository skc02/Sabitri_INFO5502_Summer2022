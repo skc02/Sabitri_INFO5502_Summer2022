{
  "cells": [
    {
      "cell_type": "markdown",
      "metadata": {
        "id": "view-in-github",
        "colab_type": "text"
      },
      "source": [
        "<a href=\"https://colab.research.google.com/github/skc02/Sabitri_INFO5502_Summer2022/blob/main/lab_assignment_02.ipynb\" target=\"_parent\"><img src=\"https://colab.research.google.com/assets/colab-badge.svg\" alt=\"Open In Colab\"/></a>"
      ]
    },
    {
      "cell_type": "markdown",
      "metadata": {
        "id": "Ryk8D1Q4Wsrp"
      },
      "source": [
        "# **The second Lab-assignment (07/19/2022 11:59'AM' - 07/22/2022 11:59PM, 50 points in total)**"
      ]
    },
    {
      "cell_type": "markdown",
      "metadata": {
        "id": "90_NR8c5XGWc"
      },
      "source": [
        "# Question 1\n",
        "\n",
        "(5 points). Write a Python program to generate 12 random numbers between 1 and 100. Sort the list of numbers in ascending order and print it out. Sort the list of numbers in descending order and print it out. Calculate the average for the group and print it out."
      ]
    },
    {
      "cell_type": "code",
      "execution_count": null,
      "metadata": {
        "colab": {
          "base_uri": "https://localhost:8080/"
        },
        "id": "5QX6bJjGWXY9",
        "outputId": "93d29848-c6cf-4615-f125-c34460185eda"
      },
      "outputs": [
        {
          "output_type": "stream",
          "name": "stdout",
          "text": [
            "12 random numbers between 1 and 100 are: [92, 25, 58, 40, 85, 49, 98, 79, 18, 18, 65, 79]\n",
            "Sorted in ascending order: [18, 18, 25, 40, 49, 58, 65, 79, 79, 85, 92, 98]\n",
            "Sorted in descending order: [98, 92, 85, 79, 79, 65, 58, 49, 40, 25, 18, 18]\n",
            "Average of random numbers: 58.833333333333336\n"
          ]
        }
      ],
      "source": [
        "\n",
        "import random\n",
        "randomlist = []\n",
        "for i in range(0,12):\n",
        "  n = random.randrange(1,100)\n",
        "  randomlist.append(n)\n",
        "print(\"12 random numbers between 1 and 100 are:\",randomlist)\n",
        "print(\"Sorted in ascending order:\",sorted(randomlist))\n",
        "print(\"Sorted in descending order:\",sorted(randomlist,reverse=True))\n",
        "average = sum(randomlist)/len(randomlist)\n",
        "print(\"Average of random numbers:\",average)\n",
        "\n",
        "\n"
      ]
    },
    {
      "cell_type": "markdown",
      "metadata": {
        "id": "CmFoI4jDS9nx"
      },
      "source": [
        "# Question 2 \n",
        "\n",
        "(5 points). The formula that describes the volume V of a sphere with radius r is the following:\n",
        "\n",
        "$ V=\\frac{4}{3}\\ast\\ \\pi\\ast\\ r^3 $\n",
        "\n",
        "Write a program to calculate the value of V when r is in the range of 1–10. Output the result in the following format:\n",
        "\n",
        "\tr\tV\n",
        "\t1\t…\n",
        "\t2\t…\n",
        "\t3\t…\n"
      ]
    },
    {
      "cell_type": "code",
      "execution_count": null,
      "metadata": {
        "colab": {
          "base_uri": "https://localhost:8080/"
        },
        "id": "pEyqeioAT95b",
        "outputId": "9ee7b6c4-1e09-4a2c-ed1f-9012752e8291"
      },
      "outputs": [
        {
          "output_type": "stream",
          "name": "stdout",
          "text": [
            "r\tV\n",
            "1\t4.1887902047863905\n",
            "2\t33.510321638291124\n",
            "3\t113.09733552923254\n",
            "4\t268.082573106329\n",
            "5\t523.5987755982989\n",
            "6\t904.7786842338603\n",
            "7\t1436.7550402417319\n",
            "8\t2144.660584850632\n",
            "9\t3053.6280592892786\n",
            "10\t4188.790204786391\n"
          ]
        }
      ],
      "source": [
        "\n",
        "import math\n",
        "def sphereVolume(r):\n",
        "  return (4/3) * math.pi * (r**3)\n",
        "\n",
        "print(\"r\\tV\")\n",
        "for i in range(0,10,1):\n",
        "  print(\"{0}\\t{1}\".format(i+1,sphereVolume(i+1)))\n",
        "\n",
        "\n"
      ]
    },
    {
      "cell_type": "markdown",
      "metadata": {
        "id": "z3tBE7E-Xn5X"
      },
      "source": [
        "# Question 3\n",
        "\n",
        "(40 points). In the field of Data Science, data is often formatted as a comma-delimited (CSV) file, where each line in a file corresponds to a field's value. Refer to Chapter 9 (p. 106) for more information on comma-delimited files. To answer this question, you will need to download the file [lab_assignment_02_denton_housing.csv](https://github.com/suthapalliuday/INFO5502-Summer2022/blob/main/datasets/lab_assignment_02_denton_housing.csv) included with this assignment. The file [lab_assignment_02_denton_housing.csv](https://github.com/suthapalliuday/INFO5502-Summer2022/blob/main/datasets/lab_assignment_02_denton_housing.csv) contains statistics about housing in the city of Denton from 2008 to 2014. Write a program to implement the following questions.\n",
        "\n",
        "(1) (10 pts) Calculate the difference in the number of Occupied Housing Units from year to year and print it. The difference must be calculated for the consecutive years such as 2008-2009, 2009-2010 etc. Finally, print the values in the ascending order.\n",
        "\n",
        "(2) (10 pts) For all the years, calculate the percentage of housing units which are vacant an occupied. Print the results in the following format:\n",
        "\n",
        "Year Vacant Housing Units Occupied Housing Units\n",
        "\n",
        "    2008  30%   70%                          \n",
        "\t2009 ----- -----\n",
        "\t2010 ----- -----\n",
        "    2011 ----- -----\n",
        "\t2012 ----- -----\n",
        "    2013 ----- -----\n",
        "\t2014 ----- -----\n",
        "  \n",
        "  \n",
        "\n",
        "(3) (10 pts) Calculate and print the valued and years in which the highest number of housing units were vacant and occupied. Print the results in the following format:  \n",
        "\n",
        "                              Year\tValue\n",
        "\tVacant Housing Units\t  -----   -----\n",
        "\tOccupied Housing Units\t-----   -----\n",
        "\n",
        "(4) (10 pts) Calculate the harmonic mean of the total housing units and print it out. You can find the information about harmonic mean here: https://ncalculators.com/statistics/harmonic-mean-calculator.htm"
      ]
    },
    {
      "cell_type": "code",
      "source": [
        "# Read and prepare the data set\n",
        "import pandas as pd\n",
        "url = 'https://raw.githubusercontent.com/suthapalliuday/INFO5502-Summer2022/main/datasets/lab_assignment_02_denton_housing.csv'\n",
        "df = pd.read_csv(url,index_col=False)\n",
        "df.info()"
      ],
      "metadata": {
        "colab": {
          "base_uri": "https://localhost:8080/"
        },
        "id": "zfTuZdRWBENG",
        "outputId": "7c1800a4-313b-4787-cb5c-ffacad08607c"
      },
      "execution_count": null,
      "outputs": [
        {
          "output_type": "stream",
          "name": "stdout",
          "text": [
            "<class 'pandas.core.frame.DataFrame'>\n",
            "RangeIndex: 42 entries, 0 to 41\n",
            "Data columns (total 3 columns):\n",
            " #   Column       Non-Null Count  Dtype \n",
            "---  ------       --------------  ----- \n",
            " 0   year         42 non-null     int64 \n",
            " 1   title_field  42 non-null     object\n",
            " 2   value        42 non-null     int64 \n",
            "dtypes: int64(2), object(1)\n",
            "memory usage: 1.1+ KB\n"
          ]
        }
      ]
    },
    {
      "cell_type": "code",
      "source": [
        "# Question 3.1\n",
        "OHU = df[df['title_field'] == 'Occupied Housing Units'] \n",
        "OHU_asc = OHU.sort_values(by=['year'])\n",
        "OHU_yv = OHU_asc[[\"year\",\"value\"]]\n",
        "formatted_columns=['Difference in Year','Value']\n",
        "formatted_data=[]\n",
        "for i in range(len(OHU_yv)-1):\n",
        "    this_year = OHU_yv.iloc[i,0]\n",
        "    next_year = OHU_yv.iloc[i+1,0]\n",
        "    this_value = OHU_yv.iloc[i,1]\n",
        "    next_value = OHU_yv.iloc[i+1,1]\n",
        "    data_i = [\"{0}-{1}\".format(this_year,next_year),(this_value-next_value)]\n",
        "    formatted_data.append(data_i)\n",
        "formatted_df = pd.DataFrame(formatted_data, columns=formatted_columns)\n",
        "print(formatted_df.sort_values(by=['Value'])) # ascending order by difference in value\n",
        "print(formatted_df.sort_values(by=['Difference in Year'])) # ascending order by year\n"
      ],
      "metadata": {
        "id": "XoMXeakUDG3Y",
        "colab": {
          "base_uri": "https://localhost:8080/"
        },
        "outputId": "c874c226-ba7c-4f4e-b7c5-ba8940ac67c3"
      },
      "execution_count": null,
      "outputs": [
        {
          "output_type": "stream",
          "name": "stdout",
          "text": [
            "  Difference in Year  Value\n",
            "1          2009-2010  -5091\n",
            "5          2013-2014  -2622\n",
            "4          2012-2013  -1565\n",
            "3          2011-2012  -1404\n",
            "2          2010-2011    303\n",
            "0          2008-2009    795\n",
            "  Difference in Year  Value\n",
            "0          2008-2009    795\n",
            "1          2009-2010  -5091\n",
            "2          2010-2011    303\n",
            "3          2011-2012  -1404\n",
            "4          2012-2013  -1565\n",
            "5          2013-2014  -2622\n"
          ]
        }
      ]
    },
    {
      "cell_type": "code",
      "source": [
        "#Question 3.2\n",
        "df_percent = df.query(\"title_field  == 'Vacant Housing Units' or title_field == 'Occupied Housing Units' or title_field == 'Total Housing Units'\")\n",
        "df_percent_g = df_percent.groupby(['year','title_field']).sum().reset_index()\n",
        "df_percent_Years = list(set(df_percent_g['year']))\n",
        "def getSumByYear(year,dfffy):\n",
        "  ohu = dfffy.iloc[0,2]\n",
        "  thu = dfffy.iloc[1,2]\n",
        "  vhu = dfffy.iloc[2,2]\n",
        "  print(\"{0}\\t{1}%\\t{2}%\".format(year, ((ohu/thu) *100),((vhu/thu) *100)))\n",
        "\n",
        "for y in df_percent_Years:\n",
        "    dfy = df_percent_g[df_percent_g[\"year\"]==y]\n",
        "    getSumByYear(y,dfy)\n"
      ],
      "metadata": {
        "colab": {
          "base_uri": "https://localhost:8080/"
        },
        "id": "um_YGwyw-TjL",
        "outputId": "bb3cd2aa-fa52-4d42-e8fc-ad41635c02fd"
      },
      "execution_count": null,
      "outputs": [
        {
          "output_type": "stream",
          "name": "stdout",
          "text": [
            "2008\t89.11734718648347%\t10.88265281351653%\n",
            "2009\t90.92888427555128%\t9.07111572444872%\n",
            "2010\t91.85744366291833%\t8.142556337081672%\n",
            "2011\t90.6204777701093%\t9.379522229890688%\n",
            "2012\t93.32239976950866%\t6.677600230491346%\n",
            "2013\t91.19821249582358%\t8.801787504176412%\n",
            "2014\t94.26988942963611%\t5.730110570363885%\n"
          ]
        }
      ]
    },
    {
      "cell_type": "code",
      "source": [
        "#Question 3.3\n",
        "'''                       Year    Value\n",
        "Vacant Housing Units      -----   -----\n",
        "Occupied Housing Units    -----   -----'''\n",
        "vacant_housing_units =  df.loc[df['title_field'] == 'Vacant Housing Units' ]\n",
        "rslt_df1 = vacant_housing_units.loc[vacant_housing_units['value'] == max(vacant_housing_units['value'])]\n",
        "occupied_housing_units =  df.loc[df['title_field'] == 'Occupied Housing Units']\n",
        "rslt_df2 = occupied_housing_units.loc[occupied_housing_units['value'] == max(occupied_housing_units['value'])]\n",
        "rdf3 = rslt_df1.append(rslt_df2)\n",
        "print(\"{0}\\t\\t\\t{1}\\t{2}\".format(\"\",\"Year\",\"Value\"))\n",
        "for i in range(len(rdf3)):\n",
        "    print(\"{0}\\t{1}\\t{2}\".format(rdf3.iloc[i,1],rdf3.iloc[i,0],rdf3.iloc[i,2]))\n"
      ],
      "metadata": {
        "colab": {
          "base_uri": "https://localhost:8080/"
        },
        "id": "Epp4NXSmeGs4",
        "outputId": "ee850660-6925-49f5-d4e6-db99de59af7f"
      },
      "execution_count": null,
      "outputs": [
        {
          "output_type": "stream",
          "name": "stdout",
          "text": [
            "\t\t\tYear\tValue\n",
            "Vacant Housing Units\t2008\t4483\n",
            "Occupied Housing Units\t2014\t46295\n"
          ]
        }
      ]
    },
    {
      "cell_type": "code",
      "source": [
        "#Question 3.4\n",
        "#H = n / (1/x1 + 1/x2 + ......+ 1/xn)\n",
        "total_housing = df.loc[df['title_field'] == 'Total Housing Units']\n",
        "avg_th = total_housing[\"value\"].mean()\n",
        "sample_size = len(total_housing)\n",
        "pds = total_housing['value']\n",
        "sum_x = 0\n",
        "for i in pds:\n",
        "  sum_x += 1/i\n",
        "\n",
        "harmonic_mean = sample_size/sum_x\n",
        "print(\"Harmonic mean:\",harmonic_mean)\n"
      ],
      "metadata": {
        "colab": {
          "base_uri": "https://localhost:8080/"
        },
        "id": "-ueEeXAQlMGl",
        "outputId": "4ecddb0d-d695-447e-aecc-e0af0fd1028b"
      },
      "execution_count": null,
      "outputs": [
        {
          "output_type": "stream",
          "name": "stdout",
          "text": [
            "Harmonic mean: 44398.28543969185\n"
          ]
        }
      ]
    }
  ],
  "metadata": {
    "colab": {
      "collapsed_sections": [],
      "name": "lab_assignment_02.ipynb",
      "provenance": [],
      "include_colab_link": true
    },
    "kernelspec": {
      "display_name": "Python 3 (ipykernel)",
      "language": "python",
      "name": "python3"
    },
    "language_info": {
      "codemirror_mode": {
        "name": "ipython",
        "version": 3
      },
      "file_extension": ".py",
      "mimetype": "text/x-python",
      "name": "python",
      "nbconvert_exporter": "python",
      "pygments_lexer": "ipython3",
      "version": "3.9.12"
    }
  },
  "nbformat": 4,
  "nbformat_minor": 0
}