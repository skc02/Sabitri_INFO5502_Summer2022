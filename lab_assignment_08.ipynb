{
  "cells": [
    {
      "cell_type": "markdown",
      "metadata": {
        "id": "view-in-github",
        "colab_type": "text"
      },
      "source": [
        "<a href=\"https://colab.research.google.com/github/skc02/Sabitri_INFO5502_Summer2022/blob/main/lab_assignment_08.ipynb\" target=\"_parent\"><img src=\"https://colab.research.google.com/assets/colab-badge.svg\" alt=\"Open In Colab\"/></a>"
      ]
    },
    {
      "cell_type": "markdown",
      "metadata": {
        "id": "B69Qhvs6pUoH"
      },
      "source": [
        "## The Eighth Lab-assignment (08/09/2022 11:59'AM' - 08/12/2022 11:59PM, 50 points in total)"
      ]
    },
    {
      "cell_type": "markdown",
      "metadata": {
        "id": "pCQq_Gz5pUoJ"
      },
      "source": [
        "The purpose of this assignment is to practice different Hypothesis Testing and annotation quality evaluation."
      ]
    },
    {
      "cell_type": "markdown",
      "metadata": {
        "id": "-JKmhF9tpUoK"
      },
      "source": [
        "### Question 1 (10 points) \n",
        "\n",
        "During the 1980s, the general consensus is that about 5% of the nation’s children had autism. Some claimed that increases certain chemicals in the environment has led to an increase in autism. \n",
        "\n",
        "(1) Write an appropriate hypothesis test for this situation (5 points).  \n",
        "\n",
        "(2) Give an appropriate test for this hypothesis, stating what are the necessary conditions for performing the test (5 points). \n",
        "\n",
        "(3) A recent study examined 384 children and found that 46 showed signs of autism. Perform a test of the hypothesis and state the p-value (5 points). "
      ]
    },
    {
      "cell_type": "code",
      "source": [
        "from statsmodels.stats.proportion import proportions_ztest\n",
        "import math\n",
        "import scipy\n",
        "import numpy as np\n",
        "import matplotlib.pyplot as plt\n",
        "from scipy import stats\n",
        "import scipy.stats as st\n",
        "%matplotlib inline"
      ],
      "metadata": {
        "id": "C6DzwN4qvX-s"
      },
      "execution_count": 15,
      "outputs": []
    },
    {
      "cell_type": "markdown",
      "source": [
        "# You answer here\n",
        "1)  \n",
        "The null and alternate hypotheses are : <br>\n",
        "H0 : μ = 5% <br>\n",
        "H1 : μ0 > 5% , Where we are saying that a recent study examined found that the childrens have increased or higher level of autism than 5%."
      ],
      "metadata": {
        "id": "UHxIs6Wc0Rp4"
      }
    },
    {
      "cell_type": "code",
      "source": [
        "#2) \n",
        "\n",
        "'''\n",
        "For this hypothesis test, the appropriate test would be one sample z test because it meets the following necessary conditions:\n",
        "a) The sample size is greater than 30 which can ensure that the sample mean comes from normal distribution.\n",
        "b)The sample data is randomly selected.\n",
        "\n",
        "We can performed this test using following steps:\n",
        "a)State the null and alternative hypothesis\n",
        "b)Determine the significance level alpha\n",
        "c)Calculate the test statistic\n",
        "d)Determine the critical value by taking the critical value from the table\n",
        "e)outline the rejection criteria\n",
        "f)Demonstrate the result.then, if the test statistic falls in critical region. then, reject the null hypothesis.\n",
        "\n",
        "'''\n",
        "\n"
      ],
      "metadata": {
        "id": "hY0lnNnwNZ21",
        "colab": {
          "base_uri": "https://localhost:8080/",
          "height": 73
        },
        "outputId": "6b68fb6c-0db3-4e63-e0c4-09ed2ba0fb0d"
      },
      "execution_count": 16,
      "outputs": [
        {
          "output_type": "execute_result",
          "data": {
            "text/plain": [
              "'\\nFor this hypothesis test, the appropriate test would be one sample z test because it meets the following necessary conditions:\\na) The sample size is greater than 30 which can ensure that the sample mean comes from normal distribution.\\nb)The sample data is randomly selected.\\n\\nWe can performed this test using following steps:\\na)State the null and alternative hypothesis\\nb)Determine the significance level alpha\\nc)Calculate the test statistic\\nd)Determine the critical value by taking the critical value from the table\\ne)outline the rejection criteria\\nf)Demonstrate the result.then, if the test statistic falls in critical region. then, reject the null hypothesis.\\n\\n'"
            ],
            "application/vnd.google.colaboratory.intrinsic+json": {
              "type": "string"
            }
          },
          "metadata": {},
          "execution_count": 16
        }
      ]
    },
    {
      "cell_type": "code",
      "source": [
        "#(3)\n",
        "#Using statsmodels Library and proportions_ztest\n",
        "significance_level = 0.05\n",
        "\n",
        "sample_autism = 46\n",
        "sample_size = 384\n",
        "\n",
        "null_hypothesis = 0.05     # Ho is  5%\n",
        "# check our sample against Ho for Ha > Ho since recent study examined(sample) is 11.97% higher (increase)\n",
        "\n",
        "stat, p_value = proportions_ztest(count=sample_autism, nobs=sample_size, value=null_hypothesis, alternative='larger')\n",
        "\n",
        "print('z_stat: %0.3f, p_value: %0.3f' % (stat, p_value))\n",
        "if p_value > significance_level:\n",
        "   print (\"Fail to reject the null hypothesis\")\n",
        "else:\n",
        "   print (\"Reject the null hypothesis, which suggest the alternative hypothesis is true, meaning autism level are higher than 5%\")\n",
        " "
      ],
      "metadata": {
        "colab": {
          "base_uri": "https://localhost:8080/"
        },
        "id": "O4i0GRYQu0HC",
        "outputId": "24c34fbb-7759-4449-ab7b-85c2d2151ef4"
      },
      "execution_count": 29,
      "outputs": [
        {
          "output_type": "stream",
          "name": "stdout",
          "text": [
            "z_stat: 4.212, p_value: 0.000\n",
            "Reject the null hypothesis, which suggest the alternative hypothesis is true, meaning autism level are higher than 5%\n"
          ]
        }
      ]
    },
    {
      "cell_type": "code",
      "source": [
        "\n",
        "# By formula calculation\n",
        "#probability/mean of population is 5% = 0.05 = p\n",
        "sample_size = 384\n",
        "# sample mean = 46/384 \n",
        "# variance is p(1−p) then\n",
        "# standard devation = sqrt(p*(1-p))\n",
        "# z = (mean sample - mean population) / (std deviation/ sqrt (sample size))\n",
        "\n",
        "p = 0.05 \n",
        "std_deviation = math.sqrt(p*(1-p))\n",
        "# Population mean\n",
        "u1 = p \n",
        "# sample mean\n",
        "u0 = 46/384\n",
        "\n",
        "Z_Statistic = (u0-u1)/(std_deviation/math.sqrt(384))\n",
        "Z_Statistic\n",
        "Z_Statistic\n",
        "# we can reject the null hypothesis as Z-Test Statistic (z) is higher than z-score = 1.96, with p value = 0.05"
      ],
      "metadata": {
        "colab": {
          "base_uri": "https://localhost:8080/"
        },
        "id": "B2sDxIO17u70",
        "outputId": "685825b6-699f-43e3-ad61-00a5b86bca5a"
      },
      "execution_count": 18,
      "outputs": [
        {
          "output_type": "execute_result",
          "data": {
            "text/plain": [
              "6.27512493759735"
            ]
          },
          "metadata": {},
          "execution_count": 18
        }
      ]
    },
    {
      "cell_type": "markdown",
      "metadata": {
        "id": "U4vWvRdWpUoL"
      },
      "source": [
        "### Question 2 (10 points) \n",
        "In this problem,we will examine the sugar content of several national brands of cereals, here measured as a percentage of weight.\n",
        "![2.PNG](data:image/png;base64,iVBORw0KGgoAAAANSUhEUgAABJsAAACUCAYAAAA07ijbAAAAAXNSR0IArs4c6QAAAARnQU1BAACxjwv8YQUAAAAJcEhZcwAAFiUAABYlAUlSJPAAALyzSURBVHhe7d0HlDRVtT78ew1gQCSpZBBQUMwCCoqoqJhR0jVjeMGcRUQxZ8WcFUx4zTnnHDEH9G/Oijli1vru7zCb71B2V1dP6KqR/axVa2a6q6vP2WfH5+yq+a/mv/6rySOPPPLII4888sgjjzzyyCOPPPLII4/VOArZtOOOO+aRRx555JFHHnnkkUceeeSRRx555JHHio4zyaZEIpFIJBKJRCKRSCQSiURixUiyKZFIJBKJRCKRSCQSiUQisWpIsimRSCQSiUQikUgkEolEIrFqSLIpkUgkEolEIpFIJBKJRCKxakiyKZFIJBKJRCKRSCQSiUQisWpIsimRSCQSiUQikUgkEolEIrFqSLIpkUgkEolEIpFIJBKJRCKxakiyKZFIJBKJRCKRSCQSiUQisWpIsimRSCQSiUQikUgkEolEIrFqSLIpkUgkEolEIpFIJBKJRCKxakiyKZFIJBKJRCKRSCQSiUQisWpIsimRSCQSiUQikUgkEolEIrFqSLIpkUgkEolEIpFIJBKJRCKxakiyKZFIJBKJRCKRSCQSiUQisWpIsimRSCQSiUQikUgkEolEIrFqSLIpkUgkEolEIpFIJBKJRCKxakiyKZFIJBKJRCKRSCQSiUQisWpIsikR+Pvf/978+c9/bv75z38uvZJIJBKJRCKRSCQSiUQiMSeSbEoEfvnLXzbf+ta3mj/96U9LryQSiUQikUgkEolEIpFIzIkkmxKBT3ziE82zn/3s5ic/+cnSK4lEIpFIJBKJRCKRSCQScyLJpkTgf//3f5v/+Z//af7f//t/S68kEolEIpFIJBKJRCKRSMyJJJsSgSSbEolEIpFIJBKJRCKRSKwY641s8lyhz3/+883JJ5/cPOMZz2he/OIXNz//+c+X3p2Mf/3rX80//vGP5mMf+1jz9Kc/vXnTm97UfPOb3yyv/fa3v20+9alPNS984Qubxz72sc3b3va25ne/+115bxpOO+205uMf/3hz4oknNi94wQuat7zlLc2vf/3rpXfXL9aCbPKwcbJ5/etf33zyk59cevUMWBcPJf/GN77RvP3tb28++MEPNh/60Iea97///c073/nO5tRTT23+9re/9X5gue/56le/2nzgAx9o3vOe9zTvfe97m1e84hXN+973vuaHP/xh85e//GXpzGFgLt/73vfKfH/wgx8U3fvjH/9YfnpW1ne/+90yB+ct5/xpCDn7DDmTDzn7Sc5f/vKX55LzIvHtb3+7efOb39x8/etfL3YZMJ/f//73Zb3J5ze/+c2ZsnEb6Ne+9rXmRz/60dLZ3fCMMj6Bjn7hC18o+u97yTcO6/Czn/2sfMcYED7tK1/5SvGB9LuGtTz99NObT3/608UOrDU5vvGNb2ze9a53FR/Wd73Jmpw//OEPl2u9+93vLvJ69atfPZpnvP3iF79oPvOZz5S1+tWvflXGRF++//3vN5/73OeKndTz9R6d4mvMh296xzveUXyQte+7zq7pnyr4brLxeXJ+wxveUK5HF8doV8YkhllTumAOQK/4SeM2J3pFVuQp9rID/oKd9YHPsic6Ry6+z09yZ59D6475GgcfYm70xNr/4Q9/KLpEF8y7jh38jvPlCmKLdZaPmBN76AvX/OlPf1rkzL+HnOmvsXzpS18qfm1sMCY2JW9iQ239Nic5mtjCJsjpJS95STlfrkbmfWANyJnP4r8+8pGPlGuKXfz7GO2KT/7Od75T8kmymYV5z69BR9gw+fLHr3rVq5rnP//5xQex2zHKh+3wB2Ktec+C88nF+WyxD8xbPiOW0xc+h86ErbJrMa2vHiYSiURihVhvZJMA+7rXva651a1u1VzxildsrnGNa5RCqAuCz1//+tdCNF3+8pdv7na3uxUyQkCSVAfJstVWW5X3BGrnT4PgJzm44Q1vWL7/Tne6U+9AOGasBdkkgVbwHnbYYc2Tn/zkpVfPAPmT9Wtf+9rm/ve/f1mf5z73uc3Tnva05kEPelBJ4BWLUQhNg6TBtZBT5vCUpzylfNeTnvSk5na3u125Np2RBHeRiGsNRcxb3/rW5kUvelHzspe9rOigREgShBTzt6Ij5ossmOf8aZBYKagkbMccc0yRLzmTNzkjK9jV0IVfDWtqPMZMJxXvNaFClpLV5z3vec1znvOcUswqRhR8Em/rrSCaBb5BAXTrW9+6udGNbtQ85jGPaZ75zGcWEpmNx/HSl760JPZjeZ6ZcSO/jPOqV71qGVuNSNJPOumk5oQTTmie9axnNQ95yEOKf7vjHe9Y5KSonQV+EJHzmte8pujNU5/61HK9+93vfs0RRxxR9BJxPzQUt494xCOKLiNUycMc6Q8Z0BW2H75CzLBZYIPBfPgavz/ucY8rc4qCZBYUxObPRl3HM+8e+tCHNne/+92bDRs2FBtFVowJ5o8weNjDHlbsX1EW5BH5IFwUZ95/+ctfXvwNeSrc2CHbmkXkug4yhU/ma44//vjmwQ9+cLFXvz/ykY8sfp9/H7IoNk56Yv3ojmKUj1WwI1MV8nSBv3GuA9FBr8yBTfAZ4gyboDtsj4xnwRrYAKMv4lbImS9DsLA5/n1MYEPWNOwGcRgxNfIscyLPxz/+8cVf0CPxn5zIml50rXnIGZFO/8QssYqve8ITntA8+tGPLnLmv7rytCHA1un1PvvsU+LQLDifPV3pSlfqdT7wS/SRb7Hh+qhHPepM3369612vOfbYY4v+yL36+LBFINaU36Ubt7zlLQsROQ31+ezS+ebbB/Im/p5/53P4Hwd9lQvaHBbHh8wFE4lE4myF9UY2SVR+/OMfl2RPgteHbBK0BBZJwO1vf/sSoBWiXpcUKjYFsj322KO5613vOpNsUtxLQBUWd77znZNs6oBdW8nmZS972fKzhqIGUSBpV4RI4q2FREFCIjlFHNUkwyRIqHwOMSMRtbZ2662ROd3hDndoDjjggLI7qjgcCpJjcz3wwAObi170os3FLnaxZvfdd28uc5nLNLe97W1LcUG3Igkin3nOnwbFjx1P16KzknjyQjDZcSZniZi/xwJ2aZzHHXdcs9NOOxV9qAsvsvzoRz/aXPe612123HHHM2VDz651rWuV8/uQIOSHlLnmNa/ZXPCCF2y22267ZocddijfufPOO5957LnnnoWEWk3bWAn4QUXKkUce2ey2226lOK6BfHniE59Yimf+ETHFjhRse++9d3Ove92rkDKzQOYKbkWf4oBdIW0VmQi6Qw89tPjTocG304Fdd921yIMvv+QlL9kcfvjhhSyk2/x9kHTIJXaFPEGcKPoQH+zB6327VXWfKKrJSBHu2q6nQLrCFa5QSCd+aUxg+wiVgw46qKxfm2wiByTKNttsU/zOxS9+8SLPvfbaq8Q7pC4Csguuw4/z7zZ4wh59dxBQ++67b5GN4nAoGCf9VaSz8/Ajjpvd7GZFd5DefKxzHYpY5If4omg1T51xCJWb3OQmhVChB7PAtvjjbbfd9ixytol29NFHF8KPvMYEsUTuxR/e5S53OQvZRE5yMzITb9gBfyEek/GNb3zj5qijjirndG2QsFExXVySj5GnjjGy4HtsIiFU6I5rjQkIWWO2pq985SuXXp0OxGKcbwOpD/gl+sYnI0TZKzl89rOfLXmUTVB2fcopp/TyYYtA2A5/EHaio3Qa4nx+os/5NfgZBBz9ISN6SHf4OX7NezaPxrS5lkgkEv/RWG9kE9jV8Z/T7nGPe/QmmxwKRQWW5KdOBiU3rqGI70M2geQ8OnKSbPp3SEAlOnbYECO77LJL2dEOSCYl6QrWe9/73qWAiYJHEmB31PkHH3xwKZy7dugkrrqnHv7wh5fuFNdCKnldwqVAksxJxIZcJwSJMdqlu8UtblEKYWSBnVvJj9tT6CJdBfKb5/xJIDf6jGRlLwqYSEARFnbSkYDXv/71i6y65LwomJP1U/Cb92abbVZIkppsUuwqmBHO17nOdUpCSk5IFLvpSM4+ibY1Me/73Oc+RU8f8IAHlN1Q3QZ2i+mmMZCPwqpPEbnWYB9koXsPYYBsU5DVQH7c4AY3KIk1OYUPtHu+//77N9e+9rWLnGZBAUMWbEgRGSBfvg8BwWey3T7dHGsFa6ObQKHFh9385jcvusDm+Y/wLfSbDbArBAM/E0SC9xSwyCbkK58yCwoghKeuKmR2yFmc0XFGzki/McC4zBW5quhDzJJBm2zil5EFxh/yvM1tblP8sVt1FG+zCjU2jMhDSCDdkJ5iqusjlxTJyBXEAfJpKBiPApTvcOjWE5Puec97FlKJDoSP5S+RkvSdH3ZbGP9B78mPnNgD8tHGySwgq9gUeww5+27dZogHNj4kETcJ/IENHaScvKcmmxT0/JDOSbaHiBOD+UxENT999atffSYZh9CSg+gM5N/b5BQCQRcZn80PjQF0w/zZDWJkiy22KPnUNMT54tpNb3rTmefXQLzx/XwO0ty1gNzYEh1mczbq+ujhIqDL6otf/GLxIXwO4rGLPJp0PmJuFvgY8U5dQE/pa8QlOYPv5JPYsL9DdxOJRCKxhliPZJMETIEooanJJglhHNMw7RwJ+Cyyqf6sYKhwU5wm2XRWkI/kUBHjFhZER5tsQiZI1iXngr8dy5C5ok+C6Xyfs1sokZoG5KNz7Jpe+tKXLjuvklnXs8t13/vetyRzSBXJx1Bw24QiVpGv4JU80WNJeSSMNSadT2bTzp8EclZs77fffkU+5ByfJWfXkrTq6EHudMl5UTBm9iSRPuSQQ6aSTXZ37ZjrDojbXyTikksFYh+Yv8+ZO9maf3ye/uiuQpgiLervHwLhe6whYkMyHZ1dbbIJEa6jhD2TY0CyjcD13gMf+MClV6dD95guCwUx8i1ALorqS1ziEqUDBAFRF4SLhjXkZ3QU6VIlHzv+bVKE7tMXPpvfUdDUQFQjEsSBPsWfGIC0UeDp3gn4fkWnok9hPAbQHWQJgs3tSLpTppFNSAT+kgwQBTZ3+NS+ZLTzgtCjb0jtGvy1Dju3/rCvoWC+CAK3hdEh9kE+coA20SPOIIistU5It3JFx5wDMSL+8LN9iErXQm4ic9kovSUn3UDk55pjgfHwy7opbVq47QshV5NN/COSjE/itxEf8iS6pQMQYa9rS/cgHZsGvoT/soHATtu5mFgoN5A7kF/Ifyj4bqSjtUMCzSKP4nw25XyymodsEs/pGmISWRt+13XFLd2Uujo9aoJODw36EV3UfKGYxCdMI5ucH12m9fl9yCY5k46yLbfcspD88oTIBcQC4yAX9ut5YLNI80QikUisApJsOgNJNq0u2aSrxK6tHXSF+uUud7mzkE1k7DYwxaqk1ZpG0io5kNi67cutHHaYu27xslbWz/fYVUVCIA0UlpJcBY3ncSFthtzpkwjZbZQMGZ8k3DynkSPed74Evs/5kyBx12GgINadMknOCk/JmbXqKgIWBUUK0kAyTmemkU18QNzeRTZkJPEOG+0D11FsI6kU4mTjs4orOqyNXyE469aPRSDmhTBVHOtuYzuTyCbEGTKJ/tS32Ol40m2ja8VtBrOArLUWui3qYojMFMnsV+FD9n2JiLWAQk8XGp2gC/wz+2/bieKCXHQJukWz3RXr84ppt6H06UjSWeE6ikbP3AkopELOSJcxgG4bF3LH+omd08gmxAcSBqlIluF3+toVXRCfzV+XGX2sQVZud7UOnic2FMzHhoi5ho/1U0xp6475e49e8EtxO6HzvKcDUg4hJ2iTmJOAbCIHPkacImfXDzn3lfUiECSljj3x4mpXu1rpLKrJJvGNLiEpdVSGzwwiRmdT3DrpvWmQf/BNyFrfQR412Jzu080337wQfkMTc74bcYF8l/Mg5S90oQt1kk31+fxo1/ltRE6DMImYDqEzOk7lW+RX+6ShwHewBxtDdMPYEXLTyCbnm2P7/D5kE7nyxRe4wAXK5/n70A16wsZ0MCO6XQ+xm0gkEok1xpjIJkFBoIn/DCQpUSjZJbZDIznzfk026djQleDWOAmNJFkyraiS5EgEJTySZrtlnrWg2G+37k8jmxQsClHfL7GSYEq6BCq7SoimIJskXRIuQVTh7n27cDEfwc+4tE9LoCRwgqoEzmd0ESCwzFeRJ1Aai2La9eyc2xF2nmsaCyLBNcmDbFaC1SKbBHDjswtqLcjbjmZNNkkKJPier6JIrBNGP/3tYb2SsFm3WpC7IoEsyZHMEAX0xXfYabZ7SDfIfChEp1IQAPQISWD9rHmbsJz3/EmguxJapICkbZKcXR+hQ95uzRsKbNW6mSdyiQ1Y+67OJgSiYo19sgt2qbPNZ3UizAJfomMjCsyAnVX+RzHjukFCDQlrxW4UEEg2PgXRMYlsYoPkiJhCHpgfH6ew9/wyt2LyJbPArhC0rsWH8kk6q/hSJIJbj5C8/Fm7OF8k+FlFBAKOLhivuEBWbCB0wfjZgduWFDJtX0dengejO0MROAt0J+TMHvlga0QmusEUy+x1aIiB1o1tGI/Y6DbLaWSTOMRf2xAQZyI28UM+O2kzpgZdNXcyEFPaZBN9RTY5dOgNBfPlW5AbfKp5miPbN8Z6c4J+mxeyw3n8kXhi3Z0ft+KxK7KeBfGJjiJy3Z4YuYU8w1hcO7pQh4Q586fkZN5ugURUtskmOmHMNgnkYuIXXdHlRb46IMV69tGVq4jjru3WKbbYJpu8j8DdaKONypj48CF9s3Xkf+RP9AAZ10Uexfl8eJx/4QtfuDfZxOfw/UhS+VXYonXg33Rs6rDTkWodhoZOrMhZxGo60EU28Uft8+Vvfcgm38Wvn//85y85cx232S9d8gxPm2828bo2MROJRCKxShgT2WTXQSKh6FVE6WwRMOziS3yRF5KeIJvsQLsdJAgkO/AKZ8HWbrvdFEm26wrOiCSkh91UxVKNSWSTRM/vkgJjUHxIbnwP4sj3K7iCbJKU6SRBEEjGFIESSQWeuXimiLZgu+mKasWysZub3VIdPH6XSPkOu39INAW3Zx3YydK54zNajI3FLpa2addXIK8k6Vop2eS7ycCYFX0KML9LpLW812QT8shauU3ObW6TQCY6ksxNEtEHkgsJLj1B0kksPPuBHnXtpi4Ckm9ztvNJJ5CHHjptvXVbKOwUfWQIfp/n/ElQLNFVz0ehJ5NAnzwcm34P9QwMusPmgjCUhCNlzXcS2aSoUcBKLMlCcY9UU9SwR7ps7q47j03EOBScrqsA9F1DQ6KMMFGcOvgrhcQ0sgliLuyBTbNDRZyOG0WKoqUPXMf3I6wUSsgcnQtXucpVim4NSVAGzF8x65ZQusBW2A2d5lfj9kqxg08gA3Mgxxr8DJ/Nfyt0+6CWs0KaXSLzXMPvQ+6eG5vDWls3diV2Gq9ifhLZpAAzbiS9WMz22JY58T0IPNdz7jTwSc5F2vmeKHpjPArHK1/5yqXDgJ0NBWNRtBsDXfa7WEGP6AE9EqvJqwZdIjP2gHDRYSLn4K/ZaZdPDojXyD/xSX5Bzr5PTKe3NkeQViGzoRAEkrnxqfRILtImm2rIneiIOC9XoQdIA/OddH4NOYM8ByFsXdpkk/yJ7Z773Ocu8cH6DCGfIB/Zg9yUjxWTppFN9fnyzzhfnjMP2TQN9E7eIyd1++7QndzmilQUa8yNvZDTNLKpPt8mj/Ppyzxkk5ya3z7f+c5X4sAk8GuXutSlSlwgr0QikUisMcZENtk1UzxKviRdnqei4BR47Bh6JodOniCb7Nx4UKXdD8SSbgeJvQRZ+z4CSkInuYnAFUlhH7IJgeQayCkJgSTceHyPRAEJ4r75IJskPD4nQVT0xn3zAq3xIackABIwRY2EyXMMBFGFtORM8LPTa8dXUmc+xiZxtxPtdcSZ88nHriGyxjMU/N4nyZ0G41wJ2UTOEj+FusSZ7MllEtmkQCVT/4Wni2xye5eisc8zMMDOngROsUTWClAEn+4xxeCQkEiRBbIg1ttBFnQbGWScQW7E+RL69vkKZufbAewiQ4LUYyddZNOmm25aEnvJ2hBgO8gMt6zpoEDMKTKmkU3OVdizY0VZ2CU9QcxJuLXTu4Ykvy/oMPu3e69zEvm1EptaLdBrRLbdWPavsFCUdZFN5k0mCES27dYTRZxD8d/VXVDD2pAjeZMLu3L7noKB/MlraPCnfK71pwsOfsxY7fKTm9fEDh1QHgLeRTaJH9P8UhvkzAath40J/kpM2PB/cYwP7yvntYC1Mz56jNCwAWA8XWQTH4NcUIyJWyFPvoYOuR1K10GXXbAjsiAD3cfOh9AlenSRi1yk/Pe1vqTeWsB4EHDGI16Jt+bP1sQNflne4O8a/BNd4ZvdDuX5QvRF3DH3Pj6HTMUqvs21/M1e2TeyiY7ybeRsnEMhyBSxhJ70IZvI0GYPv2MuyCZ5Gb8zSzZ0lNzlRrPIJrGN3IaQD0LNeiFHyIdd6f6cRjbV5/Obcf5qkU06EsVLJJ34h2ga0vfIBa03fdaxZ/7mPo1s6jq/L9nkc+x2FtkkN5cntP1/IpFIJNYAYyCbJB86kNzyZMdZgiGhCegukFw4EBk12SRotIkEQUSC63p1MPFZz1OQAPchm7TDKxoQFggvSVUkNYoLD5pVuAXZVEOg08mkwBdUFceSNsWQc+PB2e6rVwwqHhWUurAUSLoGfKedU98liUC4OV9RY3ySUEkdeSFtyEyAXi4kOyshm6yL9nByQ1qYiwR+EtkkydKxNauzCdmEgJSA9oHElMwk7wpwRIpkRbebsXURM2sNayYBNL4gQeiTMcWDMO1q68KY5/yu3TmJuf+21KezyfqwqyEQhRcy2RjM0zGNbCIbBZ+51x1rUeToBGRfdJlt9QU/hOxSxCCryH4MMA7jMje+iu0jCWZ1Nik22CC/wy51XfJnCG3+sA9ch+8jW3bIjhARiHsFJ1KhbzfHWsHY+BwFCxiztdRVER2mChk+il4g7bvIJs+k0cnTByFn+smXK4roD/u0IcHvDwU+gz+hHwg3sc142c80somMbJjw0Xw4uA6yEbGikNb900UyOh85wX7ZonhH1vTE97kOAlzMpcNDwXzJhx+pfayfyMt4SHW745OMzB+JZ33pWdgDWdPHWRDvQ84hfzAesVHs45vplTEtGuwH+cbvIJXkMGy8D9nkXLGL3HyevxGD2dys2+jkNwgBm2uzyCbyEQ+HkI+1s3Ekv7MBRA7GNo1sIsv2+WS0GmQTv+e6nhsmn2LrZDxpbRYBeiJm2TSmLzZG2RRdmEQ2zTq/L9nEx/Pbs8gm/xzB+3QxkUgkEmuMMZBNAo0dHzucO+2005m3PQQUSwKQQCLxCrJJcofEkKzVQDJJhiTEEt6AIkny0pds8nm33elwaBcMgjsyyHuTyCbFsYJF4tEmShTHCn//pl/gsxtjjnEYv4LQT3NDpOneMl/fFbKRSEjq7KSTm91jCexysRKyibzs/hqznSnjCOJH4kOOijhjlkRIyty2sOuuu5akNZJ88NN5ChK30dmRt8M+Cz4XByDefI9kRTIn4VVMDgHzIRN6roCrx4k0UVz4jysKM8l23/M9f6eLiKPX9FgHgWfVTJIzchOh49aRRcvHGNi/9VWQIpwk8cblUEwYm8RQZ6HXfEYhpMggm5pgJTP6i6zVgSFZ7VP4geuSreIXmRe38g0JY+Lv+D6+hD6br4OeIM932GGHQkKRTaxvfdRAOCniyAeJS44+Nw3TrqPIVoyza/8WX7E+D6m3WjAu8lGs88n8UA3kpc4m/tStvc61QaDTQrdo29eFTHWViBWzME0+4oUOA3Lm92bJeS1AF+iJzRhy4AvYi3GwE/GHHPgPMSZ0xzlkqVhlmxCvi0PnPOc5i310dUE63/fokBKzkJwKbXFSp5BYr3vMM52swxAwPvIxd3bf9o3yEF3NbrlhNwHvxXlARvRKxzR74GfJtH1eG2J3W85Aznzhf//3f5f8gu13XWct4PvEHjmTdTMGYyQzJLVbRMVVnSc1Sdc+wByRTjqVdGDLM7qelYOMlIexH7bYJpvkRGIVsklsI6/4rkWBPYtZchO5qL/Jx9iCkI0NSrJhb13ny0909cb5fefjXPKhb4hdBLLuOjL33lBgU+Zpo8t6mpeDH6LTNk3ZlNfMVSzvOh85Ja+M86fJxzX47XhmUy1LP31e/i8meFRFO29PJBKJxBpgDGSTwKuIQqbsvPPO5da1um1dQigxk5QpJoJscisHQsdna6wW2WTHyXjslOiuqiGYzyKbEAcSALtYNRBmupQk2nZOJfDGE4fnYxg7EkrhHWST2/AQM/EfwwTOsZBN5qTA0sUkMVX8SQLJX1D3bC1dOMZrjORtF0vHjXlZU/MBCYK11hUgCUOG9BlTJCGRXLiO75LM+dfCiitdGEOAPEIW5BQJeryHeNNloLBRxPU5X/Juh66r6EP2SWKdR08nyZl8/GcfBWHbltYaxqDQo7u+X6JJ3+mOw2u6rszXLnCM3+/mRTZhD8BuzZltORSMXR0YNciY35GwI1AQD8YwJIxJkeIWJn4RqWP9yYh/sIu9/fbbF2LMWgap0baFgA4nduiB8W61YFc+Nw3TroMw19Wge5MPRuT0lfNqQsFGPggVRVb7uWzGaEOCrfDF/AGfrZBFKrb1HdlpIwAJo6CdhWnyQdoqlNkzwoK+8n2LBF0QP9gJ3UGcsjU6jUggE53E9IjcnM8e2ZTbgvgVegbmR3ZIkHOc4xxlk6Sr0yBkQrfYo++gw8gJOmhM4qMikm0PAWMTt8mGntQ+1th1K/mvhIgDpHUg5hbwO5sThz2DSpcxgqZ9Xht8nniPkLMeAXImH2STLjxFdtd11gLkgAhxC5xOLZ0m4ZORBGweqUZ2dIrfjfnWB7BRsvZIAf8QhG+VI0yD72U7SHH5jnWpgbiSx2288cZFH+WH8V2LAnsmBzmg/I5PJhu6LW+xSWZs4ZPF8q7z6ZhYFedHjJ4F51obnZT8GSLQ32S+aJnUoDPmSrflhqE7Nh7l2HIxvsAGhfXlc+J8G65xPv2K8xFP5FPbaRs2QXS9IZtsVJFPyMHnyP3II48s/62P7RlbIpFIJNYYYyCbJAuSPkk+0kSiJeDUEDAEC0E4yCZFgx22tSKbkBw6QhR0PlujD9lkbG61q8cAClrJus4LiZckXHEShyJXAWX3T8ANssl32VGWvANZjIVsMn8JuYSJXCTIDmQJsk6SqbjVOm2OZOJ3Mic/RRGZg0RJ8aMjQCEt4dCCPg0SFt/luxFYrgV0xqHI9HwQhYDfhwD5kK82d11J1tU8QQJE1xR/dsbptvMRY13nS8Y9CFSBPA12DCV+Cm7PeSIb9gauJzHVWRA7qyG7RYEOGwOyQNKNrLSW/kag0I1NNtmkEMv0wFzNn80oBCWWuh4D5qbzT9eEYpYutgmIaQgCx7/nRgYjsfiaIcHnmbO582dIAPJRzEqmkdUKFc9DQYgrgozbs150Hul4qon72Enffffdi76RXRAKNdgN/bBjjnRXJCACAz6jYNxvv/0KkaxrcIhbEqy3NeZj+G7FRg0+SWGhC1B3nOJDd4H1dVsPP1uDDPlkdsd3T4NiB3mjSKK3fFlduFgHdovk5efFj5pQWAQUZmyBX0TohE9mO7qLdJnwC24795oYaM3ZlO4v8goilz64ntiqs4nsxJtZ8Dmy0l1IP8ibL6fHZOM6NZGzSLAL3y0WizX8CnsD47bpw8foHGRv1s9zJcVivlkOEDELEON8BxLE+0HATAOb9d3sur4VWjwTN5FN1oENd11nLUAP2DvSx1j4Ywf90WFp7XSnIKPoDt2Xl4hx5MN3B2Fi7A6PPbB5ZxOgvoWqDTrnGggG869lDGwJYS7niWdkLVo+ZCOH5CM87ytsy1p6JpwNEmNE/sh1+Nlp5+uIa5+PwJsFcpEniNvyTTrKL9Nhn0fKDdWZi4jmV8wVkRvzdau+zRxxQ8xgT+Iz4mme86fluWyaLHRD01M2G8SUz6gr+HbXQ2yx4UQikUisMcZANklsFMVIE0WQQlpRFJBICKwCieBQk00KyrUim+xs2vnVcSXRiqQJBHVJvGRZElXf9gfR2TSJbJJ4S+iRL/FcmUjMQAFlngr/IJvMRcGNbIoCwGe8PwayicwUXhJ0hE4cxia4b7fddqVbwNpIRBRj1s06kZ/kTTEDCkJ/KyAVihI1r0kaJOISiCBNrAd50gUEg8IuCkjv0S3j8P2IHAX6EFAEK0bcVmMHMpJCY/S7LgoFsZ1+59bnS/innS/hj/nSB3ojwYzzyUgho2uKriH6osOCjvse4/HsM+tHzouEMUseEWK13iiOFevmd97znrfYCtLD7qb11knDV9hdr29xUTDyDXSBfBRqfIvvYRv0hv6QTXt3VLGEuNBij3BQFJPfkDBOO+GS8Vo+bjew68/HSKx1BypwkSUScmvqdQ90tnse4Fcl4Tqb6IQ1Jw+6QHbmTIfIhi7wcdtss00htequQPolWZe0+zfSCJchyCZjRJ4ZH2Ig5spOyA5JR0/in0KYp9f4C+cj8szV+X7yTeTCz9bdKXxTxB/fSZ/4L/7NLjp516RvkE10SQxB/vW9nXO1wM7ZvgKurTsINzbv4F8QS9aTzBAgnmlFruIikAFSWGxmj+bNR4ec6Q7CwXfyuV7nq32GnLxfy5KdIXEQLu3O30VBzEZqHHTQQSUnYAcRU6yvWOFZMbp4+CdrSia6+egOf2GOMS/+mj2Qj/nxN143dz45rh+QO9iQQgrXOQwfpfBGWslXbD65ziJhTeUBxlHrjsOmoE0gckEG8dVyHESJjkEkplzFNYBd+d3GgWc0imnszJy8xz/zO3THeeQkV9MR6B+wkB+dCvCFbuEL/zUEyAbJ1paP20ONi09AOolT5sIvO18+2D4f6e98HTdxPnmYs/yO3yCT8FMhNzmXa5KFGEjH2JbP8PPGVufRi4QYbC5t+fDD1l+uHZ1xfIx1nHW+3DzON0e+3JwddIRM2ByZeDxD3CYduoOA061po0FuEHl+IpFIJNYYYyCbBE8BQYKmuNSBYXcjIIgIKHbYFFISPIm9hMYza9pkk8RZErdSsklgiv8C51oS0Ej6JAN29SREAmK9MwlIFcmY4Nkmm4xf8qFAlJwiU4JoAWSS4BstyAo7SYrzdVmNkWwiL2ORFEmO4jAHRZeiRoEXiYGCTVJtN0+ydPLJJxeZguvocEE2SWYl+XTAZ6w7QkvBrPPL677HtSV5EjznA/lIZBEzbhNTkLbXfVEwV8k4wsRuehRkflpjtxgcccQRZZ0VtbPOl4Q7n37RV6BXOhbov6SMPMnHmtB79sKGFIBxvp1hCS+bU/Q5f5EwJ7qj0Kj1xtjpORuz66uQQ5Qp9hUkZGPNFS0xH0B4RFchWzH30E12SJ7R/dYmkrzvdoQgJ+K7hgT5sGmJci0fOoIMQQxsvfXWpVOEn2Bb1pFP2HbbbYvt1f5RNxLy3O2rdMhOr+u7np1k57sWPSMftuY6CkWEeyC6GJDBCGMkIJkuGtbWd/O37CTGQI+DHCEfD3vn1/gEvp4eIILoj2uQM/+CUNPNioTQNeB1OiAWIJTIho65Dj8Tt8AgIerCTrEllriW50XxVYvukjNGc6LHbd2h655LZe0QsuYqBll3Poi86E0Q0+QpfvLXCjn+mU2RD1ulO+yRXQZZqbOCXMQ4ZBs5eh0h6HWEMJ0aqntQbLCuSCW5h7kbH7kZk/norhFr6E6QTYg4OQRdI18y8JnYHKFX5uVa3kME0Cd+J2I30Fl6aC3YbUCOw1/rAmJj3nOdRcL3mVutN3GwAXO0eWFDjhz4EONGNiFP2AV5guvQEfHKQ+H5EvZBZnwM2dM3eZD8gJ7wd8gImwzINjoV4KP5PZ+JWL9omJN1acuGnos7iH52RMfYkGPa+Yht+Ul9PhmIXUhOZJ64TcZ0ysFnkb2OPHrFj8m15EdyR52oOoEQwkNAbmEu7fnKTeQ6CF4+RMwiS75k1vlymjif7siDxHoHG6NLZENfxDayUUc4H8Q6dkivPK/Qejg/kUgkEmuMMZBNAcm64kaSZ8dT8SB5dQimkhwJiWCiiNApI5lHBCmwBCfvR5IvIZTISObcDmJHF5klwUZAKF4lQQKyol1yJ1GS4EliEEi+W5FhJ9h4JFRutVHoGadda23hgqLvETQRScYgsTIG3QG+SwAGSZix2nF2DeNCgsRctaAjDVxPwm/uCkRdO/HcIbJSwBiTJE7BY07GJ0lZTpG8ErKpDQGeXCVCOpfsYiN7JOHGLmkgD4kR2UtOY72dY7dXMmmXyrkgCSMnyYJ1JFOy9DrdMH+JHrkqoBRA1sVaSILp1mrMbTlQvEh2FMaSJnN0K4FdWkUHIohO02NFn/MlU13nS7rjfJCg65hDHOlWiG47SSoiUjJLRq4ZNkWvEQxxm8gYYL11axmnDiO7vkhHtkynrDfdZyfOkVCSDRlJPNkrktjfUUCyN7qmI4HNsaua4AWvsUWkM3ujn5LasUFxpwhR+PKBChvryvcpZukZ/4F4RdKxB3MnL8UtglyxplgxRzLia+gf+dAhiTsfwp/QNaQf2bIresOn6XDQtUiH6Fr4t0XC+vDT5KHAosfGp/jwzBRyMU4+OcgR+mMeXld88DFIOHpk/b3ub/rhfLaIlHWLlCLFtbzOXvgsOoqQqOXMd/F35MzvhJyHhDHzKcZvTG7BRY4YO19Jd9gKkogs+FQ2RJbkSnfc1mK96QvZOx/5Fnbjur7D63xTdNHRQzYaxAvfRZ98p3ENATGKXzB3MZUeGKO5sg3kkYI9yA5ECMKNDBD0znO+z/FNyBddE+woOsJAh4b3dDLJQwJ+r+VMb12LrHyH79Z5Ss5DyShAVvwOu+AfxHOkG19rTRG71lK89VrcWsrO+CIyIRv2YK7O51/Yolglh6E7QfDSH3Kha8gWNkX21sr3yw/bJNSQELPkheyAD/Xf0Gyi8Ut8o3nWiPPjVmjni0v1+WJckC2uJb7TBTkreXhdlx1/7nedUQ7kNjmzMXY6NKyz7mW+UX5mg1g3rBhNn/jReuPH+fRj1vn8C+LSXMkxSGvykSfxwQ6EnnxH7oiAkgfRJYRdIpFIJBaAMZFNknFBRpEgsNidFxiQSRIRJIVDsiII2e1QANgZkqQpOgRnuxpauQVxya4kLgKNLiWkjc8oVJEPCgYFlWshcxQUCjeJqIJDwiRh9LpxIFD8rZCRQEUXhe+RkEmiIxEwBvPwXUGaBARg11bIma+5OrQTS9QkF5IF5ILrIbaMHxEjwZNsKTi1+nv2hqCrQ0jXQezmzIPVJJskSwK+uUuGjA9BFGNXEEsoJQ2Kn0gqzd9PibZ1Ng/nxTXthiGP3G4mWZcwSMAkna5jXSR8klvFkWRE0UCn7OjHtYaAudjRtUbmh+ShU26Holft58eQzbTzzae9a0lfJPm6cnQgRLed5N21JGrkLDEjZ7KyHoomYyPHMUCxakyKCvYj0aSXbIROsUvr7ifZsHGyMRdFmkP3RJ3gs0s2RRcl9Yq4dgEguUcYSNYVM5LeIfVlGhDhfCLSlQ8kH4QuP2He9CBkyBdZbzbBXyla2AR/yR4C/CoZBtmEoKQPfBY7U0y7jgKGXdEvJIvrt/V2kaDbDj7L/BUX9MHBx/MD7KTuHAG6w8eTi3ORC2wM8c1Owle7NqII2eR2Dv5MoRLQVajwQ76Rj4MNslH+WGyJzsOhQZcR9Lok2IBbMBVyiFy+QJeP+Vp7hBMbsNbkY05IAfMkuygOXZPsydGzu7wv/riO85ApSE86RTauxQeJx4rDMRBw9FdcMUZEj7mKMWyMTALmyicogsOuHPQGkRR+WYdGyAfEMzIgZ3INkLP1mCRneYyieTlxfC3AV/I7dAcRb62RTWKNcSPqzRkhx++YM9tziFl8hTyHPvDdIUt2GWQT+40NEiBHNsqfkzOSkqzYKAJhLPEK5DPyQnmgjS3/GMCcyQFhTy41+pzPjuhgkE18EnsR18nB5+JW2PYhP0LWiQNDg57LY/kIZBi/I9cWh+gTkrLeqOh7PrKJTdlco2dBNtELdkPX6CZ9ke84RwzUAUZX2X4ikUgkFoAxkU2cvwTEzgUixiHoOrwmCDkkKIKoHVUJkN+9JsA4VzCS/EhcFJneQ0YornzGrqPPKMp8Joqz6GbyvZIrYxG47IhLnL1uHI74206cZNvnnRfjr8fgPN/fTqwlXT7jfUfMVZLldeebb8zJuI0fIWdOgqv5+Q7fJTmJRHc5RfJqkk3kRq7mFeMj2xh7BHvjJGuvk2kccZ73IymI4lei5lrmH++TFWLQZyXpDrJBICj2rAl5D5lgGKskyRqZnzGSD90xvkiWAvOeTwbOowfmHIVKyJl8JsnZOtVyHhrWyZiMje5IPNmZuXudjRmvn2RjnR3OZ+MOcquLEeeyKdcjP3ZVvw90kp36Ltcij7HIpEb4OXbAH5APPfeaedODkKHXwiZCd5zLtpwTIA/nkI+5hz64Fj0j57gOWdMvPsn123q4SMQahUxifDFGfxtfe63pA78T54eNmSM7MW9wbZ+lF+IDGdYkZcg5YoLr1XL2Xi3nIWEuZGGsxsfPO4wz5u2c8DvkEbL0e/jRsL+4JtmbNz30fvh255k/PfH5kLXfyZNcnTckQibiSszXT7YV9hQI2fAjoWvk5nwyDL9Md0I+4Bw+2Tn19Zzju0PGtZxdv5bz0LBW1pmdmIe1lo+Yl3HzH8Yaax62EPZAB8J/O48sHa5rvvyOOUfMAnJka/y563nfd/ndGgytOzXYeNiV3AR5b87Gyq7IpUaf89mROXvdeeRhzmREDnx/bMC2D/JkY2PwPdY74ou58Dl8KT0Kf1H7577nO8drdNC5YSthp3Qt9MURuki+oYOJRCKRWADGRDYlhsVqkk2JRCKRSCQSiUQikUgkzqZIsikRSLIpkUgkEolEIpFIJBKJxIqRZFMikGRTIpFIJBKJRCKRSCQSiRUjyaZEIMmmRCKRSCQSiUQikUgkEitGkk2JQJJNiUQikUgkEolEIpFIJFaMJJsSgSSbEolEIpFIJBKJRCKRSKwYSTYlAkk2JRKJRCKRSCQSiUQikVgxkmxKBF72spc1hx9+ePO1r31t6ZVEIpFIJBKJRCKRSCQSiTmRZFMi8OIXv7g5+OCDm1NPPXXplUQikUgkEolEIpFIJBKJOZFkUyLw0pe+tDnkkEOar371q0uvJBKJRCKRSCQSiUQikUjMiSSbEoF8ZlMikUgkEolEIpFIJBKJFSPJpkQgyaZEIpFIJBKJRCKRSCQSK0aSTYnASsmmf/3rX83f//735lvf+lbz7ne/u/nABz7QvOMd72he97rXNW95y1vKs6D+8Y9/lPOWc34f/O1vf2u+/e1vNx/96EebN7/5zc373//+5r3vfW/zvve9r/nVr37V/POf/1w6c/Ewtu9973vNN77xjeYHP/hB89vf/rb54x//WH6SwXe/+93m17/+dTlvOef3AXn+7Gc/az71qU81b3zjG5uf//znS++ME9bSOn79619vfve73y29egbMm4585CMfKev8oQ99qHnPe97TvPWtby0Puf/Nb36zdGY36ASZun2UHn7wgx8suuhaDq87Zx49XG1Y9x/96EdFDt///vebP/zhD83pp59edJoefOc732l+8YtfLJ19xpy8/4lPfKLM6cMf/nCZF1vw909/+tNie8uF73zTm95U5Ex2Q4NukA0dMD/68KpXvap55zvfWeT1pz/9qZxHLmzmM5/5TLlt+GMf+1jxd+TnMK84yIgM2cw0eM85n/vc587UQXI2Bj6M/f7lL39ZOns40F1j/dKXvlR0gJ/103g//vGPFz2qwS/wofymeZHT29/+9vKT/P76178undmN3//+92Vd6B+ZsKtXv/rV5fvJhuzGButl/taR/UzCn//856IfzuFvzI98yJI99PXJ1oVOfuUrX/m3dSHr2qbHAn6Vvosh1tb4IWTC5sSWL3/5yyV2TbIt+kbO8/hU55MH2dDNLrscCsZkri984QuLbGZh3vNrnHbaac3nP//5on/0kFz45E9/+tPNT37ykzPXJZFIJBKJQZFkUyKwUrJJgv3jH/+4edvb3tY89rGPbZ7xjGc0j3vc45r73Oc+zYYNG5oXvOAF5f0ovhS7/pakTzr/+c9//lnOnwXJroL8ta99bXPCCSc0D3nIQ8o1H/WoRzUPeMADmi9+8YuDFjcIA4nhi170ovKf/xAZihQF3Ste8YryN1LJPMBY5zl/GiSdyAkFlMRWMfDIRz6yOfLII0uRM0YoQhAEr3/964tOvuENb2h++MMfLr17RuGhsLHWz3zmM8s6P/e5z22e9KQnlXUnL+tt7l0FjfcUzorw17zmNUVvnv3sZzfPetazyu+PeMQjCmlBdn0L7LWA4kHRf+KJJxaSRHGBZHvXu95Vinc68c1vfnPp7DPIF0Tck5/85DIHtvSc5zyn2Ndxxx1XPr8cojHWBZFy2GGHFZkhc4aC8fAj5v7KV76yefrTn150wM+jjz66ude97tW8/OUvL2NU2Dn4t6c97WnNvvvu29z3vvctunPSSSeVgs/B3vyzBEW/4rbL/5Cz69E316SD5PyEJzyhyJkvHFI+Ab5HkW9ubJ+/pRtPfOITm4c97GHFD5ANeTr3k5/8ZPPwhz+8efzjH1/sy+f87TOKWrozy66sC7LYupCxdXGtO93pTs097nGPIjP+yPeOAcbsUMTzrccee2yZbxv8AKKMbyYf8mNfxx9/fJkjIgYh1wd8PP14yUte8m/rwo994QtfOHNdxgBj4VeMk3+0ERDrh0BCQN35zndubnrTm5Y5sIW2bZmreSHl+s7LeXSOn3vgAx9Y5D7PJsui8Mtf/rLEpH322acQP7PgfJtrV7rSlXqdD2IaHeTDxamHPvShJWbxPXSQ7xMX6NZYbCuRSCQSZ2Mk2ZQIrJRskjxKJl3ns5/9bCEHFMl22g4//PDmZje7WUmKEEhxvqJu0vlHHHHEv50/CwpO17r73e9eklxEjMIBYaG4QRrYaR0KknEFxYEHHthc9KIXbS52sYs1u+++e3OZy1ymue1tb1sKd8RRJIgKlnnOnwbn2KFH9imub3jDGzZXv/rVm0MPPbSQLGOEQkIBrGDfaaedil5Zz4Ai1e65BF2Bo1tLMYJsRDIdc8wxRQcQBV07vN5DGNAzJA4Cy7UcikA6I4lHWPTVw7WA7qqnPvWpzdWudrVm5513bi5+8YsXXVCksBNdI3V3yimnnFIKD+SSgpBsHDoCECH0qm9xUwOBYCwKnG233bZ53vOeNyiZYv0UbMiBBz/4wUXP2by1Yh93uctdmstf/vJlrtbZ+HWM3Pve927Of/7zNxe5yEWaHXbYoeiYg2wdl7zkJQvp7VpdZK6i+TGPeUzp2EHmhJz5IsUgopuPGxo6IBTpiEfkDz/Lhuj1DW5wg6I/SCbypDtIIT4G4Ra2pRvM6ze60Y0K0dllV8gB+kguvtf5bCv8MR99qUtdqhTm1mUMMGYH/RCvECZspQ26RYYHHXRQc/LJJ5eYQj7IJ4Qj20LI9IHun1gXaxHrgkC+7nWvWzZirEtfUmatoVPN+u25557FtmqyiVxsClzrWtdqNttss2b77bdvdtxxx7PY1W677dZc+tKXLnFafOs7L+fRy1vc4hbln5iwuTGSTTZy7nrXuxbfSEdmASkU59tA6gNkv1hIb3xWd2nYFnJXzLzb3e5Wup/pTiKRSCQSgyLJpkRgpWSThEeS45A4KVIkiZLQo446qrnmNa9Zumni+pKjSedLuHUlxPmSqS4oeuziKVxufetbl0Q0iiEJqYLg2te+dtnxUxwOBcWX7oBb3vKWJWlW0JgfYgTRofAw5kjAJePznD8NZCAJJRNrfMc73rG53vWuV4opxMzYYE46sXTPmLfCBVFWk03ReWHNa31V+CAf7n//+5eddzLvKkok7mSjiwE5RZYhT7vHiE878roX6s6hRQMpqPC9/e1vX0hCuoAMUHDoFFBYINaM3U8k2VWvetVCotWFL2JIsUiuiuJZZFwN57Ez3Tr0EFljZ31Isgl5xKZ1USBQFefIC3qgw8S6XuACFyjvu02FLiAF+AiEB1t60IMeVMgzxz3vec8i31vd6lZFdvTQd0wDkuvggw8uXWdkE0BQ8Xu+XxfGUKAPxsFfIK114PCnXkfumyMSW2Hs9ihyQyAi45B3oTvO977rIDrpHH8/DXSFzj7lKU9prnKVq5xJ9nmdz0GEnuc85ynrMMu/LwrmiOgxN0QSUn4S2YTE1CkrpiFvg4wkG3ITz2yezII4J+5d4xrXKOuAxDUGhDl/t8suu5TYNQ8ps9Ywr0c/+tFFZ3So1WQTP8qHsicdhWREh8K27nCHO5T8gt9iL3xv33npJBO7EKPWxRjGRDbxowhH9nWTm9yk2WKLLcp4pyHOt87i8Kzza7BnOkj+/AsCkF05yIRN3eY2tym6hQBPJBKJRGJQJNmUCKyUbJIk67KwI6sIjkQHiaT433///ZsDDjjgTMJH0nTzm9984vmSqPb50yDB8lm3HehIUAwrjCRfkjqdBXZbJYIS+qFgTAgQHSpuRbGrabdW0WGcbUw6XxfPtPP7QGLqtgaJ/1jJJgW+wkWhZRd7Etmk48IcEIgKviAFrLniTHGjy0BB3CUr3XW6Pm53u9uVwohOIg0icVcIu91H4bRcu1gNKNzpge4HhbsddEQYm6th3Mg2eqOAUXDQo4D1t+YKXISRgqevLsWtWMbAT4yBbLJGumeQRLoo2Lo1VwAjDhBqG220UXO/+92vPE8Hgaj7AkmpgKUr5q/ojfV2DYRUn+4U17rsZS9bPhPPZ/LdroXopDe6y4aCsbj1iD+9whWuUH6nIw7kqfXbe++9y608ZEE+SDjra51rmwPz1WWpE0en0zS4Pp+lk3KbbbYp9stvkTM5kck5znGOQkqw36ER9o48VKxHB01NNvEvfIMuWWSvgh9hF4QJooXskOB9bk/W+YaY0emDJDUG1+L7EH7WCwk4BrLJ3PlYemL+OirZXE020Sc+yqaGta59Mrtgp+bDd3cRlTV81jWQU27dQwJblzGRTdaGrfMvboGcRR7F+bownW8+85BNdAupadNIjGt3XrI1sdH62JRJJBKJRGJQJNmUCKyUbJIUu81Csq5ARxpBdDwhjuz6RRE37XwdT5L2OH9W4q6Alvjr+nCbEQInklyH567oalBY200dCop+O/0SbmNGdEjIJc3G2Yb3nY8w6HN+H6wHsol+KN4l4zogJpFNbnWRTCMR6YqClT5JvBEiknGJuCKnS1bO1xV0/etfv3RgKBTJhJ44dAgpyK2ZAmooIJs898YzuxTroQttooje63hD7pIbYqo+B5lAjroGb3zjGxfysiajusAvuJ2R7JE4YyCbFLrWTzeKQlRRGp1NiGXF/MYbb1zIEXIhHyQdgpFcaj/B/yiEFbII7j6+Ail15StfuXRb8GOIAqQcX0MnyUln3FDgKxAmSH3+UWeKYtd86b45k1MQTXTKs7iuc53rFNK+TQogRZAg/HnXbZi+A9knpsRtnnTW6/RIpyCyCcE7Bh9EF8QJJKR1RM7Rp5psIiPy4yt0s5kfeZkTWHO2gLDuozt8u3XRhYIUcB2HdXEtfhApQUfjO4YCApvdW38yEWfdZlqTTeK2B5yTAb3zunEj6PgsmwfiPDn2JYqsi+9GcloX5K3u5bGRTW6l1MHI1m16XehCF+okm+rzbYx0nd8GXdHhZYPEM/zaMQBJvGHDhqKnNqgSiUQikRgUSTYlAislmyTJCgdkD4JIkmjn1266nWKdFJ5/E0X7vOdPg895NgryRBJmHhJjh4JJASpxH/r5BdGppMiwq218xmaMdn0VqjXmPb8Pxkw2KYAVIuaJXLJT7oG7k8gmxQsiKEgiuoL4QMwpaHSx6ayQ2HcVagoiRaYCwa2WduyRV25r8Uwo+qcARVYOqT/R2eRWHQQHIiO63fytwFWUIgzIz/NULnjBC5biMIpBIGPzRdIhFHRIKWy74DN0Efmn44J/IOsxkE3WFrmEMGEXiEY6xGeQFTm4JSr+82KQSmQQcA1yUyjzHbpbZskkwH4QJzrF3ManU4d90U06qxNkqFt3zYuP1QFhbAhYpKnOEzriNlV+RHccckTRSjZ8qFvu4nlNNegbe1PosrNp8N18DV3xPXwVHXI9MkZWITxtErS/YwiQAfLM2nteEn+ABKrJpiBM9ttvv6JTin42QZ4+RzZITDrW5XO85xx+Rvcu0hxBEOvCnvl5sbC+NXMo8Ct8MX3md8iHvrfJpiCVaj9prki5sAW3tpp7XyA76Q+ykq6wNbfhjYls4nP4Ynpt7ehMF3kU51vzOP/CF77w1PPbsOGA4KafSPY22SReeQyBWGZ9EolEIpEYFEk2JQKSnZWQTQHJqYQTOaBg8bwUXRQSRMmoAqjGpPPtHCOQJp3fhh1VBZVOKIWS77FjqDvGNXSrIA8kzO3EbJFQbCGOFDKKdF0iOruMz22Ekmm7/+QB0dnU9/w+GCvZpChR8CNVFBaScAW/+U4im5yrGHObjgemI1Yk1zpM4sHGSMg+oBOSfwWw2xm23nrr0r2B8KQ/Cr/YpR8KyFiyUJjQCWuICNOx478/kZminVzM3fqSyaSdbTqDWFMwKgC7bmkxZ/qlK0hBrXhhb3bUx0A21QhSDLGhaLeeSEi3quh+mgb+BVmH2DUvMuxbEPs+BTRdcRvf5ptvXvyQrhjkji6qoXwOnUXE6Q51ezF58K1siS/RVUR/+BFryDcohBEpyCYEd03KAR0wP/Olg31Ah8gJ6aCTDiGnOyWeozUkjA3RZg11zvA/CKNJZBMb8DrfgLxDbCOfyJOO6bphD0HeTYN1oXP+Ccbuu+9eCFFdLq4jZvkOPh5haT2G9j38KFKN33GbKbIDUdgmmyaB/vGtni+EqEIQ9Z0LGYlPbrm0PtaGvo6FbOIj+EabY/yovIl+TyOb6vPjWYPOZwfzkE0IYrde8jEIX/6qhi4wZJMH8BtXIpFIJBKDIsmmRGC1yCZFi+JOp4HOFP8xxS0cEmldB21yZNr5CqI+Lfe6GNyq4T/d+M9THoCseFIo+akjRHKs02E53UCrBbdcKCDs1CJOkAMORYz52unWiRIkSZwvoW+fj0xwPpn1JVVgzGSTsSnedBgoTq37NLJJ4k4+8Z+tFID+o4//LiYRd8tZ3+dzKZYQLvQTCXO5y12uEAeuhbxCQCBD5yH1VhuKTnqg0EA80W1knG4cxSrSTQGD2EAwKchmkU1uhbG7jmiZhijGnUfWYY9jJJuso6LUOI0LWUA3dDV1dUfyCeanawtpR7f6FsRkQSbx7BV6uN1225X/vIWQsCZsdggo1hEf/hmA5yb5yb/QG4dnLil0r3jFK5YClYzc3kM3ZpFNiBJkZx+Qp+4u3+EzuqLorHVqP3Ns0bDO/ASClp4gsJEak8gmt9CJTYg7a2v8yBcyQsAiRRC/YlhXDGWj5G9DhY8hbz7Pa67lexA7/JAuIvbaVx/XAkGm6A42lnnIJs8x4lf5Y7Iyj75zIUPfbV34GOs0JrLJOlov4yMf8YhvnkY21efzC3H+vGSTzY899tijEL7TyCa30XmIO/1JJBKJRGJQJNmUCKwW2aTIkThLpBQsrmtnU0EsOWoXX7POl8h3IcimS1ziEqUIsAsrsZPUIgi0mvvPXB5s6rahoSAplHAjDiTKUdQiizzAmOw9aye6MPqer2OrL8ZKNll/u7wSZbdVRlEyjWyiE247QSC6Zc77Ogv8W3Z6gCTyWbrWTsZr0A9kge9FNiBREBUKKZ0/yANdGEi/LsJiraHIoxfGYA0D1k/3lYfsK5CdR8cV9LPIJrYya16KI+uhQKqfKzPWziY6gtigG7oZ2QlZIOXoWA3z8BkEnjXma+bttGGbbk1jU6GHOojcpui/timMyTjsd5EIsolueKg3OSCYYg0RusarG0sRjxhAvLm9chbZxN+abx/4LiQOXdXdws74LTJHvA9FxlkPvoGN0G9zDwJgGtmEJNONpIMW+aFzJ2BzxHojYhAC4a/bCLJJty9SmxzErFgX9ilmsV/dZwjUSddZa9AffhYRhlTid/jLPmST8Zo/kkkXru6mvuvsc+wFAYjQE998t1g4JrKpvsXPBhA50IlpZBNZts83p+WQTQhP/6W2i2xCSOlaTCQSiURiUCTZlAislGyKZLmdGEuyoniXpEvaJYrTzpeUIprifAVSV2Ip6VMY7LvvvmX88QDygITVdRRR/mPQEJBY6hBRvClQ6nkr+uyG2+lGACgu+p6v8CPPvhgb2WROChjjMC6Ek/U0f4f/NodsUqC6pdJrihHEh+d3eAi44sc1EA06o8zLvw338F0FNHlNg8IOOUHfdKcoAsldMeDaSIO99tqr/PepIYo+32e+OqvYUbvDSoGsc8B/RHNbhaJe8ezfsitWkSw+H/C7hw6bF0JBke26bcS6KLwREophpFSsC6IB2aSYHMOtPr47DjAeXTp05HznO18hIulWDeeSJ/ntuuuuxU/URF4XfFYxrnDUYaAzChnoe92G5ZY8zzZCTOh2QRB3kZ5rAd9Hn/k++oGUbPt2RBk94T/dFkZ/kFN0Q1HbJujMF3FP15Ars9BeFz+RB8iCc5/73IUMpFtDwNojSskAoRK6zRcheZBAupW8xm6sqziGzNbZxT5q20K8IPTom2tGjGvD6/wOP7XnnnuWW+bYWQ2EwaabbloIBV0w9fcsAsYt9iCJECT8qPmSBRJSbHabKP9hPsZXr7PXxC23t9MVPh3J1gee/cSXI0rYJD32veI6Wbk11oP32V/7excF301P/Ic8ZLy/w1+6JRLZhAgK3RFTus5HNoldcX7XfMhfBze52mxpy1WXFf/P5skvkUgkEolBkWRTIrBWZJPOEbdPKGIUdZJIBe6085ED9flawScVxAHvub3Bs0Yk+3YLa0jcFVzIKCTNEFBcSJYVtm4NiAQ93lO0u83FcxYQKX3O93BsxYrz+2JsZJM5WW/dJQp0xA8yRKHi8Jpi2HytqwJRoq6YQ5gofsmDDilKFEjIN0WOAhpZhaSaBqSSa9uNdotRyFlx4PYyryEL3KJpp12BsEiYl2LCs3/MBfHKngLmhiRwy82hhx5abgGiL24fIzdFdF2M+F2BrVhkX+bU7l6BWBdEnmKITOt10TWmqGZPdvPbJNii0fYlflpDRNkmm2xSiGa/14gCVrfE9ttvX4g5r/UB+SBN2CeySccO2fpexTIZKwrZGMJAsU5+i4QxWhe393meGTK13QWp6wqZS3fMhW7pDqQfbtFFEtRgDwpdfpbezcKkdWG/OnfOe97zFhseagOALHS/IWf5ltBt/hQ5iaymG14zZraF5EA+K/TreYHnzCFC/Jc9sqQH9fsB68LPuL5bGHW2tGMWEse6eN4WWfnMIuH7ECH+UxrSEdEc8tE56RZcHXz8MD/B99byQK7SebpHVmyx7xw820v8Z498C//ue/k+/12SPek88x3Whc1OkvNawnqRA0JJDIkx8tN0ZKuttipxVqecMfIzXecjp3SLxvldfoivIX9y9Zk22YT41v2F7EYUJhKJRCIxKJJsSgRWQjZJnCRUilDJjmvEf9LxnqImnlEhwdclIpF0G47vlby1z5doO9857SKphiLOjqGxK/xct4bdPcSMAgqxMAR0oJin8SnQzTGKc4mn50oZo+LDzmc8R6brfASa27zaHRtdGBvZJKlWyChiJd3WXZHhb8Wb2ymRBf5jk8JGIeh8XRU6LHRF1EWMoiPmePzxx5cOCrKcBp93m4fipk3aGZsuOx1OSMAg/RYJY0CmeuC9bhM72YqxgK4iBYxdbN0WunnYoQ4AxSodqskpslE064jTrcXuFDhtkCmiQSGu4EYs1OuCzDrPec5TSF7vkWP9PYuC9VAMW2+kBXlAFL7mr/BjJx4AXcNn22RiX1gXxS+9oaPt/zjn2vwS3dIBQnfaXUJrDfNXiJofYpGPbN8myKaQkvwMUh8poFDlW8gubl0NeSJB3JKnw6dLXvQH2WZdxIS4NTiuo1tnyy23LCQpXR0CYhTfyqbMi347xCe25FYxz9LzmnPZDZnwO24j5I9r36OziezYBV8f5GMbIQM+ze2sOs7YbI3obBLTrFFfoma1YG50GumGOGMnDrJAzNvkEJ+RUUhJeuIzMV92qPuR3pHhPH5TrPfMKiQbOcT36m5F0PGDSD1EiliP7Jok57UE2dBhusJuQnf4IDrAptwqygasLdJ+2vmI2/b55jQNciddd2QgNiGnaiDVvU9WrpdIJBKJxKBIsikRWAnZ5Nkg2rc9nBmJoSC18wg1eeQ/fenQUCAigfwnMa+3z5eQuY7zJVTGJOG2U68TI9ryJZkKaImcokqR5HYHxaD3fCa6YCRfioUhoFCJW2uOO+64UohKwI3R7wp6ZJw5O7c+X8I/7XyyC8LInBX8ito4v40xkk06iOiDojQOpKBC0Px0QFg7HQB0BnmkELGmdnnr25PIR/KNJJHIu44uE9+jkKY39Ids6AaCCSmlCECY+LwjruXaOvF0ndmpn6doWg0Yt8INUbDDDjsUkrHugvA7e9pnn31KNxcbUqgozHbaaadChtTkVBBIilxEEX1QJJonEhOxRYd8L1LPbTST1gVRtdFGG5WiXPHJ9p2/aFhTtzzZ6de9o6gDa2defJqHY+vGUdTXMGeFmbkg63TXtRH6gJDj48gmOg+CbCLH8DkBn3Eeopx86BabXDToK7tRmPovcOw95sR/IloUuogP8yczBIKuQP4HeQkxH/6TT45uHK/7DrqDcAh9Igs+CqlJ9kFMOd/7bMp1kE2+bwjELXRIkVrH+Vu3MyP++Viv+e+GYpBCX4w57LDDih+pu0rEOHJ2Cy8ihH8xX7Lhk9vns2XnI251DjrX4RzjusAFLlB0i+y8vkhYU/Olv7VsHMarE5DN8Tl8AoLEZ2Kc4pdbJG3weM7VJL/pXDLis/gduuM8dib+s836exG3CECdZZ7JJy/wbDY+zXUWCbJBsrXlc+yxx5ZY4RZjpBP74kON0/niTPt8m0zOpwtxPnmwE7mQDQ+6E/qEjONTkHhsR07k9ZAnuxUvbd4MHd8TiUQikUiyKXEmVkI2IQzsDu+9996lUEECSLJBMqlAlXjqILADrEXfLT6KZLtw9fmKsvp853lNsaOLR5eHZMstRJIrCaqCPG5xkJxLXL2nW0oyjNSShLU7EBYFCbFdRkWa+UgkJYd+KtK0xCvcJaOS7Vnnk5nzJbueswKSTmQMokGxImFtg1y03ktUx0A2mZOi37gk1XEYO5JEMq0YtnYKesW+Ygy5IUlX4EX3BbgeYiCSebcp0CtJu4KIPHVFka/r+A6Fje4TJJwi2TXA72RLlgomtz/Ee4tC6LBCxXM4kBbRAQjIFQ+DVfwineiHA6FEPxAsNYliDm6n8hm6E/Olc3ba2R3Zer1rXXQJuY3OTwW4dZlUUK41gmxS4LkVzHoDuRkT2zdOt4Yp5GpYf37EZ/ktRV4bZGNeSEkkMdkgYFwfgeA5KwgVsqs7xHyGzyJ/MjUW8lw0rCM/wo4QKOZo7A7ryK48L4ZPYBPO55/drqTbSZclOB/JS8c8h4qfiSKXTpg/Mst3mavrIJvI1oOwEbXgfO/zURtvvHGxYf58CFgPa2Qdax3XhcbWEN2IaK/F7U1szzz5azZGZgG+hcza5JHbp5CS/E5N/LJdMtIp5cHrZOx8sQyRovNLPEDien2R8H3mW8sljthUEkOQ/mTADmO+wA7lAfvvv3/5xxyTfAMdYYM6M/kk8rAW09aFbtlQErcQgnxWEFSLlg/ZiCv1+BzW0fP/dJVaO7mPMTqmnY+U85D++nxzQjDZhOHDdJeRMR2xmUC+Nox0RfkMn0+e9FPXodsXQ56JRCKRSAyKJJsSgZWQTRIku5mSQDuQCrtoFZdM2gG1cyd5tyMuQVL4TjrfOOrztcpLSn2HDibPilAIIB8kWRIwSZZ2e6SBFnwEgSTfTwWfhFfy5XuHgPHZSXdbgDEZq+cNIejsrOsssNNNJgob5yNRus43zzgfJKHmKgkl17h1hYwULAog8nPbjyLAzr3iERlh7epieUgoNJBg5q5gsetLH+gRspAeICt1LknQ6Y7OOMUf/QkZ+d16K14k9opIhIRikU6ZLxKKPiJeyJN8yJruIHh0YCCjXN81Fg1FlCLCGM1ToWd8ihQkJJ1BhClmddoEFLX0xgOOyUih5nANpAlirT4fEeda5EOH2JvvrYEkoCfkS8eQBX4iXBBOQRYvEooy64T04hfoCLKZfBAo/IEOOOvLVmqYI7JF8eoc3SttkD9bpAee+eaB47oUvO7zyBi3gZF/3B5DD42JLiFS6B1ZLrogBt/J9q0ZAoW9I4r4EjaC7DjmmGOKLpiP85Ed4WcVucZvM8DvyDmkPn3hdx3IN+QIQt98+S2vsyEdefST3lkXh3MU5MgvnxtD94X1UczzkWTkGV82QpBK1pQvRa6BriXPMaMLYpW1Jl+xymsIgtpXIL0RM+Tg+gEkDb/Chtge2w69JWOkAZIz1mVIIFeMF2nIP+iyZDN8iXVudzXSJ509bqNzjhjUBtvly8UqxDi9aN/ybF18t1jPhpGXOhjdxmgd6B4/PrR8xCz+gz7zoQhuvocu0B3zrBHn0zUbBc4Xl+rzbaYhZemga4nv5BFknM4vRLvbmNmVOM4H0UHknTWhO4lEIpFIDIokmxKBlZBNoChTlLiOJMqh2JVsIgsUvZ4Z4jyQ3Eu4pp0vuazPl4DpZHFrgQJR4l53C9hhV1BLthBYCiNt6hJAr3c9B2ERkDQrThXnniWk48FYFRUS7XbRFcXspPORBe0uLfNTpNjt9PyHeM4VGSFXFDM+77Yh3Rh21CW4iiFFj53UMUCxqpBQ1EjE3eJELxX1ijqFHNkofsjB64pmnQX0B/GgAKofDO5cBba5mzPSJAoA8lEc6TxQ+Pg83VEoS9p9ztq1yZdFApGjwEcQxLgUGh6US7+tdV3Q+Z0+IF8QKmzPQYfIiD7UtoO8816QTWyzPV9dXkHsKA51N5AnnUJgkPGigdQgGx2P9JgsFO7kgyxRpJm3Aq49H8Uu+bAVZDSdaEMRi2RANrmllbzrDihkJVn6bmQD2dKd0ENkwdB+BxBIilK2wjdaa37WuPn7djFMXnwSWfLLbINvQYSwz/DJ5O/z5O52Oe/7LnKzLuyKH491cZA1slzHBv8+pF0F6IK1RLIhwjwXiH9kD+xNnFLgg/UUT/gRus9edILxP4gp8yGXgHkiXsS0muAFskQKk631oLfWh8wRzMY0BtAP40E46i6y1sgmsYa+s4EazqVrZGRTYBrZREeCbOLb6F2NWBcbD0hRt/9aF/Gf3GMDaWiyyUYSG6E7bvHzjD8bJdZeTtTuMOpzPjsiuyCb6F8tRz5fPOST2LFz6SE758/HYFeJRCKRSCTZlDgTKyWbJNh2GSV/iB+kgAJUkarw97eiPRLxec+XPEm4JGoSLQVPndTHTqlb+uJWNNdyba9PSngXCWNVuJqvXUfjMlYFB6InCrjAvOebn/MkqeZNduA6yAOdKT4vobfGCgLXImdJ/9DyCSBBFHTmYqxIFjvexu5162xOfpKD1x3W2+Fz5lPv6kbR4nrmXJMpIWfXIjefj+uQuc85Z8iCxliNWRES46Lj5u13a12Pz+/Wk+6YizV2ONffrmVOAX97j3xcf9J8rQu5et95Cho/jYFukfGiEfO0fjG/OPiJ0O9J3SHmSD7W3Llk0IbPkL35sRdzrYmZWBffYT1Cd0J/+Lcx2JX5853Gb5zkY97GPYlIdT57CFn63Xz8pAehO+Tj885hp94PWbvmrHVp6+1QqNfZ2JBg1jvsoV5HP+mA88jT+xFv2Idr1XMyTz5ZTCOPGmTZXpf4Sa/a6zIUjMNasRfzsNZkZF7hT2r425zIiM+atMYhc3pIzs7zHTXiHH7febEu4j+5R1yfdP1FwjrSffM1Nr5Rd6m1pztt39jnfHZEJl53XnueZEUu5OxzzqU79In8h5ZJIpFIJBIFSTYlAislmxKJRCKRSCQSiUQikUgkkmxKnIkkmxKJRCKRSCQSiUQikUisGEk2JQJJNiUSiUQikUgkEolEIpFYMZJsSgSSbEokEolEIpFIJBKJRCKxYiTZlAgk2ZRIJBKJRCKRSCQSiURixUiyKRFIsimRSCQSiUQikUgkEonEirFaZJN/w+pf0r7jHe9oXvSiF+WxDo+73e1uzdWvfvXm8Y9//MT388gjjzzyyCOPPPLII4888sgjj7Pn8ZGPfKT5xS9+0fz9739fYoI6sFpk0+9///vmve99b/PYxz62OfLII/NYh8d1rnOd5vKXv3xz2GGHTXw/jzzyyCOPPPLII4888sgjjzzyOHseL3jBC5pvf/vbzV/+8pclJqgDq0U2/eMf/2h+97vfNT/5yU+a73znO3msw+PpT396c5Ob3KR53/veN/H9PPLII4888sgjjzzyyCOPPPLI4+x5/PznPy9E0z//+c8lJqgDq0U2JdY/8plNiUQikUgkEolEIpFIJFaMJJvOAGbOc6cwdd/61rcK4eL3lcB9jKeddlppM/v6179ervenP/1p6d3xYaVk07/+9a8y5+hwc/zgBz9ovvvd7zY//OEPm9/85jelA855cT65uwXTuT/72c+KjPz86U9/2vz2t78t78f5s/DXv/61fDeZO9xL6rp+/vGPfyzfPSTM429/+1uZV8zXz+9///tl3qeffvrSmWegPv/HP/5xOcdBNn6aUx+4TntdrAdm2s9f//rXZ1mXMcGYjM0YzdvY6dT3vve9Ijdz6nW/8P/Btdi4a5Gnw7XYp2v/4Q9/KOeMUQ7TYMzWkC6ZF1vyGt2Ig17xO136z87oGnm6BlsiV6/5rNfa+rkeYW3J51e/+lU5zHM5CD0hL3bU1xYXjRinNeQT6fmPfvSjYjtsyGt2pkI35j1/FsiXXvoce3Mt8cBPOkW/xgLzNqZf/vKXxb92tYabf+QL4Zv5JrHGnHrt9P0fQt58PBm5hp+u51q92tMXAGM0J7IxPvre1++GDrA38nWtPgi/47vCHzn8zYbn0cO1QPhM84q4GnZCv41xWv5i3Pxp5Dx99aULxiLHMh5+qa+cFw1ztZ7GGbkMeYlj9KuvzodOhu2EDbqWn/TEOWOVQ4Au0BVxxFymwfqSD51x8A/k53e+qK8thPxdi5xcxzXI0O/sbkwwVnKhH/zBvAgbree4HLktEvycORu3n8sdY9iIObMLshg7jNn82bM1X86Y+ZDwCw7rzS+7Jv1eDX+7Fgjb5MfDp4XeOviJeX1ayJMOqHdcfxAk2XQGKCdC6LnPfW5z+OGHN1e72tWa5zznOUvvLg8W161pCJxrXeta5Xpf+cpXlt4dH1ZKNnGInOO73/3u5pGPfGTz6Ec/urnvfe/b3O52t2uOOeaY5s1vfnNJAMJxMixy//CHP9w85jGPaZ797GcX+T/zmc8sDyl/17veVYJBX8fAMb3nPe9pnvzkJzdPfepTmxe/+MVlDCeddFLzmc98ZlmBajXB4Dm9d77znWW+5klOd7/73ZvnPe95zec+97mlM8+A8zmYt771rc1DHvKQcg75PPGJT2ye//znN5/61KeWzuwGeUv23R4Z63K/+92vue1tb1t+vv71rz/LuowJxiRxfs1rXtOccMIJZfzGfOc737nI7f3vf3+xsz4gz2984xvN6173uuahD31o84hHPKK5173u1dz85jcv+vbRj350bkc+ND7xiU8UedAl8/rQhz5UXqMbcXz2s59tvvrVr5ZANQ3skBzpyAc/+MGSmEQx4LPk/MUvfnHp7PULOvCxj32sedWrXtW8/OUvLz5jOaAjkiDPKbz1rW9dZDxGRKIh7vCJ9PzBD35wsZ2jjz66+MqaLJv3/FmQ3LBd13rYwx7WPPCBDyzxwE96JpkaC8xdLHrJS15SfC0Sehr4JP8QRUznR/hjPl3MUcD1Ldh8Jx8nJpCRZ176yc97ACdZjwFiMH0/+eSTm6c97WlF3/mHPkDGiTHs7QMf+EDvOEMH+bNTTjmlkDi+j4/69Kc/XWyYbLp82lqDz1QIvPKVryxxyfr7Jyvs5EEPelDxw/TAGrdBf/jTZzzjGUXXXGul4Kvf9KY3FTnzS2MtLMmEXyC3JzzhCUXX+YMHPOABJQftsrsa9Eh++La3va34JfmjdTjuuOPKT3rCl02S/5hAhz1o1zNQ+IFp4FfIR6xXV7zwhS8s8nvWs55V8pq+tkBm4rtrPepRjyp+xjWf8pSnlGuK92OCGE0u9IM/mBdy6Fe84hX/Jje/q3WGrgsmga97+9vfXsbt53L9XNRY4hKfNKZ4Ow38lvnzi+pG6zcvxAb/rEwspddqJjWDOE2/2cAYYa34xre85S3Fp0U97HfzEFP4vXl8Gh+o/lMH3/ve9y62PwiSbDoDFJxSU1AKfrGLXawkkSsBB6F4u+td79pc8YpXLMkI0qOG3a1PfvKTzTe/+c2lV4bDSskm82Ukkh3JJZJEUcfgFfQK+1e/+tVnOjwFC/lI2B/3uMeV8wUTgeVJT3pSMTK/z0pqGR8W23dbO44V4SUhRXD5fgXTl770pcF2bTgH8nnDG95QEnZjVcCTk7ne6la3KoWdrrpIUM2Jg0CySAjIinze+MY3lsKN47RWswo/OiZgWV+EBDlbB4mu71VISvyW49TXGhwv0tF4Fa3G7idbolP3vOc9y5yw9V2kZASw1772tUWWknJr8NKXvrQkpje72c1KMFbYkPt6Af0+4IADCpl94xvfuLnFLW7R3OY2tznLQ/wk35IWRd80KH4Ud4irkCtbuv/9718+/7KXvaz58pe/vHT2+kTogARbUUj/l1vM8zkK7oc//OHNJS95yWKbYwSb+MIXvlB03RryHXSfL7DGt7/97YveO0dSMu18Pj3OVxjG+dPAfyl+EbiKQPZLV/k79nbHO96xkHR9/PtawjjpvXGIVeZ4hzvcocT+U089demss8Kuo3nZADA3/gdJJTGUELoOv9UHEj8yUfiId/y0w4M3jUMRKgGdJ7lcLUQxr2gXt+jMEUcc0dzylrcspBGiZRZ8nmz4FHpGB1y3D8iVD0JOilF+55/YHH8mXg1ZNFhjsVzsJJ+IsXTnBje4QdnQsPkVdqKopWuIIHH92GOPLXKRm6x0HnTk4x//ePH97NN4BtvB7gA9JjcFvzVEFMlp+Bc5jWeGInsRDLP0RB4pXxfT2RCdlB/I98RC+ZTNljGSbnwIstr8owi86EUvWnLXSeAn+Cg6wzeIN/JbuZA4Jh9ip/x3l6/wvpgnpyQn+sqXyUWtARvjv5zT5d/XGnIVuRh/IT++y13u0tzwhjcs8WgekJtaQA4jXyY386UzITf11yy5LRJsGRF9pzvdqeRf7ER+thzQM/aFAL/pTW86HNEwA3wVf85e6bRYePDBB5d/WqUjqS/oLFlZZ/GY/vDB9Ob4448veZ/4Qb/H5h/pn80U9idforfWjm3KwdgrXdCUMKuO5fPEZzZE1xHShxxySPlv84jpQZBk01lhsTn1vfbaa8VkU0DwvO51r1vY1ZpsolwUAsvOKIaGwLNcsomRSxAkg8gjcqTwEgbJBWenKHZ9RavzFSOcqYNB+AwgZchDMs856DgTDKaBc1YYKGKufe1rFxm7vs9478QTTyzfzYCX28mwUhiPAIpwEzwlSpwdoujzn/98c6UrXam53vWuVxJs7xk3p+A/A5KpW0/CwWCpzTWINTte00D+nLgEVHAlY98bryNCyYYj4sT6FgKLgmJLgiV5RsQFMPwStMte9rJlDnSJzKZBAEI2CjiSu9AP8lcAkL1uRl1ffXdWhwTf4ZBkX+EKV2j23HPPZo899ijERxy77757c5GLXKS55jWvWYJNV9DWUk/WBx10UPnM9ttv3+y4447NpS51qeK75imgxwqJFx2XxCDnlks2sRE+il9xLfJS9IwR9Nw47YwpTqxzvK5QRh5su+22hVjiV8xt0vlej/O32Wab8rvzp4Ft+TxiV2ETCY7XrYHk/zznOU8pyBFXQ4ENifcKU76ZH77qVa9axsUvTILxkw+/iZSjC0AHdCbd4x73KOfMAn8ukdRJzZ8jIYyHXMUqdi3xRn57fdEQv/lNZAqiyLwufvGLF/kYa5/NCTFPcUzHNmzYMBfZpIPqwAMPbHbaaadmhx12KP7IJiACXWHM33flBWsJshGDbFIoBPgWa8SukGuKJIm92IVkMk65Hl1DSJLF3nvv3ey3337lnJVugskB2BpZIefEhTGSTSE3ha+YgmgmGzpOzzbbbLMiG/o1a/zsU36IuPJ7xHRkwr777tvc6EY3KrlW3y7MRYJdKIjlGwh8erDRRhsV8noS+AmbJEcdddRZNjbYIB/Bb5GDuXbZhI1HsnU+PUQ+kBsgv5A68m7F+ZC3zcvnFdbGQlfYyv7771/qhHmge5aM1R+K9wBblFNe5SpXKR00s+S2SFhTdYDci39ZLtlkXTUxmD/ZyQN1iI4R/J86LwhPMXG33XYrMXCefNx15BpyOzmGnJUcxFTEruv6j+tsYMhNrkngG8lAXcN/iycR941f7ETCiaeRl02DzQty4FPV1/I2sZtOsfNBkGTTWWFROXbObbXIJom5nS5Jd002SboYgyRu2o7GIrESskmyYIcAaUG5BX8OPJJnuwpkoADWqYL00M4omUQWMLIIbpJIY5DgcjaShy4iwXdLtBQLgqVrhaEKIIKKeQlcdr+GgGCBZUZoHHrooaVIIYPQAcmpBAkZwrkixQR8rxt3nVgrbjgRTslO5rQdeCAbHRjmf5/73KcQLj5PNpJgxItdQLtqxrScoLaWkEgp6nS+2fUISJKsq45BemVXuatFmOOVjOmmQO6SS5Ch1oFsBGT6aJ3GDutn7BJPiZTi1LgV7tbYzphiX+DmdyS3Xbvnghf75fPc+uozSGOFFP3y/hiLl3lgHgh/+sJPLZdsYiMCtl1R+jJmsomOI6vpvUQuCEO+JMhXpA8yOkh6OuN88aB9vi6MjTfeuCRydtKngW7aWeTbfb/PAr3lf2zAbL755sUXIrqGgvHwBchqibjOJgRiF9nEFykQ6ZIYZq6gsNVZqF2/3cE8CfRRwScB5M+Nw3gUCOyPfCSW/JPXF43wMZJy/pZ8yGYesoldiFOXu9zlCjEwD9lk7nRHAW5XV1HoeuQWJMUQcgGxBlki/uhKsxES45G7IAYU9AiP2Chii9aY3OxYm5tCejXIJjkVv208cqCxkk3iCD+EfNSthpiLzS9kAELRxo/NkVkyEd/22WefsiEnVjmf/BG9inT5lNhI5mODOYsjSEK6wK9usskmU8kmsYpvQXKHLwU6Jae9zGUuc6bP8to0yIPYkU06+ZBxhA3x9eSoo8YtawjUoWAt2bi8RaxAQIq185JN5Kl7kD+tNzXISF3BXtQZZNpVYywS9EE8pr+6W5dLNokbrsX/ap4YM9nEd8pPrTn/qfZRl8xLNvm8GMNW5PPIRvWn2lKTAyJ+1113LfY0GOkyBcbOH7rbRO7FLsM22YO4x3ZtTMlXulDLk83L4+W8STYNjFhUBwdLQQWx1SSbtIAG2RTfpdCRZEo4JCyUw8ERxjmLxErIJgbNUBADCBDJqNcAqcF5SAokGQgESbrkQpCUhDo3dlgkHpISbdV2NBXSXS37nKqA4RlEgna7gPQ9kg7jGqqw4ew4C2MwX62dHAGnIJHXkXXlK1+5jJ9zFfzoi9ftltdwLZ93HUEk2oAngT7bSURaccBkEay46yCYBOOtttqqrH+XnIeAMUmMFHDGGpBAIp8k9HROQiIxmQYOVgIrYUEskXmQL/TT7o+daB1BOnzGDr5BckRP3AoYbcFsx3sSRzs5EhVJebw+DXQCWRW3NwjMghR9mPXZsYNtSOqtq2TaLg+dn5dsIgMH++RH7DKx5zGTTXRC8aljTft4JBrmQSYIknOe85zFvhCXYg+CiL/gf+P5HXG+Yucc5zhHKUjqHfY26IyYJp4oHiX2EDJEFPPt/JvzxgDjQuyLU5PIJv5Ssi4ZlLixq5oIkjewHX6qyxcFnGttyFrBGLJBZCgSEBYIvdi0GQPYTR+yyZgRMBJ/hKYOAptB85BNNuDom3xE7ETCiZl0emiYu/EhRxCvYlHMi47Y/FIsiimK3HaxaEPM+rKPlZBN5Mwf0Tk6azPL5uVYySZy4CvFbPm13IXP4aPlNDpqddIiCWbJhFyR4uYrBkY8RzaRq24ht+sup1BfJOgCP7zpppv+G9lELvJiOkKX5Dl1hzeQIV2TD4r5XXKTo7NHm+lIvxpiPb1B1OkAoePT8spFwkYi3yFW9CWb+EtyM1f+yqZq+1ElNmHZS+SWbGlI0F/EtO5HG1nmK87OSzZFHDE/fghRz6bGTDbVkI9H1+i8ZBM5yfMQ+XwAv6xWELvlymrEXXbZpdgZuxsTjF3cZ+dyMP5QfsE/quP4TRt4dDlquD6wuUcOfGWSTauAYMItgkPCpjvET++1nSZHxLlgCCXRzrOwig8JEca7JpsoK+fL0TvH5wRz17GYvktx5nDd+vvaZJOkhGK5v5yjUzAjGVzbYRxDFHgrIZs4CM6NgxD07LTVZBOZKvK22267siPImUjWtPYJJGQZMvNTIc3hXvjCFy7FSJdjsBYYa0WCXee2Q2XAdqwVXFrzh4D1tK6KeUGewdMBToTc3Naj48ItLAoVDpNcjFnCXUNQIj+BCHkXReIk0E1OlqOhaxxWTTbRQc/gIGd6OosxXzSMz3McrB92PkB2CjEEXR+yyS1kSE46ojigI5GU0U+E3jWucY3mEpe4xLohm+gBn8RerXO8bl3NwQ4IPQk77AKdIE86IGHlDx30gW8joyCD1xPIg29BDEhaFfVuRWAPyyGbyMGzUfgmre789tg7m+iB+SJSavKI7vAtNdlkjRXBcb4ivz5fJ06QTQiHaeDv+HndCxLdmmzyHrJJNyWiZb2QTWxBXFOg8NUKA6+xE7LxO3/uOo5piPdtkFz/+tcv8ZJeRg7Cjyn82PHYbK4P2SR+I/NtMDlPVzPfiuSfh2zi09lo5GdkErLh/7tkvNaQa9JhhAYSl5+NeSH6jZ2czFt8pxc1VoNsImeyIVNyVoQoUOUNY76NTu6ju1hs53/levTepuLOO+9cCkKyndVpQseQ/j7HJ5Oh3JstsU+dEWQcsXGs6CKbok4Rs3QHmmt0mwbEbXmijQ/dgF3zJVcEHB/WJm7oND0iNzmVHGkM/mc5ZBNb5D+R+R4xIOduP0YAWUlPbB4o4ofsgOPL2IA8woYwgsk6IB3mJZusGX/DvtQ7rkk3zg5kE5/BL8jNbC6L0exBzCAHeY2agR302RBaJPhrsQLZZIy6+ei+/N7mrzxJzYxcnocYNf8km1YRBMgRK5YsiHYzt3NJdCwUx1ODYVsAz2pwCNTxOQWE271qsoljYrh2NBXngoNAz0FbfG2nkmoH5x+7LNAmmyiK5BsxwqEgXFzX9R3IkZp8WRRWQjaFc+cYODTOMQKVYlcQJRtydZui3SedAVoaJaHmGsmjn/6WkOi4QQQgTKaB00BkkSUZt4MxWWO6BVjXHALmRB70TuIssPmpwFPY2Emih8ZOd7zO2UwiyDhUeiQQKXSRA9OcT6yLpE6w9b2xLpx63N6o8LOj0raToSFo2pEilzph9zfySNeTWxXYDFucBjKjh8hc5Im/w75cV1Fs913x1+cWmKERNiJ5py9R6PibbSk2EJuCbZ+EEdnEj+lm4cv4QZ/n59xWRb5BUq4nmDtfJGGTYLA/t5ssh2xyLaQVe0Pm6WQZO9lET8Qp8+Qno6ilO54VZ63Pda5zlYJZnKzPl7TV54uBiFrkFD1x/jS4DnsUC2zA1GQoX2XH9fznP3+JN0ipMcDYusgmcZE96HqWuCNT6JUCD2nntjo6Rk/Ct0yC95zj2UOeHyH+iVuuIwdBDtJNt8K2SYqh0YdskrvQDfkNX6p4Iq95ySY5Gd8jT/C7gpBsJN1Iv77XWQtYP/FE3smu6Df9Aa+xD90jbjv0fps4WQ2yiZyRx/ROLotkkS+MmWwiI/EKMSuekCE9QiLI0cTf2PTqsiEwP9dw8DWRiyPE3UIjb+Tjpm3EjQVdZJM5KpQRcMgm6yp/qaFAlQOxTbliF9nEX4l9SFDXqmEtdD7Z3EOi8nd1HTMUlkM2kZv8Wg6NbJpE0qkp3FWC1OC/h/S1dFTM5dusgRrSLebLIZvYAZnxka7FL5xdyCY+w9qHXyE3P9WANnXcluguBrXQ2Pyjscu9dN/zgxoJxBB5gjHzDeTCvueJfUk2rRIskORVG63bhDhbCY1iXZIiOZY4MjLnWiQK6ByJtnMkiJTR7ojfkUwetluTTRy8VksLxkEhslzTdytgETXIDuSJwqxOHtpkk8RDAc2JcCa6qGJ30+E9yUwkL4vCSsimaQgnajcFqWGngbJLpAVYLY2Kv0mQRG255ZalEBJQp0FRZE1cX9BoB2MFokQGW8xohwb9ozPGRf8kEtYfecIB0lMJOl2btPNPfxAKPqMjSdIwb6C0LuTmGhybnTPBd8gEvg/YhIOtuhdd0sTGzWU5iZG1IEsJFv1R5K2HgDwJ9EagVrQii9hY3yQFCam4VtD5rCSFT5Sk8Z8OxTX9WLRfWgkULchtyZfCg19W3M1LNrEXNkYG4oAERkI4drJpEqyf+KL7ghzEH4TPNDIxzhdjJa0SwK7zu0BHxUBy86BxBWEXabVImGcX2YRsQ3649dvuI38tz0A8anlHMPicJJ/eTQNdYpeKCQ90llQjU1yHX7MLj6jhm9kgnR2LzfUhm3TDkYccSyw2r+WQTQpL+VwUTfIqu/WeZ0J/2F/XBsMQEJvlcDbW5IP0W7JP72usBtkkjyJn/kjMUoj43jGTTTX4D2QZeSERFYI6mK01G+mr83JwRIJ8SuyTT8oHPaLC5kJb9mNDF9kkp2FD/DSySfyR69SQv9A1fkvOLAeYBrUIfzOJbBLf+Bu5kFyZv+sirhaF5ZBN7JCc3PGgwOar23WBfJcPJjf+FkExFNR8fCpbVhvwocY1L9lk3nIamznsCKliTc8uZFMNPlUtK26Irzb0+QZ6P2QXWxf4MvaMX/BID3wCslS+wTfy91Ej9kWSTasESbCEQ+C2S0ipCFMgk7ghObwuMRHAOG9JpKSRQ5Us1oW6XVjdHpe+9KXPQjYBphyZ4ZaDIJsgxiAJQp7MIpsCikG7MG6hanevDIHVJJskCg67MgxEEiSZUJSRlQJDYNRRM4tsUgBYv2kQVOwgIk26yCYssaRmaNAjeuC2MEmGgGJ8kiPvcSYSbB10s8imC13oQiWQ9k26Y10kYToz7IhhznVreG3s4GQFCu3z7IYtIojnBRkoeug6e/dcGeSVoD+27q6+MG6JiqKOHcRa9wF/ZQdeYlIX/5J4Lcl2zD0bg56NvYgB8zZOBJNnFkTibJ7LIZvECMkpWfDvdMff65Fsis4CMVBC63auNrFSw/mIhThfnOs6fxrESWvA3hQByF3xlz8bA+hMF9nEZ7t9UHcu32Ps4luAPvGliHvPP5tmfyFPvpfutJ/ZFLub/jMX3y+eTbrOEOgim9iEuSGUkNRimbVdLtmkS4WtScDpTsjHGiETdALHbZ5DI8YmJ5SDKhDYlRzU2NtYCdkUchaz5QzWwd/rjWwKgoiuyLV1F8ur5YsK/74FlXPpgTxAPs1PyTWRtvx7X30bCl1kE72gU271mkU2uTsCadJFTNhgoHOzyCaP9rDB20VcLQrLIZvYA/2ykTuLbOJLbEIPQTbRcT6SP7U21tqaL5dsEtf5TTWn+fkcH3R2JJvMnX+Rs4mjGzZsKD7ZRpkYOzb/SBfkR9be41RwF/QTf2FTyq2tclk+bZ6cKcmmVYIFQiIxVrdIEarFkuxxTNhM/y7X7jahI6Ekcpw3Y3ZunQwouCinBW6TTT7rPlBFV002CWYU28Pokmw6A5F86dDhMBXyHH7cxkXu5j6rs8ltdAgiAXUarJlAS8bTyCYJyH777Vd2GocGfZVAC+7GKsAbO320I8ERSrgULor8WZ1NEpC+wSjWhT3Eughm9e11Y4YkAhGn4HDrpN+X22FhDQQeJCW9UBS5/tiT02kQlJFwiEt6FGvdB+Qh+AYhExD4JS0SFcUxgnI58l40zEdSbnfPrUluJ7Su5rYcsgnxINCLK5JS11qvZJM5kwlSBKlCNmxhGurz2d2s86eBv0P+IYiRNvweQsJajQFspYtsUnzxuW57V6DQgzphlW8g0Tw02kYCHZlkf/w3G7JBIjcR/8gl7FV8UIArPsmKj+trx2uNLrKJ77BZZ+7GTDbWdrlkk+vxPyHHOHRf8v3yJnFyDIixKRiRJubKV5qD19tYCdnkmjZFdEHwOz5LzuuNbIp4YwODT5F/KoYUWXSob0ElbyED/oVOyjnlg+wY+bIcX7VIzOpskt8iC2aRTWzCdboIIvmBO0DY46zOJptOY5Ddcjub5NH+a+gsskmNqHYcgmyit/I2dmxt5eFseblkE58j94tb18/OZJO4QQbWlX/RFUsfdAkhptt2NDTYunWXv+Mo2LW/xRTrpzHDGtpkacfeLpBBkk2rAIGccTIojlZhroBUTEuI4unznkfDkDkgt89JFileW5ExwxKi9gPCIYgq7WxtsomBKDxWQjZFwmI+0xLVtcRqkk3mrzBzSw42WfJQF3acofd22223EkgiMQU/GZ6H8OrcITdGNw3WVBeQ5F1y0Xao1gNBaDeHjgyFWN96Xa0zpycBsJskmVfkCBoKDQEWgVaDbDhjSdnWW29ddLvWty4IwrrEtJuzA05XN8x6gGRIgkAe1llBJhELvekL50uiJDH0QYGpIFoPnV1dkChKThQvEpd5IHjRKbc1IAAC9IU9CXKeecZHjC1It8G++BNFh4RaoI3dfzqkuGdv9EjgdW7bLgN0xXx1nvD95EN3HOzILZwI3yiOEAXz6uOiYH7shd6LX27hRcZNizXznj8Nzg15IXUdigaJMHmNBcbZRTbxPWKZ2+j4aetcy0HxL9/YaKONSlFHHybJSXGsC1GR45lz4lw8uD3AL1/wghcsBaQOjbHo1DSyyTzdsiExRjSJ1+bI5pwrwReDrTtdIAOfmSQfcuOL5UrxzJ16/m7nJBe5VrtgHgrGK+eUqygG+IuugmC5ZBN56diQUypQ6Sh5krM8R76A7JIDs68uOQ+FGE89JuOU83gemmcn8quKpK5xT7oO0D05uuuwMbIec7dyF9lE9xXLahW+Qs7Tzm/5Vd2RbNNmOLlNA9IFIe6ZVm3iBunHVm0qsXGEJlscGsshm8hNrJcj6zKUt0x7QDgbVDeqDxcJestHWFNdivHYA7aMaECYGj9/JyfrsmWfUV+JQcgpdSyd13nLrtRHfLC6y5rGtcaI1SCbQk4xR3NGNtosshkkB9SEMCZYG35briV/Z8f02LrKL5FQNhPohZqtb06QZNMqQeLLSVgMAca/uOc4KCvSROcGRpDDYngcKIXjUBlyTYDAcskmY5CIroRsojwKH8bGUXIIi8RqkU0cH8dOVroBJISSsdjJ8j6mmZP1378UyPV8yVPgk/AjU9x20V6nGhy2a0gsYue9ht1PLZTW3K7oEKAPximxULzW5Bq90nll5wr5hjSgv25XQZAhVmq4lqTAnELf+ugKuXO45EnvBG42Ua/LonWuDwQMwYKTVHjpdDN24zZe42Z/s8YewYd9uZZkH+Eg6fCa60jsxlQA94E50SUyQVhK1BU+80Awom92xeouQrJAOBx44IHl3ysjiNvJ7thAFhIttu7g8x0CtOJMhw5imn+JonAageJ1yTwfRvf87joSAztl/I5bfT1MnVzYMr0cG9iGohRZxC/TEfHH+nqP/dcFWX0+GSKm2YnzyaR9/jRYC9ciL/HF7S1uP2OvYYuuNQYYTxfZZA5yC7v+OqPNrdYZib5uVP+tTycY+UzSKa/5rAJSQWxXvZ0ABtlkUwyB4/wxYBrZRCcQQzp6FE61zSl+yMx8+Q8xUFHVll+AD2ZnSBvypiO1b6dHYj2SVw4xNNiJrjfxBFnA9xqveOI9sYt8aiyXbCIzHSfyBXlqLWdEgrVBeBoHnWJn0+Q8BKyl/Cc2NfiTGBsZIhF1+8nV5IDT9J6P5Wtdx/XIOa4j/9O1KhYir+R/9e2uY0MX2URv6JGaRU3Cr9TFtzm7bUps5nuQ3F1+WR2EjNxrr72KXdYgI36H7BE75NrW2yGwHLKJ3rA79R+Szm1J7CRAbvTNBhpfzsfSzUXCGNmtWMN2a1tGJLurAUkUjwHgF6fZsvpJXCUfRAXC1XX4ZD5SHKEjNlWtq/PHsLaTYB2WSzZZc/Mz9/oh4GTmEN/VlIg3tyCPCWKq2gZhTDdriA98nXyTXxMD6pjYBflVkk2rAIppJ40D5Yx0eVA2yQyCQ5IcZJPk0W43okhCyTlTyhrLIZssOkctaVgJ2RTX4VgQDuawSKwW2eTzDFnhilXnJM0N0aEDjUP1OwMgZ8WfBEFQBQ4CuUSe/hWu5LVLFpISialCxu5pHVTAenJcyEW3SA4BzsEau2VLcFHAc4wQxBpZ+A8EdNQuuu4jySMHWUNipfh1Kwoyik5NCkBtBHNuXSTEQawYC5bf+14bG+gO/RBEdQFIrshMsCQLzpMPmNWZFAGHvBB4AjM5S85cy/y9xgesJ5gTXVLI6QTk89jZPGCvnkXDFuuuKDbJFumZAC1xoS9jhrUUF+i5go7dxcEHu/cdsauFnm2JGZMKQvCawlcST/eQk64jAbQ7hoTbZJNNii3y85I5cWJskFzSdcSRxFp3BL3naxWk9KUmGeN8OjXt/HZCNAn8C5/Cl0mi+MGwXYkzMkusGwMiGZ1GNiFX+GZ24ByyqHXGhpdC/wIXuECxE35rkl8OP+S2e7es6Igm6xr8O72SIPp9WtG9aEwjm6yzvIX8kGe1zcnNPHNCYce/sB16UBMNNfh6+uI5egpB/iZyA1BwI5v4q3k7ONcC8hhEtIKWDclVzAuJINYoesSpGsslm8iMXvqnKXKeWs7yUvmnrhW5EF8VhPIkOQ8B/pFtIR8926q+jdZYEZI23PhVeXwUi23IvflbhRedkxOYJ8gt+X56ys+LbWPeIOkim6wb+ahF4pEKdZe/98nUpq3cV74deeUk8NniGNshoxrkbdOEjfNj8qkx6M1yyKaQm7n6nDqLzwl4n87oUvVPi2w69bXB1YL4oP5kx7p9a1uWw3lAdJCIfKo7RdjDpDURr+X0fJDclo91Hb8jKJA2SFz/xAKxxU/VPnVMWAnZxM7FVZ9lD+56ATJzeDaXziZ+oa3/Q0Odq2GFX2sTQnSZfvITNkq9H/5uFpJsWiVI7HVqcJAKeYFYAsjhKh4lOp7obiE5YomKQwcU562QqI3OZ1yPoQuKoaQgSRYgOT5HdNBQAgyyayK2MMz1bu00sglTibySvFIiY0aUKPw5P0n9IrFSsonyS6yCFJCAKUoUqxyGTgAO0Bpxjl6XTNq1QRYE0SExk8zavdPmKkC6toPMycf51t7aOF8R4HyGaC3ogPd8xnorlgUc7w0Beqao4DzttnCC1tsYJVz01HPCHIovpKOfEm7tkwiQSCLIjr4IIrpRgjD1viCigPN9QdAJaopFO++crXV27VgXuygSUwXPWLoMAuZEVsZMdyRDbMjY2Qo7MS8JCTmyRefTD7pHBuYPArXPaksmh2hdjmuFfOYJbmOAQCQxlJD4d/IClvWfBLoTpDtd8Vk6SBZ0TZJSkwhkST8k/2yVjix6B3BemBO9UfzSj/pALCnwFWT8Dr2SvId/oQuKe7JRTLuWYrd9Lf7JbWWKXh0oEkYBnS22C8shYW3ZNH3gM4w5bml2mBe/7DW2Mel8/nzS+c5xPhuTyCOyFU7R0cMHsytJHd8bSRQZeZ0uIbJsBowBxsxHTyObzIsf9fwEyazx1zFa3iCh0+ou1wjbch0bUOJWTYiTlzyCDvHHcb64Js/wgHCkAh/l9SHh+x1dnU3+Nu/aThxii+dcsTsEi8+yKX6ZzSn6dJ/IvfgWPodOkI3iiM9yHvn4KbcQ5xEqipKhwE6MmQ7Tb10hfCc7EUP4FjpvPu3Cjp3YxdbJM41scn25mCJSLDN3MpMb0Ke2nMVHeavn99AbPh6BELnQGCCWeDwA8pFvCbLJ+BTTumrMQR7qPWOXdyNUHGwpinTdS7rb6Ak9IB8ge/4YEaVzkGxca6ywxnztJLIpgDATr8yVHAJkQ+8UkeI//0Q+oZs2VyOvI2d5JL+DZKEv/BEZg/PporxSHjCWOC83QaR2kU18D9uTw4ktoVOIFXLzeTYTUGuIY/Jt/gRJEfqzKIRuR71XH0gj3WdyMuSJsaqtwmeKw2xJDck/8i9qIzG5vg4/Si/UmEG8ym3oyaLn2xfyiVlkEzlYQ+fJ/cPHWnu3iXrsA+Ka/wOyps86urfffvsi16EaD6ZBHGSTfLe1Cx0GayUvsFlIn+mCObFreaeaT207LY64dpJNKwRnaQEw8QIUoQrGdjcEaQQQIxP4GRpnztgEI/c5Kyw4WQvpWhySRBNphBl1neh8YASSbArrupybzzBczsD377DDDqWYZfg+J8gJioo1iaxEi9K7HgdnB5QTpWA+E0mEMS66aCGj5ZJN4TjNh3yw8RIw5ICD89QNZp0kDM7nLKwHeQcJZe0kEl4nLw8JJ18gD8WiBFSXEkfrOhyPICp54UQ4YetG9hI/40AsSmiD0Fo0orNJkmwnTrLJEToUeZJ4AYFecQYcjQBKB8kNgUk/yMf7uioQTUG6Af3UPUD+iE36RT4KIo7V+RyOxKZeF+dr1xXAnD8mkI9kg95Y8xi3Q3GHiDNXdi/okoUAJKGVzFt/DhjRpMCx04PYE8DJKq7Fh7BB8qZX6wnWzFrb/dQN4ae1nATBGPlqN8/8BTG6JiGln/wP+6N7ArjElq+kn2wRieP89QQB2/qzA4kL38Qf8Dv0xuvOMTe+Q8s5n12TbjUkNeQjkdOpsfnmm5eikr/ho/ijscBa8T12xCVgdLy2IYmoriwbA/x++3y+dtb5Eh8FN5kqBsiGPPkqhY34xsfw6XEd9kaf7OgO2Z1inJIxcZyvUZTEQ5bFYa+315T/lPCZhzjNTnyWbPlvcYidBeiGnWqyrAksfpwcbISQkzhHdognfkqxIT8xvkg6hwD7MEfjE7/8V1e34CDBxHy21fYJfBI74Y/lBJ6bIvYg0fhhPplM5Uj8C3maq7hN3nyQmOUgW/Hde+KmzRrxynX5vSFg7Mao80/MUKCLpXTCHHVmsRM+xvqRj8+YG53iV8Vwm2lilTjl9XqtyYleuDURSRfXqVHLGemgeLYpIDZar0nFx5BQFLEDXW5kF7HGWI0fOSQvF7vJCqy5XNAmitzafOmCblO6KJ8iT/KipwjP6PqWN8ibfGZMCF3gI8lEPqIjEvFB38mEbQTYGnlZW3rvffqCoLNhjWDkR+kD/SEL8kTw0kvX9J3eF9cQ6nwvX8O2XE/sZ6PsEQEiHg4F3y2fNS6xBYFAN+i18fI79ZrKocUs8hGXzZUcxDLzt0HAZ4XckDLkST4IqZDbkGDb5mRu6kQbYshouYh4Ql+Mk00bO7JdzVbHmhrOZzvshJ/RTUhfXN812r5kSBiLXFQOrx6ny3Taf4Wni+yaj7OuYPzmRoeRSnJ+tZ1cRKy13uomG4nWnH+x5nyta7I3ud+YwKepdcQSG3TGbN703byQSnJ3eRQdBnbOXtV2/EC8TpfJU+zmY/EWnvW0++67l7ymLc+FYL2TTZROAkfglDOKSAYmIRbsMaSSQIrJEXHwijGJgSTY6xyavzksyQz2UyBzPecK9JIqCmFROQGJt8/4Hg7LQ2cFDISHcySikkmLjIRCJgiMnDpHyrFIOBV+xiehEIgRVwiphSrC/2ElZBP5CGJ2psjOc0z8dBucXSyHNk6FR+zUMgbyJDuOASnEkOyq6FJicIwsggrD8Zoxai/lYKxJXMs6CUaSfgSEtfG7xF2giYA7BDh+TlQhYp3jdpwgzsyJHpqDtTcn8xZEBUvy8Fm6LSHxOckEPYo5CSISU2uwYcOGQppYF0SCW4asxxZbbDFxXehmdDaMCewVUbvddtuV/0xovMYe4/efwCSW9IQvsMY+I1BLnOgkGSlK6JnX7YZus802pZ02ruN3yYxiczDmf5mQgAgefKD1ZUd0bRL4JD5Rd4JipybSzZuu0UMFNT1jl/RT0eOakoKx6cgsGLPAjUjif20+WG8FD7LS6+bEVgRzOqGAROROAjlI9tiY4s4DocUYvl5CMBShPQn8Il9hh1BscptubUN8AVvgV8VFvoTPdEvvtPM984BvdT7ZSugRnOyT7klu6BSdQVK6js+EvTn87iB/xeFQsO7iSMQK3RBitfkHoWRN+daAJFeslOTKD/hzhbCuACSD5JAvCuiWjP82KnEO8O92I73PzuQi4gK7pKf8O70duhCSAPMF1mqPPfYoOiGeSOpt4BljXRiDGMafyKsk/rr/dKyQgbxJbBK72Yrcx62t5u4z5qvYJCvEDfkgJslZroR4EM8l1q4xBIwbsWqnmG67fTnsxE+HxN54ycb6KaQUPGzNhgcdc14QJuZqzhHPFZFkhXwhw0nFAZ8lX0NoKsjlXW6pknPKe9jmmEAGijz+QpzhL+TcdF/xTK/YEBuLucpLvI7o9Dm5lHV3jpyIjBzyKbrCdyuu6Ytcm/zHVFgDOchNzF0BLB6LI9aafou/8uSAOVhLMZ4tklv4LIfuDrk0PXNErkkf+Sh2JRZ4j+4i58jLe2K+cZCd3EAxSq+GlJl8TvwlB52ffIdcjx7I7cWWmmRxLptyntjMtxo/P4xw4D9CbuwMmWmuai25YchtSBirOZkbnZDz6ggVO+g938Em1EHIBZsR5jFtU4ydsQu1qltTxW62IXbRpSHJxDbYs7hpPayLvEFdYs3ln2zZuM0dxBfz4zM8lw05hXjhG9Q7fCw7oivqSWuPeHa4vvm7xphABuoXZDLfbY39ZPN8pZ9iMTuPuGeTQh6K+1D7+TywdSQbv8A/4CbEIzma8+mNmFHnNWuO9U42RaEkIaSMlJWz9LdEzq4BVs8Cel0izBFRWsHK4umW0aYs0DvfAnFyGGVKbHHDeUWCKMnCPvsMtpjy2oVjFJyd63Bigp0ChqIoRlxbIOBYXM84OEqJpfcUPrFjvGjntxKyiVwknUH2MOj2wWA4AUYA5sd5crDmrRNN4eEnWZApo4mg5zs4XOQeUop86+RLABdUyVMLubWhD9Zi6N2tCHwcofHoVHJo+w2yUlIVxX98hm77DB2OWxToK71qt5f6rPnSN4mwYlBA4YQFWAFr2rpIOJw3Npi7RIhdTRq7I3b/IxBLLtigoM35WndOVVBG1k26hkNyRg9jd2C9gB2Zv11KfkYQnkZ4WGO2gQzn+wQtekbnXIPfpF/OYYP0jnwFtSHtZyUwP/KwKYGIlGSTEx/C7/IzZMhW2KD3nCc+TAL/xYbFANfi7+y4s8noaB0LrKt1lnRN0nkHv4CE5J/ifPFv0rkO82VLzic3SSJfJoFRxCiKyZwsyWXSNRxIMPY2VHcKGD8/ynb4Yj5Agmdd+WQxxJpKYgPWl27wLz5DXvIEcYcumbvrBsQzcU9yp4iqwS+Jafw2XdR96yd5kusYbI4P5gvIAyHEPszHnGOnPJLfgHEbv7xKXkE3fFZsIifkOF2jQ/xL5Ez17U58FR3y3T5DzkgmMdCakfNQoAPyQLFzWr6jwOVH5DDxGetPp8gy/JA803l0MIhaYEdivthN1+hgvBfgs/gjhKk8AmFAztaHH4/iYyywZvRFnDG3yIPovLWVt8jh6E/YkDnYPEZcyrlD18QrsZ6OxXXoiGs4l26GLxob6AK/Z8ziiLyEHsmfxVzxV91RQ25DbvwJOdAX/tM16EDtK+Qw5EK/2I5cMHSHPsqVXYvfcR3X8J38N9scGtbN2hoTnxGbX373Gp9pTgE1FbnRfflPEGsgh3Y+ufGvITe/m+tY8hp6bU7GGoSDuM3+6TXfQZeNl22LVfRgmo3L2cyRLbgO4onfse4+U9dOQ8NYotYRU43ZmpMBv2D+xi1eAL/Hftg625Hb+Twd5yf5kLAThxgiFxFrXMc5dYweC6ytGCCX5BOtcxzm4T2yirHzpeHv2DIZADn4XT7ide+zDfFKnPCamFHnNWuO9U42JVYPKyGbEolEIpFIJBKJRCKRSCQKkmxKBJJsSiQSiUQikUgkEolEIrFiJNmUCCTZlEgkEolEIpFIJBKJRGLFSLIpEUiyKZFIJBKJRCKRSCQSicSKkWRTIpBkUyKRSCQSiUQikUgkEokVI8mmRCDJpkQikUgkEolEIpFIJBIrRpJNiUCSTYlEIpFIJBKJRCKRSCRWjCSbEoEkmxKJRCKRSCQSiUQikUisGEk2JQIvfelLm0MOOaT56le/uvRKIpFIJBKJRCKRSCQSicScSLIpEXjxi1/cHHzwwc2pp5669EoikUgkEolEIpFIJBKJxJxIsikReNnLXtYcfvjhzde+9rWlVxKJRCKRSCQSiUQikUgk5kSSTYlAPrMpkUgkEolEIpFIJBKJxIqRZFMisNZk0z//+c/mr3/9a/Pzn/+8+elPf9qcdtpp5ecvf/nL5o9//GPzj3/8Y+nM2XCtP/zhD80vfvGL5sc//nHzs5/9rFzP4Tv+9a9/LZ05fvz9739vfvSjH5XjN7/5TfP73/++zI1M6uPPf/5zOXcazJlcnEsOZELWfv7kJz9pfv3rX5fPj1025vCXv/ylyMP4p8F5v/3tb8s55hs/6QMZdMlqEpx/+umnl2uQl+v5+atf/ar529/+Vr5vDDBO82M7xjYJ1th5bMt55hLy8Tdd6jsf13L86U9/Krrk8w6/sz+6OgbEOI3nhz/8YdENejQNziVHMqJrZFPLx/uzQIb8jWvQFcf3vve9ctBD+jQWvTEfPpZcvv3tb5e594XPmiMdIpu+vpr86ajv8rvPsSVy4Y+81kfOY4CxGy+9J4vlIOT/rW99azR20wfWiB6bNxvp8q/mZY78hbV2HhsR1xyu02fNfda1fF/EsrBRcbLvdcYA4ySz73znO0UG88LnHWxplvzHDjbA/iN3q32mNaY3Md95EXL+7ne/2/zud79benV9gd5b5zpei2d+8j994wn9iFySTP3tcA2ysQa+azlyXmuYozhDBmH7DjLwkz/pIwfnmC9/QS/Ml/75vPnPyhGGgnUyNnrgpzH3gXlG3hy1hHnXh3nPo0drBXpnnsZKv63NNBg3fxG64CffQT7z5LJt1HImr75yTiwDSTYlAmtNNnEK3//+95vnPOc5zeMe97jmaU97WvP4xz++Ofnkk5tPf/rTcyVhgucnPvGJ5sQTT2we+tCHNs94xjOapz71qeWavmNoRzoPOLrjjjuueeADH9i8+c1vbj7wgQ80H//4x5tPfepTZx6f+cxnmm9+85vl3GkwZ3L55Cc/WWTx7Gc/u8j6mc98ZvPIRz6yed3rXlccapdTHwPMQVJOJi94wQuWXv13OO/tb397medTnvKUcq55P+IRjygyUMzOA+d/4QtfKNd49KMf3Tz3uc9tHvWoRzWvfOUrS9I3lqREwUcn2M4rXvGKpVfPCkHUWrOtJz3pSc3zn//8ogvkdMIJJ5RbZSVcfSApoFtf+cpXii494QlPKNd41rOeVezvox/96NKZwyKSF37hAQ94QPPWt761FDDTILFgVy95yUua448/vvgOB9/EB/ZJPOigpMc16Irjzne+c3OnO92pedjDHtZ8/vOfL35vDCAfRcbb3va24ufpUF+QhX8g8bznPa/Ipq+v5otf9apXle+yFr6fLZHLa17zmvLaeknwFG1IIv7Gei8H5v+ud72rOeyww5qPfexjS6+OH+xf3OBP2MhnP/vZqbGI/b3jHe8o/2jEWjtPAfT+97+/+chHPtK70FFQ8C38F19D7k9+8pPL8cY3vrF3wTkGkB0buM1tbtN88IMfXHq1P0L+/L35n3LKKcsmPIcGG/jiF7/YvPCFLyw+Um5y9NFHN3e84x1LjBKb+CrHvCAjPv32t7998973vnfp1fUFhIqcI+K1eHvssceWnzYJkAV9IJ/50Ic+VGxI7Fas0xlEHFuU6/iuMfpfPkK+K97IOeRi7F9sJpcf/OAHveIqWZkvf8FmEJvIBeSG+b/zne8suebYwGfKbdm7n303Jt70pjc1D3rQg0ourJbgb+XCfE8cYq841jf/WyuwVfO0xve///1LrJgG8Ya/oAtR06j7Xv3qV5e5LDc3ZyN0gJzli3xTYo2QZFMisFZkk6SBY+H0JEqIIcb97ne/u3n5y19einsJpQDQB5JQibrPPP3pTy+BRPDktO53v/s173vf+zod15jA4Usgrn/96zeXu9zlmpve9KbNzW9+8+bWt751c+SRR5553OUudynz7CqeBV/JhfM4TjLxt6TL2iIGyFuCMTbYuTA3Y1bQPOYxj2n22WefQhpMgsSJPkk+6NR73vOeEljf8pa3lKQEESNIS9JnJa3OEfTISfJLj97whjcUPaKrdMzfQ+qU8UVyJNje5z73KQUr25kECZQi/4lPfGIhmj784Q+XIsf6I+MUy5/73OeWzu4G25WwnnTSSWVdJMJkK7FBkEpskC5DJK3WNmzI2puzxPwKV7hC0YNpvow8EdzWl/5YX+vvnyTc9a53LYSMAnkWJMQ+43vZnc/RX+TVDW5wg0Jakv1QIB9z/dKXvlTWiy4cddRRzQ477FAIgT6Q6H79619vNmzYUApCeojI7AM2eeihhza3u93tmrvf/e5lbfhodkZvJIpjJwzI0IE84VfIAdnaF+Sv2JP8mzMicuutty7rMWawZzGFnbAPMeSII45obnnLW5YNEXF4EhTIYhhdufe9710Kifve975FZvwXf9Llk71HJ8QCz5H0Gd/Hf/HzZOhgV9PGMDawP/PfY489yqZPH4T8FVoh/1vc4hYlRyOHMcbxWVAU8iVirPmwCbkKv8Q38JkKSf+kxsbBvGBnYuKlLnWpqRsxY4aNi4i1r3/968s6I6cV1vyO+Ns3biNZ+Ct+l89ng3yvTbzHPvaxxX748TH6X2SkeCqmk4E8lv2/9rWvLXmsw1rPgjxRXOezbnvb2zb3ute9ij9y2BjyHeQ0JrAR8xcnjJMe9yVBkPJXv/rVm2tf+9qlljBvBHddSyB35Sl9CazVhFxNHo30stnE1v1TqoMOOmhibYMs5AvEADmWmpEeiA3sw3z5Dt1O8+qxsbg2+2AXYk3fvCaxDCTZlAisFdkkuVS42RG93vWuV5yEvyVSCheBT+Esme+CJFQCoutHwawoVPhKyjgayTtnKhGV3K0HCCKSyete97rNzjvvXJLRS17ykmceF7/4xUth6CenqqieBo5ScStR8Tu5A5lJYl70ohcVEqtPkF407LjZkRR8EGvkseWWW5bfJ0EwlrwLFDouAnYq7GB50L0dHvKdlbQKOoIf2d3whjcswQz5hUCR5EtKJGiS5KGgQ4R+Sx6t4RWveMXmKle5StntrMFG2IME9WY3u1mREXsJsG2JPtuxW+jcrsKPDinokAMSNSQVUlgSgGi5wx3uUAhBSd1yd5dWAmM3Ft0UD3/4w0tCfa1rXas5z3nOU/xK+58dhHzs7lnve9zjHsVevOaQxJAbPaSP0+A6ZCP54TMltHTN6/RNMnfAAQeUxI/+OHeIpN530h3jefCDH1wST7pz7nOfuyTaXTAXh11kST7yl12SXd+kjP1st912zfbbb1/8mIOPUzQruvsQekODDCTmCh9rKoaxw74gP8SeglF82nvvvf8v5fqvkjyPGXSWTouxfClbEYeuetWrFn2fRr7zLdY71nyXXXZpLnOZy5T52yRiZ13wPt8rX+C/jMMaBFxDLFR4f/nLX156dZwwF34Ryc9PbLHFFiXP6gN+RAch20Ne3/Oe92wucYlLNFe60pUK2a9LY71BUSg2iRt0iHysLX+i+JQDHXLIISVX6dO5EuDnyJlN8S0XutCFyjXWG5DzNpNsgMiNAwgHBC47splBN2qbmAR5HpJ/r732anbcccdijxe96EVL3oDYs1kX8h8bFP5yfARErQfyDOSTNe5D1stVyGv33XcvBD8Z7LTTTs3lL3/5IhskFp0cE/hVsRFhKhfpQzZZQwei36Y1P+Goa4nddtut5NRyY/5o1jXXAvy6PNr3H3PMMWUsxiUnmVTbyD3l92IQfY2uPvZOL5BNuhi/8Y1vlDx+Hrg2HaILNlGSbFpjJNmUCKwV2aRtlcPQjYE8kCByDJHISjww8bMIIoGRM5CEXvnKVy7X1MERiYYCkYNWgCuI1gMkjMgNYzcfDlWSQUZ+Ssh0X3DM5NNV0AuaAqjiVnEUJIsgRN5kbbcDUTM2GCuCRwCwk66YECCnkU12RG90oxsVEoT8Aq5DpshLQQjxRP+6QA8VU3biyZpO0TWJvgLpVre6Vdn5GPK/NFo/um83G3Fwt7vdrRBjbbKJLZAj+Uksdd0gGgOSNTuaCmbFo3NDTyaBLO0qkScdpGN00E/dBgceeGDRuSCPFw26bc703TwV9grULrLJeiPN9txzz5KsSFS8bl58ILlZdwTkNPhOSaEdVl1UWrztkLqOg/+hU5e97GULOejcoeRjXnHrgESd7vQlmxT6/JDdUPY4L9kkmbdzSRY6DtiXQlkhhBieN0EcAuTAj0jkzeXGN77xXGSTOZI//eTPdfusB7LJvPlBnVnsG2lp/rPIJvbH9yqYxWpxDeGtcGSnrtsFPokPRrA85CEP+TeyiZ3ZsEJqiZdjhrkoouiO7uV5yKaQPzsJ+SvO1jPZZL3ELLJAotEHvlQMsmHAtvbbb7/io7zXF4pQOsO/iItbbbXVuiSb6AYiBbGPfAvw23Ih+sP3iON0owvyeL4GaSPOsUvXR2jRpbDFWfY4BMwRMc/W6xhBT2wC3eQmNzmLfKZBzGMriFpd2OxQbkSeNsvkePzLmCBmGuu+++5baqO+ZBPZBIljE0weXdcSNkv4Zf5Ynt2V960V2Lo8SEyhn3IQNj+NbLL+NjNj8w9ZBebrWohEm6DmN89jWEAHoRgjnslhk2xaYyTZlAisBdnEIXD4CnnBQzIg6eYsOB0twZIORfG05DXA0djV5Fzs1iAZJBm+Q8CQ0Aomiun10mJunIpaiZZbSshEEuEQYAQI9yULQLMcIQJAq7DWWUWwTjEJhaBC5hyzdupZHWRDQ2KtI0Kh3iab6A3ZKO7tViEU2m3lknMdHHRZAKnJljYEKOQb4orsrAU5+x5Ful1YJJ2fErwxQNBVvEu42mQT2QjQunw233zzMxP6AHtBrlzzmtcsuzl+VxBNg4RFsEc2uW2VrZENuUnWdAXZhVNMjyVpoxvTyCa2YE6SDDtqkh3zNyfvIVIkuoppfmsayIFeucXSbqkuqZrgJlcJvp1oBbq/5yme1gLGjLCmO33IJucjhSTmintF7rxkE3vyPBbkML9jPXQxrgeSCeiEdXOrj04az+PiV+Yhm2qQJ4J8PZBNk6C7YhbZpLPY7c2KHGuOZOJ3+hY34jzbImuFSDyXg86wUzolX/AdY+zSDRgrHyJ+uKXXbTE6C/qSTZMgRq1nskmBp8MS0a+DR9HLzwDfJD9ReOromFVgB8iZLOiJayIhL3KRi6xLssnGjngrtttUCvDB7GHTTTctt8bzvyG3aRBzXEsOoJuEPdqMEbtnfXZo8K9ijfxGzm++chuxw+MNkCa1fKaB/dkUE6f5cLdNyVvkiK5Hd8YCub/cjQ6INTbg+Yw+ZJP19HmykjuTk3zM6+Yo7uriUQPQg3h9SNBDdQ9bn0Y2IUX5CzaNNLXpg6iydmKKOsemKf02/z6Q14tJcnoxxC18cpQkm9YYSTYlAmtBNnEAinm7VbpqOEKJI2JEooFY4PglorOcH0eggDPG61znOoVUQgA4JBuuxyn3TWrHAHMX/MwhWHvgiCXqyDMyi8DRBddSSLqNSEFgN8BOIscqQCvCBV0Jx5jRRTaRATmRy2abbVaSEQlEDXoiMdOOr8ur69ZDspCkaqXVwSTYK6Lop5/IQEQK3RxLYtJFNtETAVkAvuAFL1gSrNoe/G5eOpIkc24bk5i0EfOVoNAl5B1iiVwc5GKdyGZsxEEX2WSsClXdRoo28ql9CNnQn1nEGT30GbuEuiwVAPVtd2zabYr0yjoZB5seEsbcl2yKZA7J5LDeuuHmJZvoIhu2MUBvyAyRQM7kMXZfLZ7wL/wR36njjS0k2TSdbOIndDSxp/Cj/Kwige+e5UfpBALYLdLIWhsBrkl3+Ry792Kb3fsxbyqZg40QBQ3Cia92e9fZmWyyhnRDPoiUtH58TbxnU9JGohyvL9lEznJMPlhhrqNu2223XZdkk6JZTJLn6tYQh/hhvsLa6y41LwXzLDtCNrn9HykTvpctkrm/63xzbEAi6H5DQujykafIY5ET1pgtiS2zgGwSe8RiRKd5O8QgciCD0L8hYS2tj9ut+TVzRLQjWfqQTRGvzVeHX+QvXrdZIo8Tv9QUQ+chgT5kE33l+9WO/IJ8Xi1jjmIpOxGTreUsewDniEOIJnKW+7u2eiHJpjVGkk2JwFqQTZyAXW23t2Hq7TwJJA67fdrk7bwE4dQFQcIzWQQh3QISfoWjQ2eBrilOhDNZLzBnhJyfNZmkcJWUCT6cMCc5y5nGzobbFT0r42IXu1hJ1DljuwI6UCSoEpUxYxbZZH0RCcgU3TZtfRUwkC2CiJ29rmctxS1Cl770pYtO+V7FjFZrSasE1k5Te32GRBfZhEyRXNkhJh9jr/XG72yNLSKcJCGTikbnSVQkthe+8IWLX6BDnveEzEH2SWRdv6sDaAh0kU1sRNcXH4I4sfbmaMdPUWheugn5rS6QD51A1EngnF93iCkyPdyTXunopJNDk3LzkE2SW3aFaEIsSMolv/OSTTYE2CEfRHf4anpEzm7nkGCPGWTAx+ia1V2aZNNssom8+B/xWKHgp9uQ+VXE3Sw/Gr6Hfupg4H/kD/wd+YuLCmg6OIsUHhI6KPkSes4niyVnd7JJQUxv+GX5nPWL+KRjzSaiZwq5/atvJ6hnXpIzX0POfMt6JZvEJ3pt41ScJiv+Vh7jHy3ISfhwNhRymwZ5j3yZv0W2uHXcrcx8F1/c3qQbE/hJY0Wu7brrrs3+++9f4qnYLTfr2yksN2EriOv4LL1AWpCD7+lLaq4l2AECBSFEj/kO692XbKILdEKOURORNgORbMhu+X90BY0Bfcgm9oBk5PfFAM90s+mlxmETfClf4rxZ9gDk7HpqTx1v8n/fn2TTApBkUyKwFmQTB6L482BRAUOwRKBwgIghBaFgKCmdxU57X7KlW+BqV7taCRwcBoIFoSV4CCpek8isRwgEAoL5KOYVrXUR2wWfNW8F3TWucY3ygEAP4/VAWv/lRdKvuBtbJ0obXWSTOUrAJAvIFPrUJpMEWPfoK47dctkmHGooIj0fgn561oOALGEV8O0wWgNE5rQOoCEwi2zScu8edPJhY22QD7LJw6sVvJOKFnZI73QQIG6cK1lTcLM3yT198qBR+ibxm0UWLwpdZBPShE54zpIER0JrbSU91luh4jkJEtRpxXQXyE3iw37dqmiNJJCSnKHJyj5kk/E7JL7igfXW7Wf8yNh5ySZJM58skWNT7M3mAl9NR8l+DMl+G2TALui6DgzFje6JJJtmk02KObeB2IEW5+0gK3QViwgXcZyNzAKZKwo88NbGidum2Sy9cT3+aSyFUw1+kD+U58QGjzieZNN0yFvYA3LBHHUczNoUCzmLcZ7fI2/gm9Yz2QT8tLm5A4AN0XW3+dB7ttR33fltfsrnXYfvZbdybdfyk43x7WOD+CI2eEZZ2L+f8hZ+xLgRl7OAtOODbCSxOzGIT5cj8OUOf/MjfP5Q0AltbeRV1h0R6NEFfcmmSTAncVwe5Bry5DHl/n3IJrbAD/Cj4i7/IFfX8eqZVtbVZl/fDXTfQc5yPTpEJp6RlmTTApBkUyKwFmSTYk9RGrsTitd4hg5no7MCoWBHS2HS5Qx9znNmPMBXsSgYSTgFCZ+ze+N1zrW+pWU9gdM0dgWOe5UnOeBpkKBI5CW5nkljdxnp5D+RSNS1qAdpMmRgnYVZZJM5IihnkU3II4WuYDQNimnJbfwXHMlIdMbRT0WTzhQEheuMQW5dZBP9kXyb0yyyCWGr2yDssYYgb2dVl8I5z3nOkgyQtfk7XENi7353tx/yGX13otcaXWSTBJUd+A9Z/IjOHetsTpJuBQ+SVselJHQeuAa5SfB0X7gOUpRfGwP6kk3k4fZbiZx1Ddksh2wiC7caevYCxPUVgp4ppgBv2+/QMEZ+RiKsg0aRxmciipJsmk028aniDH0DsZn83LrKX3i/azMo5K9YpqN8ue+VP3gWj80THRt0mR8aG+i3WCG3QQ6wHX8n2fTviLVmY2I6QkG+qCPF610Qb/h3BbqcR+zjr/4TyCZz0bGFJLBZwQbkIPIidkE2ZNcFRAv7iWLc+Q75AzuM5wH13cxcJORgOt34WZuBNg7VEJ6zaOOU7yQHsuqSA1sMgsH5ATKhZzqPyZcfmaVva4FYa+NDCoqTNsRWg2zyGUQbMgV5G+s/FlibWWSTmkYeah5qR6SQmoYu+C+35kY+dN250xBy1ojAL9AFck6yaYFIsikRWAuyiTG7dU6QUMxzqmHQdjcVLm55UvhxGl0JlPcknTqbBB87zRF0ORMOFWkV/8ZyPULQkyxJvBAB83RXCC4CKIJAkeRBgOStM8dzZewKKBgVv2PczQrMIpsUKuY0i2wyV+22XfqMXNqwYUMh5PykmyEbxIRCmc4ZiyJpiISkjVmdTdZcd84ssknQ1mUyyebYE33S+bPRRhuVlu46YYl1cJumDh4Ez1ieBTaLbKJTihr/xj7WNObltkDPPJPoIa/ngc9LaHRjIDl1fUmYx5LMW9NZZJNzFH41yWJeyyWbyMM1/ITQHd8tJtBTu5ZjgvFJRHVLOKJrL8mmfmSTIoLvsNZAp8hPscznkCE9nAa6xkcpAsnKs1nEMoQCf+7ZHexXEToWIreGognZrECi++afZNNk0Au6wlfbtHB7FxsRx0J/psHtMApQPlzHNjn/J5BN5m0u4gbSRSEtF7RJ4llXOonJzDldYEf8NF/mXNd10MUgcNyuqJgfG2wC6aTmf9m4nEc8NmZxQ1cLmczSE75c7CGviEHALuU+/rkHWbh+/f6iYG34C75NTOT3rNVqkE1uEWNPiBTXj/UfC/qQTdZJLeDZTO5kEQdsAvpbLHHnhlw2NtGnQa1p40s+TLfYFTkn2bRAJNmUCKwF2YRB9jwUnTWM2m5NdEBw7opBSajnMkgctDZOg+RWt45beiQm7UKSU7LroYhEuqw3CIyIFsWMYtWzHvo6P8GII9ZijCCwQ8LBcqpa+DlnJJwkXZCdh8RaNLrIJgHCXCXuyBRFX/vZA2QmeEhMdIdpUZ4GHRwKGK25ko5IykAigGAht6233rok+JKboTGLbFLkmD/5aBeud3z8rjPM85oEaXOSzLZBBuwTUbzJJptM/O8v1sEYEJmefdRlu4tEF9lkTT0/ho+gH8igGm430BEnkdGVNA8Uf5IZ36vgkRR1JUCLBt3uIpuiyEf+SPKRh/7mRySGiEVkPpnRmSBlJ4H+6JjjkxQL7YKG3rFv+kPHxgS+0a2o5MOWzN8hdpGd//aJ7PYaGZBrX/wnk010RPKOjOQL2nLxjA3dlOIbInMaXJcd6SqVE9Advgi5bT3Yl0LMrRS6h4IsHgP4VnaPcCYHhAGfo/AzH2QTssB85tUd+E8im8ydj5Efko2cjb/uU1jTETrEd4iHIed4UPg222xTitPl2OiQoMdx1EC4ymXkyfIVc+7KReTYcm+dHHLB2kbkQ/yYPFpuM6bn5lkvXW3IWrms9aQPNon4FDWKnBDJwA+YW53ftIFgEH/MWSwLuB4Chp7waXKbRW8KWQ96LMf0/TFXMpCz25xHMNrw5PvMc5JuTIM4biPfA9b5zbFhFtnEZq2bjWM1DZ1n43RbjcpvqAPlauKE2DoJ5EXH1T3yYb448hr5kJpXXYmc5r/5i3nknOiJJJsSgbUgmxQlEiPtqpJMDrUmm3wXskkSpiOn66GFHK5uATvskq72OINssuuh2FtvEADJx/jduiVx91ofCNAClp0qyWwNTptztcthZ8wO0Wqu8Wqji2wSACRZyDO3VCA5JPUB7yPY6BoyQedT3T7dhmAjaVG4CGpkFUFGYFN0e27AVlttVZ7D47Wh0UU2SUjM6ZhjjilkkwBbJ1GRtEk0kQeC/aSdTTIgC4mOXWLroOunRpBNbmsxnjaxMxS6yCYJBhKJD5HMtf+jDbKJXDykVgdGH5AVn6bI1JHIziR3XqcvZE5nhy54fH8X2WScknfy40M8O8Ih4bMbruMLWeC2FSRSF5HmuxQ6ikHr0PY3dEmCqVOKjY4J5qr4NU+JachBHENIe+C5QshrZECn+uI/mWyiOwoAsZffVODWoHduhWN3ulGmgc3qalBg0JP2dXS0ICa22GKL8n1sK3z20KAv7MouOd8aumMechdjJh9zkM/Mozvwn0A2WSsH29GRoHvDOopL4pd4JbZ0+Ut+jJzlrPxuyBlJqbhGytiIWq6cFw3yMF9rSg5yoDpusy15m5gu5urq6coNzRsRa9OSTOTaYSP8udvExTixjnzGAhuF1hOZzwe0cxMyEVfEIeSb+G1u0yBnE+/5WvoR8Bm3uCKb+CN5UtQli4L1NiZ5Bn9pXRxeQ4S51dHGBj/Ir5CFz8zydaFL6imbQ26HR16NDbPIJqSPXBeZRPdrwtRPf+v60h0tHk+LKWTBHuRmHpRey9mmks1FjRDkRU7R9TRLzok5kWRTIrAWZFOwx0gOLLRAEjtXHD5yCfuuc8QDCzmFaRCI7BgiEuxstokpTH78lykF33qDBEOLJ2JOJ4m/uwJpDY5TQPWsJoGrRjhmCa+OF+u8nskmgUCy5XYKgbretfG+JFZBSEckG5M6dwJ2ViUanvXlGQY1KYAoEJzYhNvsBKauXbRFoYtsMnbzP+GEE8ozcZAG9fwlLDpTJGueoWInZ5KOkaOD/JyrILAmNdgxQk/SijCY1AY9BLrIJuvr2QgSFORJu8NCER0+xA55H9AJXYjsyncjFCSubM7vEhh6NjRRSTe6yCbrSV6eFyfZt7vsUBxLWPfcc8/yHCpFMxKJL58Gc5cks0EJL/nUQIy7nkRfB8KYoNhDZpi3I+QgoZX4SozpvdfMq026dOE/mWzSQeDBw5J3xWzbV5Ifsont6SidBjrqmUx0jH3SpRr8FbJFl66Y72++agywWSRmsBfFS607/Mr5z3/+kr/YRVc087/z4D+JbIp/MqGw1oEiV/Q63UBC8dXTgOxmPwilWs58E/3bdNNNSwHJH7vW2GVFx8UHMcv4+eh6I4StiVubbbZZiVtso4sc4ZeQbjq2dX3InSOv4d/Iye3vZNS1abBo6EChD9aV7627kYCcxCgbg3RnFtmEsGIvNt8QGwGy0+Wi7lCXIJ66yLu1AP8obzdX6x467NAF6rEXsfEszzPXPsR66JI5+w9u5Dit62dIzCKbrIf35WLsOPwGxO9koiZUB0wjm8jZhrOcuC1nNqLe0p0vH+a3fWddByRWCUk2JQJrQTYxWF03SA4toYrfSFLtUnDyCAUBQQKr4MFocw6KGbsygiHHwoF6TeKmM0MiGgkK58Ahcc7ajBED6w3krmNHgqCt07zJog3BVQHreUMSfDJDKPgvanayOF+OOpL0kI8EFWlAzl0EzNAI0m0S2RQQWMxF0lGTawKYYkUx6LN2MMiCnkg46VMQnoKQpMP5Ol3oJwIzkjg/kSgSMt1NbqMhy6FhzQXJSWST8dEPiXiQQHXnl4Bu1x0JoOglF3oiGZWQsEe6xW5dC7GFwFTk0Kt4nWx0gPg3tIg9hdPQSatxObrIJmtOfpJQxSqb4Fd8jq0pXiU+OlgQbV4nH8UQnSSbusiWDNMZBI1nzPiMgtP5OhMVldrkJdFdSfEiYO3oOt2ZRDbRBbvc1tx6xkEnEI18tC425BD/SpfIhy1F8RfdmGTG1ytqEA+xMRDn65jzvAy3NPJbY4KdTUks/1rLwbw9uwzhxD97TbFgPsB++CX+ZdqtKc6RGK83ssm6ObrIJjpgvemXXCLiD72nVxs2bCi377IVcqOP7BG5QJ8Uwfw321FM6y5znbitIcDmbJzwO8bhGvX7Q4JM2BidrnXH5peiEQmCSFDQsBW6w5eK/UgROU17vhDy/08gm8QJMhFPEAaIEbGEP6ED/Aa/yR8Be3SOg/1Yb/kLfWvLmY3aqLPRIk8kT3JukxZjA1sRh3T567KWw9aELLkgDeiPW9/EIufTHe+JW/TO3+xKDGJD4rz3Isb5HnmMfEauL38I/zUGsH9jt9nBl8gF6xzY2tMBea48xiaO19ideSEw5XyRpyDakEk65/icgN91y/gvd/GohUm59lrCWtBt8aLWYceJJ55YNlPlV/IvxJiNeHM1Tp1OSDl2I3erIddHYts8NT81xRg3l+kd+5xGNpmHedqQ4ifMyfwh/CH7Zxd0gSy8b0OVfw0fKR8hI6+15czXIJoQWv7ztPxN/HEd10+sIpJsSgTWgmwCgd61FR0SLcWe53kIkhwhwkCQjWCAhJJMKoY5TE6EY3ZwGoKE580o4oyVQ3EtnQhIKK2V2o7XGwRZzLoAgZwTeMO51iBPcuMcsfXmKqFH0JGjtmGJmNc5aPLhyBU3EjAFOFmOCcZjDhJRSYOk0c6OBB1ZaR51UiQgmA9SwA6F9xU0EhF6YYddZwX5STxcV7AhV+20Pi8BA9elaxI8SYlrkJkk1e4QUkvwN46hIMGQSJqjIIpIYwPsyVjNT1ANKJa9Z646tyTnQUgqdiUwEtYA2xN4XZdu+T5yI1cFneKa/dKxeBYPkk/i63vY5aKTtRrW0litEZvYeOONy+6g+UpE+ZRIIKy3zjjENGKKf/FZCSffIsmLgtj59FJip7iV9ATp6Hp0RUJLr9ie6zl0abqWLg5+KeS5aMQ46Y51U9SzGWSTMXqNfKKwq+GzdIps+CY74Z51Rf/IKgobSbBdd23/dM31vM7eJG/0hy25joP/JxM7ikgnr40VZMA3SWCRbtG5Q7fYHRmEj+Y7vM6X0ItAyN883aZJT5BNisEu+Y8F4o25KuyQ8ghHMZZOKJZiFzg2CeiH7kmfMWexWWLPlyMCxJ+IbfTLzj6d9Fn2S9b8F98llold5ORarqkAcS7C2BjGDLJBPMpnrLvboPgQvphO8AvkJpaJP+YbdhWo5R//Cp7dkAO/zz+NLZ5PAz9NN6y3W/7dBi+28pl+sgkkg26liGd8B0JAnDHvSbZCzmTBRhHYW265ZbkG26JrQ8amPrDe1pE8EAz0ANlt/PSeTclFghxBLJkTu2ALNp74c7pEF+QJbAjJiaSjP64lfttkkDvIAXzHmHwPnyA+y+nkIrrW2T8ZOMQavkTno7V2Ph9tg8RmD2JJzInXEbh0yyaRuYcPQd6Qo9sI5Yv0x/lDgg5YCz5VzNQFKr/iL8RbOYy1ZUPWVW6hrvJeDe97ja/dfffdi17URNuQMEd6K18UF+iijWEEK9LN2pi/9QNrxp7ldNZS3h66QPd1kYof8U9LzJ2/sNFo/nIQ8aRG2JrX5YfyGqSsekE9Sc6JNUCSTYnAWpFNHIfkSiFiRwJJIpEUWCUdils732Hkkis7W8bi9jsOI4KBa0nkOVABR3Jvd0YgVgxLWDgkzmS9QdErsEgmzU3gqZPOgKRKYipQ2i32OedJzshKICIP8uWIycfvZKpQFsyHDqxtSLAFREWruXv2luck+c+D9MU8FGoB6yswWW+JmWCEoDJXnxeE6LF5OgQmSYgArl025ACCX+gUUgUZQ1526JFzikiJ2pA6xX4EY2trzQVnnSHIVbuAknBzCpgbm9LZpPi1i+xwLvmQpWsGBGvz1rXgfboksSEbwZ8MJKcKBNdga5JBpIzvjeRuKFg/xYWCBOlxznOes8wFCWTnS+ItuTBG85LokBn/wVbojyLH55FHCmLr7Xy6iYjbeeedyy2/uuPYGzukM/47jueHeU6Icxw77bRTOTzIlP46fwj5+E7jlLSzIQkqMu0c5zhH2TG05pL0ScmoMdMLfoPf3mWXXcrc3AakGOBrnIN45M/ZK1kHSUdudMO55Ms2kUyKbraFsFBIjLkQNDa2pDsA6ezWPzJwa6mElk2yD2AXiCiJq9cD3reDa+78yz777FPIJsQN+ZPZasfc1YRbHnUZSfrps2e46fBiO/wsEoS/EKPZmGfFmBN9M2dz5LP4IoVi+JY4/+ijjy4kpvfZHV8iF1BwKQD4YD6e/pC5DRn+KAjPMcOGD/vhK3Uknetc5yrrLs6zSaSAeZib200Rcuw1ii1AVIX86Z9bfxDf/JWcTQG+XgokvsJcd9hhh+Iv6RI/GT7T7erxHLcgmxAJ9I3c+JlJc0Wy8OfySZsI/oMqW+R7kC3i95jBX/Kl5kpf6Dv7IQfyYj86rL3O75KN8xXWdIn8kCfsh89ykImOVO+zGzYpFkUMJxdEnOuMBeTAN4jnNoSMV67B5vkS47amOkjlf853iMlilA1KOVLkzohe8pIbhD8iQzGI/0JYkZNzXWdIBEmEeJa3+Nf+7nKgx/TeJg2/oD4SP8VxeWqd94G58zs26t0doO4acqO0Bp+PKEL2iQs6ZRGofJo7C6wNn2aOQM/ptLqALshlQxfIRM4vpogjZEOfdQTKc2yKILPk/jXIR45is5S/4HOMwW3Ort91i3diBUiyKRFYK7IpAghHysko+v20W8MZKGhqYsXvHKtgY6eL46yTL8m/IOs6gqlAoxhQQHs9kpT1BoExdqMEQTKbFADNj/wUwNG1As7ndMnTbpciQaJKPn63u0N2tSzHAoW9xFtRZi2RGBIkhbC5mIegU0NCJSmxO0Fedul0btALRWydlAb5QraCuQSDngG9c65E2C4X2ToUTa7HHoZORgRRAVKSpUiXOAq6umfYkYSKnQSMl54InGRDRg7z0aUjUav1QEB2nuvRFUlB2CO9Ylfsi3x8H/nQPURnJAZDIsbPn0hAgmCz1opWO2S1X1CkIqXJgr75LD1jK+ZE3mDN6aYiQLJKJ8jC63SG3CV8vk/yVB9eQ7K49lAwTnPle9kQnxr/Ul5Rw1asK9trw2cRCWySHM1FkqfQl+CxMedIHl2DHBQwimWvO/imsEuyddAbMgmSYsyg+4oACb3kNIo/cYnusMnwM3ZeyVRLf/3sQe+TlbmTv+KPfthxJ3+yGXMxrIuCzcf82YF5sjXxCpkWm0EOfpp+ROxxa4t5syExzjkQsmV3/DI9qfWQTeuCYZ98kmuROd0R49hl+KixgmwQj/wmEpvdWXe6Qnf4GTLhmxHXzqMvZBMQ48if3SDf+H3XkPuQD3sbciNkHlhT/lhR2faXcZgbvxoktFjNphScPkvX2pD3+AwZkbOuN/Lkl/g+8X89wDxshIjzxs43sCMxnw+Ww1nvAN2hX2ySXfC3oTv0SKzik9mNa9GZsNtJPn8sYBfkwD86wpewg/ATtc47V2zmn+Q8dIef8ZNvZW8+7+BLyIE8XGeSPg0B47B+ah9+gJ2LufTYmMUU/k7eSh70nD2wjxryOvouR5PP8ceRzwyNGJuYIi6waUSgudJx8+TTxAWI+cb5DrpsHc2PHstlw1fQCXlw+AG+s237zrXu4pGYJp6Ts41r15QXJtYASTYlAmtFNiUSiUQikUgkEolEIpE4GyHJpkQgyaZEIpFIJBKJRCKRSCQSK0aSTYlAkk2JRCKRSCQSiUQikUgkVowkmxKBJJsSiUQikUgkEolEIpFIrBhJNiUCSTYlEolEIpFIJBKJRCKRWDGSbEoEkmxKJBKJRCKRSCQSiUQisWIk2ZQI+BfDRx11VPlXsYlEIpFIJBKJRCKRSCQSy0KSTYnAKaec0px00knNaaedtvRKIpFIJBKJRCKRSCQSicScSLIpEUAynXrqqc3pp5++9EoikUgkEolEIpFIJBKJxJxIsimRSCQSiUQikUgkEolEIrFqSLIpkUgkEolEIpFIJBKJRCKxakiyKZFIJBKJRCKRSCQSiUQisWpIsimRSCQSiUQikUgkEolEIrFqSLIpkUgkEolEIpFIJBKJRCKxakiyKZFIJBKJRCKRSCQSiUQisWpIsimRSCQSiUQikUgkEolEIrFqCLJpxx13zCOPPPLII4888sgjjzzyyCOPPPLII48VHf9/Z1MeeeSRRx555JFHHnnkkUceeeSRRx55rPj4r+b/A3s2h4HUurXAAAAAAElFTkSuQmCC)\n",
        "\n",
        "\n",
        "(1) Give a summary of these two datasets (5 points). \n",
        "\n",
        "(2) Create side-by-side boxplots and interpret what you see (5 points). \n",
        "\n",
        "(3) Use python to create a 95% confidence interval for the difference in mean sugar content and explain your result (5 points). "
      ]
    },
    {
      "cell_type": "code",
      "source": [
        "# You answer here\n",
        "#(1)\n",
        "children = np.array([40.3, 55.0, 45.7, 43.3, 50.3, 45.9, 53.5, 43.0, 44.2, 44.0, 33.6, 55.1, 48.8, 50.4, 37.8, 60.3, 46.6, 47.4, 44.0])\n",
        "adults = np.array([20.0, 30.2, 2.2, 7.5, 4.4, 22.2, 16.6, 14.5, 21.4, 3.3, 10.0, 1.0, 4.4, 1.3, 8.1,6.6, 7.8, 10.6, 10.6, 16.2, 14.5, 4.1, 15.8, 4.1, 2.4, 3.5, 8.5, 4.7, 18.4])\n",
        "\n",
        "def summary_statistics(data,mssg):\n",
        "    mean, median, mode, std, var, min, max = np.mean(data), np.median(data), stats.mode(data), np.std(data), np.var(data), np.min(data), np.max(data)\n",
        "    print(\"Summary Statistics - \",mssg)\n",
        "    print(\"----------------------------------\")\n",
        "    print(f\"Mean                : {mean:.4f}\")\n",
        "    print(f\"Median              : {median:.4f}\")\n",
        "    print(\"Mode                : {0}  and it's Frequency : {1}\".format(\"{0:.4f}\".format(float(mode[0])),int(mode[1])))\n",
        "    print(f\"Standard Deviation  : {std:.4f}\")\n",
        "    print(f\"Variance            : {var:.4f}\")\n",
        "    print (f\"Minimum             : {min:.4f}\")\n",
        "    print (f\"Maximum             : {max:.4f}\")\n",
        "    print(\"\\n\")\n",
        "\n",
        "#print(\"Children\")\n",
        "summary_statistics(children,\"Children\")  \n",
        "\n",
        "#print(\"Adults\")\n",
        "summary_statistics(adults,\"Adult\")\n",
        "   "
      ],
      "metadata": {
        "colab": {
          "base_uri": "https://localhost:8080/"
        },
        "id": "oRc_FyGQLALl",
        "outputId": "7b2ba032-af7f-42f6-beb6-e5869cc906a7"
      },
      "execution_count": 19,
      "outputs": [
        {
          "output_type": "stream",
          "name": "stdout",
          "text": [
            "Summary Statistics -  Children\n",
            "----------------------------------\n",
            "Mean                : 46.8000\n",
            "Median              : 45.9000\n",
            "Mode                : 44.0000  and it's Frequency : 2\n",
            "Standard Deviation  : 6.2472\n",
            "Variance            : 39.0274\n",
            "Minimum             : 33.6000\n",
            "Maximum             : 60.3000\n",
            "\n",
            "\n",
            "Summary Statistics -  Adult\n",
            "----------------------------------\n",
            "Mean                : 10.1690\n",
            "Median              : 8.1000\n",
            "Mode                : 4.1000  and it's Frequency : 2\n",
            "Standard Deviation  : 7.3457\n",
            "Variance            : 53.9587\n",
            "Minimum             : 1.0000\n",
            "Maximum             : 30.2000\n",
            "\n",
            "\n"
          ]
        }
      ]
    },
    {
      "cell_type": "code",
      "execution_count": 20,
      "metadata": {
        "id": "acUYxFhhpUoM",
        "colab": {
          "base_uri": "https://localhost:8080/",
          "height": 558
        },
        "outputId": "9bfd3eee-9700-4197-d78a-de89dec16485"
      },
      "outputs": [
        {
          "output_type": "stream",
          "name": "stderr",
          "text": [
            "/usr/local/lib/python3.7/dist-packages/matplotlib/cbook/__init__.py:1376: VisibleDeprecationWarning: Creating an ndarray from ragged nested sequences (which is a list-or-tuple of lists-or-tuples-or ndarrays with different lengths or shapes) is deprecated. If you meant to do this, you must specify 'dtype=object' when creating the ndarray.\n",
            "  X = np.atleast_1d(X.T if isinstance(X, np.ndarray) else np.asarray(X))\n"
          ]
        },
        {
          "output_type": "execute_result",
          "data": {
            "text/plain": [
              "<function matplotlib.pyplot.show>"
            ]
          },
          "metadata": {},
          "execution_count": 20
        },
        {
          "output_type": "display_data",
          "data": {
            "text/plain": [
              "<Figure size 720x576 with 1 Axes>"
            ],
            "image/png": "[encoded data removed]"
          },
          "metadata": {
            "needs_background": "light"
          }
        }
      ],
      "source": [
        "# your code here\n",
        "# (2)\n",
        "plt.figure(figsize = (10, 8))\n",
        "plt.boxplot ([children,adults],positions = [1, 2], labels = ['Children', 'Adults'])\n",
        "plt.show\n"
      ]
    },
    {
      "cell_type": "markdown",
      "source": [
        "Comparing the boxplot of childeren and adults data side by side shows that the percentage weight of sugar content level is high in children when compared to adults.\n"
      ],
      "metadata": {
        "id": "Bflf1i9hQzhm"
      }
    },
    {
      "cell_type": "code",
      "source": [
        "children_confidence = st.norm.interval(alpha=0.95, loc=np.mean(children), scale=st.sem(children))\n",
        "adults_confidence = st.norm.interval(alpha=0.95, loc=np.mean(adults), scale=st.sem(adults))\n",
        "\n",
        "print(\"95% confidence interval for the difference in mean sugar content in: \\n\" )\n",
        "print(f\"childern: {children_confidence} \")\n",
        "print(f\"adults: {adults_confidence} \")"
      ],
      "metadata": {
        "colab": {
          "base_uri": "https://localhost:8080/"
        },
        "id": "vknCJsidPzbI",
        "outputId": "6eabd2c5-07f1-41a9-bd65-694e37b7c513"
      },
      "execution_count": 21,
      "outputs": [
        {
          "output_type": "stream",
          "name": "stdout",
          "text": [
            "95% confidence interval for the difference in mean sugar content in: \n",
            "\n",
            "childern: (43.913999031054956, 49.68600096894505) \n",
            "adults: (7.448145699452644, 12.889785335030114) \n"
          ]
        }
      ]
    },
    {
      "cell_type": "markdown",
      "source": [
        "From the 95% confidence interval for the difference in mean sugar content we can see that there is statistically significant differnce between the groups.\n"
      ],
      "metadata": {
        "id": "J4OOfIDpUADH"
      }
    },
    {
      "cell_type": "markdown",
      "metadata": {
        "id": "wKGJ17I1pUoN"
      },
      "source": [
        "### Question 3 (30 points) \n",
        "\n",
        "Cohen's kappa coefficient (κ) is a statistic that is used to measure inter-rater reliability (and also intra-rater reliability) for qualitative (categorical) items. It is generally thought to be a more robust measure than simple percent agreement calculation, as κ takes into account the possibility of the agreement occurring by chance. There is controversy surrounding Cohen's kappa due to the difficulty in interpreting indices of agreement. Some researchers have suggested that it is conceptually simpler to evaluate disagreement between items.\n",
        "\n",
        "A more detailed description of Kappa agreement can be found on wikipedia: https://en.wikipedia.org/wiki/Cohen%27s_kappa\n",
        "\n",
        "Here is the dataset we created for a text classification task: https://github.com/suthapalliuday/INFO5502-Summer2022/blob/main/datasets/lab08-dataset.csv\n",
        "\n",
        "The last three columns indicate the annotation on the same sentence by three students respectively. Based on this dataset, please calculate the Cohen's kappa and the Fleiss' kappa using their formulars (Python). Please don't use any existing packages for the implementation. "
      ]
    },
    {
      "cell_type": "code",
      "source": [
        "!pip install krippendorff"
      ],
      "metadata": {
        "colab": {
          "base_uri": "https://localhost:8080/"
        },
        "id": "BUPmBhvOW9un",
        "outputId": "29c4bd7f-4631-4754-b19d-e01d805c19e4"
      },
      "execution_count": 22,
      "outputs": [
        {
          "output_type": "stream",
          "name": "stdout",
          "text": [
            "Looking in indexes: https://pypi.org/simple, https://us-python.pkg.dev/colab-wheels/public/simple/\n",
            "Requirement already satisfied: krippendorff in /usr/local/lib/python3.7/dist-packages (0.5.1)\n",
            "Requirement already satisfied: numpy in /usr/local/lib/python3.7/dist-packages (from krippendorff) (1.21.6)\n"
          ]
        }
      ]
    },
    {
      "cell_type": "code",
      "source": [
        "# your code here\n",
        "import pandas as pd\n",
        "from sklearn.preprocessing import LabelEncoder\n",
        "from sklearn.metrics import cohen_kappa_score\n",
        "import krippendorff\n",
        "df = pd.read_csv('https://raw.githubusercontent.com/suthapalliuday/INFO5502-Summer2022/main/datasets/lab08-dataset.csv')\n",
        "df.head(10)"
      ],
      "metadata": {
        "colab": {
          "base_uri": "https://localhost:8080/",
          "height": 363
        },
        "id": "J7eS8DUjHkZI",
        "outputId": "312db7c1-b751-446e-d1bf-10a182cfd457"
      },
      "execution_count": 23,
      "outputs": [
        {
          "output_type": "execute_result",
          "data": {
            "text/plain": [
              "                                    Title of Article  \\\n",
              "0  The measurement of ÒinterdisciplinarityÓ and Ò...   \n",
              "1  Innovation adoption: Broadcasting versus virality   \n",
              "2  Discovering underlying sensations of human emo...   \n",
              "3  Discovering underlying sensations of human emo...   \n",
              "4  Discovering underlying sensations of human emo...   \n",
              "5  Mapping the online presence of small local spo...   \n",
              "6  Mapping the online presence of small local spo...   \n",
              "7  Validation of a survey for measuring scientist...   \n",
              "8  Validation of a survey for measuring scientist...   \n",
              "9  Understanding and predicting future research i...   \n",
              "\n",
              "                                       Contributions  Source  \\\n",
              "0  In this study, we discuss recent advances in t...  JASIST   \n",
              "1  broadcasting and virality have similar diffusi...  JASIST   \n",
              "2  we report the results of our study on sensatio...  JASIST   \n",
              "3  in the second part of the paper, we define nov...  JASIST   \n",
              "4  we design a method to classify texts into ones...  JASIST   \n",
              "5  findings suggest that higher adoption levels o...  JASIST   \n",
              "6  Guidance on using the extended model in other ...  JASIST   \n",
              "7  Overall, findings supported validity of the ex...  JASIST   \n",
              "8  Additionally, implications for organizational ...  JASIST   \n",
              "9  This paper provides empirical evidence for how...  JASIST   \n",
              "\n",
              "                                        Annotation1  \\\n",
              "0  Algorithms/ Methods Construction or Optimization   \n",
              "1                                 Theory proposal\\n   \n",
              "2                                 Theory proposal\\n   \n",
              "3                                 Theory proposal\\n   \n",
              "4  Algorithms/ Methods Construction or Optimization   \n",
              "5                                 Theory proposal\\n   \n",
              "6                Model Construction or Optimization   \n",
              "7                                 Theory proposal\\n   \n",
              "8                                         Resources   \n",
              "9                                 Theory proposal\\n   \n",
              "\n",
              "                                        Annotation2  \\\n",
              "0  Algorithms/ Methods Construction or Optimization   \n",
              "1                                 Theory proposal\\n   \n",
              "2  Algorithms/ Methods Construction or Optimization   \n",
              "3                                 Theory proposal\\n   \n",
              "4                Model Construction or Optimization   \n",
              "5                                 Theory proposal\\n   \n",
              "6                                         Resources   \n",
              "7                                 Theory proposal\\n   \n",
              "8                                 Theory proposal\\n   \n",
              "9                                 Theory proposal\\n   \n",
              "\n",
              "                                        Annotation3  Year  \n",
              "0  Algorithms/ Methods Construction or Optimization   NaN  \n",
              "1                                 Theory proposal\\n   NaN  \n",
              "2                                 Theory proposal\\n   NaN  \n",
              "3                                 Theory proposal\\n   NaN  \n",
              "4  Algorithms/ Methods Construction or Optimization   NaN  \n",
              "5                                 Theory proposal\\n   NaN  \n",
              "6                Model Construction or Optimization   NaN  \n",
              "7                                 Theory proposal\\n   NaN  \n",
              "8                                         Resources   NaN  \n",
              "9                                 Theory proposal\\n   NaN  "
            ],
            "text/html": [
              "\n",
              "  <div id=\"df-9cde85fa-f18e-4367-99fc-5c0e64858874\">\n",
              "    <div class=\"colab-df-container\">\n",
              "      <div>\n",
              "<style scoped>\n",
              "    .dataframe tbody tr th:only-of-type {\n",
              "        vertical-align: middle;\n",
              "    }\n",
              "\n",
              "    .dataframe tbody tr th {\n",
              "        vertical-align: top;\n",
              "    }\n",
              "\n",
              "    .dataframe thead th {\n",
              "        text-align: right;\n",
              "    }\n",
              "</style>\n",
              "<table border=\"1\" class=\"dataframe\">\n",
              "  <thead>\n",
              "    <tr style=\"text-align: right;\">\n",
              "      <th></th>\n",
              "      <th>Title of Article</th>\n",
              "      <th>Contributions</th>\n",
              "      <th>Source</th>\n",
              "      <th>Annotation1</th>\n",
              "      <th>Annotation2</th>\n",
              "      <th>Annotation3</th>\n",
              "      <th>Year</th>\n",
              "    </tr>\n",
              "  </thead>\n",
              "  <tbody>\n",
              "    <tr>\n",
              "      <th>0</th>\n",
              "      <td>The measurement of ÒinterdisciplinarityÓ and Ò...</td>\n",
              "      <td>In this study, we discuss recent advances in t...</td>\n",
              "      <td>JASIST</td>\n",
              "      <td>Algorithms/ Methods Construction or Optimization</td>\n",
              "      <td>Algorithms/ Methods Construction or Optimization</td>\n",
              "      <td>Algorithms/ Methods Construction or Optimization</td>\n",
              "      <td>NaN</td>\n",
              "    </tr>\n",
              "    <tr>\n",
              "      <th>1</th>\n",
              "      <td>Innovation adoption: Broadcasting versus virality</td>\n",
              "      <td>broadcasting and virality have similar diffusi...</td>\n",
              "      <td>JASIST</td>\n",
              "      <td>Theory proposal\\n</td>\n",
              "      <td>Theory proposal\\n</td>\n",
              "      <td>Theory proposal\\n</td>\n",
              "      <td>NaN</td>\n",
              "    </tr>\n",
              "    <tr>\n",
              "      <th>2</th>\n",
              "      <td>Discovering underlying sensations of human emo...</td>\n",
              "      <td>we report the results of our study on sensatio...</td>\n",
              "      <td>JASIST</td>\n",
              "      <td>Theory proposal\\n</td>\n",
              "      <td>Algorithms/ Methods Construction or Optimization</td>\n",
              "      <td>Theory proposal\\n</td>\n",
              "      <td>NaN</td>\n",
              "    </tr>\n",
              "    <tr>\n",
              "      <th>3</th>\n",
              "      <td>Discovering underlying sensations of human emo...</td>\n",
              "      <td>in the second part of the paper, we define nov...</td>\n",
              "      <td>JASIST</td>\n",
              "      <td>Theory proposal\\n</td>\n",
              "      <td>Theory proposal\\n</td>\n",
              "      <td>Theory proposal\\n</td>\n",
              "      <td>NaN</td>\n",
              "    </tr>\n",
              "    <tr>\n",
              "      <th>4</th>\n",
              "      <td>Discovering underlying sensations of human emo...</td>\n",
              "      <td>we design a method to classify texts into ones...</td>\n",
              "      <td>JASIST</td>\n",
              "      <td>Algorithms/ Methods Construction or Optimization</td>\n",
              "      <td>Model Construction or Optimization</td>\n",
              "      <td>Algorithms/ Methods Construction or Optimization</td>\n",
              "      <td>NaN</td>\n",
              "    </tr>\n",
              "    <tr>\n",
              "      <th>5</th>\n",
              "      <td>Mapping the online presence of small local spo...</td>\n",
              "      <td>findings suggest that higher adoption levels o...</td>\n",
              "      <td>JASIST</td>\n",
              "      <td>Theory proposal\\n</td>\n",
              "      <td>Theory proposal\\n</td>\n",
              "      <td>Theory proposal\\n</td>\n",
              "      <td>NaN</td>\n",
              "    </tr>\n",
              "    <tr>\n",
              "      <th>6</th>\n",
              "      <td>Mapping the online presence of small local spo...</td>\n",
              "      <td>Guidance on using the extended model in other ...</td>\n",
              "      <td>JASIST</td>\n",
              "      <td>Model Construction or Optimization</td>\n",
              "      <td>Resources</td>\n",
              "      <td>Model Construction or Optimization</td>\n",
              "      <td>NaN</td>\n",
              "    </tr>\n",
              "    <tr>\n",
              "      <th>7</th>\n",
              "      <td>Validation of a survey for measuring scientist...</td>\n",
              "      <td>Overall, findings supported validity of the ex...</td>\n",
              "      <td>JASIST</td>\n",
              "      <td>Theory proposal\\n</td>\n",
              "      <td>Theory proposal\\n</td>\n",
              "      <td>Theory proposal\\n</td>\n",
              "      <td>NaN</td>\n",
              "    </tr>\n",
              "    <tr>\n",
              "      <th>8</th>\n",
              "      <td>Validation of a survey for measuring scientist...</td>\n",
              "      <td>Additionally, implications for organizational ...</td>\n",
              "      <td>JASIST</td>\n",
              "      <td>Resources</td>\n",
              "      <td>Theory proposal\\n</td>\n",
              "      <td>Resources</td>\n",
              "      <td>NaN</td>\n",
              "    </tr>\n",
              "    <tr>\n",
              "      <th>9</th>\n",
              "      <td>Understanding and predicting future research i...</td>\n",
              "      <td>This paper provides empirical evidence for how...</td>\n",
              "      <td>JASIST</td>\n",
              "      <td>Theory proposal\\n</td>\n",
              "      <td>Theory proposal\\n</td>\n",
              "      <td>Theory proposal\\n</td>\n",
              "      <td>NaN</td>\n",
              "    </tr>\n",
              "  </tbody>\n",
              "</table>\n",
              "</div>\n",
              "      <button class=\"colab-df-convert\" onclick=\"convertToInteractive('df-9cde85fa-f18e-4367-99fc-5c0e64858874')\"\n",
              "              title=\"Convert this dataframe to an interactive table.\"\n",
              "              style=\"display:none;\">\n",
              "        \n",
              "  <svg xmlns=\"http://www.w3.org/2000/svg\" height=\"24px\"viewBox=\"0 0 24 24\"\n",
              "       width=\"24px\">\n",
              "    <path d=\"M0 0h24v24H0V0z\" fill=\"none\"/>\n",
              "    <path d=\"M18.56 5.44l.94 2.06.94-2.06 2.06-.94-2.06-.94-.94-2.06-.94 2.06-2.06.94zm-11 1L8.5 8.5l.94-2.06 2.06-.94-2.06-.94L8.5 2.5l-.94 2.06-2.06.94zm10 10l.94 2.06.94-2.06 2.06-.94-2.06-.94-.94-2.06-.94 2.06-2.06.94z\"/><path d=\"M17.41 7.96l-1.37-1.37c-.4-.4-.92-.59-1.43-.59-.52 0-1.04.2-1.43.59L10.3 9.45l-7.72 7.72c-.78.78-.78 2.05 0 2.83L4 21.41c.39.39.9.59 1.41.59.51 0 1.02-.2 1.41-.59l7.78-7.78 2.81-2.81c.8-.78.8-2.07 0-2.86zM5.41 20L4 18.59l7.72-7.72 1.47 1.35L5.41 20z\"/>\n",
              "  </svg>\n",
              "      </button>\n",
              "      \n",
              "  <style>\n",
              "    .colab-df-container {\n",
              "      display:flex;\n",
              "      flex-wrap:wrap;\n",
              "      gap: 12px;\n",
              "    }\n",
              "\n",
              "    .colab-df-convert {\n",
              "      background-color: #E8F0FE;\n",
              "      border: none;\n",
              "      border-radius: 50%;\n",
              "      cursor: pointer;\n",
              "      display: none;\n",
              "      fill: #1967D2;\n",
              "      height: 32px;\n",
              "      padding: 0 0 0 0;\n",
              "      width: 32px;\n",
              "    }\n",
              "\n",
              "    .colab-df-convert:hover {\n",
              "      background-color: #E2EBFA;\n",
              "      box-shadow: 0px 1px 2px rgba(60, 64, 67, 0.3), 0px 1px 3px 1px rgba(60, 64, 67, 0.15);\n",
              "      fill: #174EA6;\n",
              "    }\n",
              "\n",
              "    [theme=dark] .colab-df-convert {\n",
              "      background-color: #3B4455;\n",
              "      fill: #D2E3FC;\n",
              "    }\n",
              "\n",
              "    [theme=dark] .colab-df-convert:hover {\n",
              "      background-color: #434B5C;\n",
              "      box-shadow: 0px 1px 3px 1px rgba(0, 0, 0, 0.15);\n",
              "      filter: drop-shadow(0px 1px 2px rgba(0, 0, 0, 0.3));\n",
              "      fill: #FFFFFF;\n",
              "    }\n",
              "  </style>\n",
              "\n",
              "      <script>\n",
              "        const buttonEl =\n",
              "          document.querySelector('#df-9cde85fa-f18e-4367-99fc-5c0e64858874 button.colab-df-convert');\n",
              "        buttonEl.style.display =\n",
              "          google.colab.kernel.accessAllowed ? 'block' : 'none';\n",
              "\n",
              "        async function convertToInteractive(key) {\n",
              "          const element = document.querySelector('#df-9cde85fa-f18e-4367-99fc-5c0e64858874');\n",
              "          const dataTable =\n",
              "            await google.colab.kernel.invokeFunction('convertToInteractive',\n",
              "                                                     [key], {});\n",
              "          if (!dataTable) return;\n",
              "\n",
              "          const docLinkHtml = 'Like what you see? Visit the ' +\n",
              "            '<a target=\"_blank\" href=https://colab.research.google.com/notebooks/data_table.ipynb>data table notebook</a>'\n",
              "            + ' to learn more about interactive tables.';\n",
              "          element.innerHTML = '';\n",
              "          dataTable['output_type'] = 'display_data';\n",
              "          await google.colab.output.renderOutput(dataTable, element);\n",
              "          const docLink = document.createElement('div');\n",
              "          docLink.innerHTML = docLinkHtml;\n",
              "          element.appendChild(docLink);\n",
              "        }\n",
              "      </script>\n",
              "    </div>\n",
              "  </div>\n",
              "  "
            ]
          },
          "metadata": {},
          "execution_count": 23
        }
      ]
    },
    {
      "cell_type": "code",
      "source": [
        "le = LabelEncoder()\n",
        "le.fit(df['Annotation1'])\n",
        "#Let's fit the data from Annotation 1 and transform the annotaion 2 and Annotation 3 \n",
        "df['annotation1_le'] = le.transform(df['Annotation1'])\n",
        "df['annotation2_le'] = le.transform(df['Annotation2'])\n",
        "df['annotation3_le'] = le.transform(df['Annotation3'])\n",
        "df['Annotation1'].value_counts()"
      ],
      "metadata": {
        "colab": {
          "base_uri": "https://localhost:8080/"
        },
        "id": "p5xZ2KwTWv7z",
        "outputId": "8a5df1c8-1f87-4955-a2f4-fcf8e0c4b34e"
      },
      "execution_count": 24,
      "outputs": [
        {
          "output_type": "execute_result",
          "data": {
            "text/plain": [
              "Theory proposal\\n                                   1323\n",
              "Algorithms/ Methods Construction or Optimization     579\n",
              "Model Construction or Optimization                   555\n",
              "Performance Evaluation                               474\n",
              "Resources                                            245\n",
              "Applications                                         119\n",
              "Dataset creation                                     102\n",
              " \"Theory proposal\\n\"                                   1\n",
              "Name: Annotation1, dtype: int64"
            ]
          },
          "metadata": {},
          "execution_count": 24
        }
      ]
    },
    {
      "cell_type": "code",
      "source": [
        " values = [list(df['annotation1_le'].values),\n",
        "        list(df['annotation2_le'].values),\n",
        "        list(df['annotation3_le'].values)]"
      ],
      "metadata": {
        "id": "R5HxA9m_ye9D"
      },
      "execution_count": 25,
      "outputs": []
    },
    {
      "cell_type": "code",
      "source": [
        "cohen_kappa_score1 = cohen_kappa_score(list(df['annotation1_le'].values), list(df['annotation2_le'].values))\n",
        "cohen_kappa_score2= cohen_kappa_score(list(df['annotation2_le'].values), list(df['annotation3_le'].values))\n",
        "cohen_kappa_score3 = cohen_kappa_score(list(df['annotation1_le'].values), list(df['annotation3_le'].values))\n",
        "\n",
        "Tot_avg_kappa_score = (cohen_kappa_score1 + cohen_kappa_score2 + cohen_kappa_score3)/3\n",
        "print(\"Cohen's kappa score is:\", round(Tot_avg_kappa_score, 2))\n",
        "\n",
        "#Agreement\n",
        "if Tot_avg_kappa_score < 0.0:\n",
        "    print(\"Less than chance agreement\")\n",
        "elif ((Tot_avg_kappa_score >= 0.01) & (Tot_avg_kappa_score <= 0.20)):\n",
        "    print(\"Slight agreement\")\n",
        "elif ((Tot_avg_kappa_score >= 0.21) and (Tot_avg_kappa_score <= 0.40)):\n",
        "    print(\"Fair agreement\")\n",
        "elif ((Tot_avg_kappa_score >= 0.41) and (Tot_avg_kappa_score <= 0.60)):\n",
        "    print(\"Moderate agreement\")\n",
        "elif ((Tot_avg_kappa_score >= 0.61) and (Tot_avg_kappa_score <= 0.80)):\n",
        "    print(\"Substantial agreement\")\n",
        "elif ((Tot_avg_kappa_score >= 0.81) and (Tot_avg_kappa_score <= 0.99)):\n",
        "    print(\"Almost perfect agreement\")\n",
        "    "
      ],
      "metadata": {
        "colab": {
          "base_uri": "https://localhost:8080/"
        },
        "id": "QGC1kegBuB4d",
        "outputId": "173b2fb1-5c56-48f7-b543-5636306134c3"
      },
      "execution_count": 26,
      "outputs": [
        {
          "output_type": "stream",
          "name": "stdout",
          "text": [
            "Cohen's kappa score is: 0.54\n",
            "Moderate agreement\n"
          ]
        }
      ]
    },
    {
      "cell_type": "code",
      "source": [
        "# Calculte the Fleiss' kappa score\n",
        "Fleiss_score = krippendorff.alpha(values)\n",
        "print(\"Fleiss kappa score is:\", round(Fleiss_score, 2))"
      ],
      "metadata": {
        "colab": {
          "base_uri": "https://localhost:8080/"
        },
        "id": "LxB2g7niuHdp",
        "outputId": "d63abeba-4abf-4f0e-e264-efe27cbd3ca9"
      },
      "execution_count": 27,
      "outputs": [
        {
          "output_type": "stream",
          "name": "stdout",
          "text": [
            "Fleiss kappa score is: 0.57\n"
          ]
        }
      ]
    },
    {
      "cell_type": "code",
      "source": [
        ""
      ],
      "metadata": {
        "id": "65JeAjNU21gV"
      },
      "execution_count": 27,
      "outputs": []
    }
  ],
  "metadata": {
    "kernelspec": {
      "display_name": "Python 3 (ipykernel)",
      "language": "python",
      "name": "python3"
    },
    "language_info": {
      "codemirror_mode": {
        "name": "ipython",
        "version": 3
      },
      "file_extension": ".py",
      "mimetype": "text/x-python",
      "name": "python",
      "nbconvert_exporter": "python",
      "pygments_lexer": "ipython3",
      "version": "3.9.12"
    },
    "colab": {
      "name": "lab_assignment_08-1.ipynb",
      "provenance": [],
      "include_colab_link": true
    }
  },
  "nbformat": 4,
  "nbformat_minor": 0
}