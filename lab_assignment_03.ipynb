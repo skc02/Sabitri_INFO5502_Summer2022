{
  "cells": [
    {
      "cell_type": "markdown",
      "metadata": {
        "id": "view-in-github",
        "colab_type": "text"
      },
      "source": [
        "<a href=\"https://colab.research.google.com/github/skc02/Sabitri_INFO5502_Summer2022/blob/main/lab_assignment_03.ipynb\" target=\"_parent\"><img src=\"https://colab.research.google.com/assets/colab-badge.svg\" alt=\"Open In Colab\"/></a>"
      ]
    },
    {
      "cell_type": "markdown",
      "metadata": {
        "id": "-xAZmIYQJmgi"
      },
      "source": [
        "## The third Lab-assignment (07/22/2022 11:59'AM' - 07/26/2022 11:59PM, 50 points in total)"
      ]
    },
    {
      "cell_type": "markdown",
      "metadata": {
        "id": "jlnFVB3nJmgs"
      },
      "source": [
        "The purpose of this exercise is to understand users' information needs, then collect data from different sources for analysis."
      ]
    },
    {
      "cell_type": "markdown",
      "metadata": {
        "id": "qfvYsXlnJmgt"
      },
      "source": [
        "Question 1 (10 points). Fomulate your domain problem: Describe an interesting research question (or practical question) you have in mind, what kind of data should be collected to answer the question(s)? How many data needed for the analysis? The detail steps for collecting and save the data. "
      ]
    },
    {
      "cell_type": "code",
      "execution_count": null,
      "metadata": {
        "id": "dhYKu3i_Jmgt"
      },
      "outputs": [],
      "source": [
        "# Your answer here (no code for this question, write down your answer as detail as possible for the above questions):\n",
        "\n",
        "'''\n",
        "Mental health can be affected by various factors. I am intrested in studying a relation between patient's mental health and their demographic,\n",
        " social,clinical, insurance and other benefits conditions.\n",
        "\n",
        "Research questions: \n",
        "1) Is there any correlation between between patient's mental health and their demographic, social,clinical,\n",
        " insurance and other benefits condition.\n",
        "2) How to predict whether a patient's is likely to get mental health issue based on the input parameters like gender,\n",
        " age, various diseases, and smoking status, insurance and other benefits.\n",
        "\n",
        "Data needed for analysis : \n",
        "Client level data from some public health service agencies who collects demographic, clinical, and service-related information periodically.\n",
        "I found a Patient characterstics survey data from https://data.ny.gov/Human-Services/Patient-Characteristics-Survey-PCS-2019/urn3-ezfe, \n",
        "which is conducted every two years.The raw dataset has 196k rows and 76 columns.\n",
        "\n",
        "This data can be collected by using their open data API which provides programmatic access to this dataset including the ability to filter,\n",
        "query, and aggregate data and can be saved/export directly from google colab as shown in question no 2.\n",
        "'''"
      ]
    },
    {
      "cell_type": "markdown",
      "metadata": {
        "id": "Y7A6xtdPJmgv"
      },
      "source": [
        "Question 2 (30 points). Collect your data to answer the research problem: Write python code to collect 1000 data samples you discussed above."
      ]
    },
    {
      "cell_type": "code",
      "execution_count": null,
      "metadata": {
        "id": "oS-1oKcnJmgv",
        "colab": {
          "base_uri": "https://localhost:8080/"
        },
        "outputId": "e56ee89d-a61c-4810-ea43-7cc2aeefa3aa"
      },
      "outputs": [
        {
          "output_type": "stream",
          "name": "stdout",
          "text": [
            "Total number of samples used in analysis are 1000\n"
          ]
        }
      ],
      "source": [
        "\n",
        "# Patient Characteristics Survey (PCS): 2019\n",
        "\n",
        "#https://data.ny.gov/Human-Services/Patient-Characteristics-Survey-PCS-2019/urn3-ezfe\n",
        "\n",
        "import pandas as pd\n",
        "df = pd.read_json('https://data.ny.gov/resource/urn3-ezfe.json')\n",
        "#print(len(df))\n",
        "#1000 rows only\n",
        "pcs_df = df.sample(n = 1000,replace=False)# Do not allow same duplicate rows\n",
        "print(\"Total number of samples used in analysis are {0}\".format(len(pcs_df)))\n",
        "\n",
        "\n",
        "\n",
        "\n",
        "\n"
      ]
    },
    {
      "cell_type": "markdown",
      "metadata": {
        "id": "OXVQ3LKPJmgw"
      },
      "source": [
        "Question 3 (10 points). Understand the data quality: Search a second hand dataset (any dataset) from kaggle or other websites. Describe the data quality problem of the dataset and explain your strtegy to clean the data."
      ]
    },
    {
      "cell_type": "code",
      "execution_count": null,
      "metadata": {
        "id": "Dhvbql80Jmgx"
      },
      "outputs": [],
      "source": [
        "# Your answer here (no code for this question, write down your answer as detail as possible for the above questions):\n",
        "'''\n",
        "\n",
        " Second hand dataset from kaggle: https://www.kaggle.com/datasets/fedesoriano/stroke-prediction-dataset/code\n",
        "This dataset can be a good acedemic project dataset but it is missng lots of useful Metadata for the predecion or inference of results.For example : when and where and how the data was collected.\n",
        "Also, one of the feature Body Mass Index (bmi) has 201 missed bmi values which is (3.93%) of total data. \n",
        "\n",
        "\n",
        "Normally , my strategy to solve the missing values is filling it  with column mean, median or mode value \n",
        "but this particular data have bmi value with outliers (meaning some value are very high for example bmi = 97.6). \n",
        "so in this case, I would rather use bmi as a target varaible and solve this as a regression problem.\n",
        "\n",
        "\n",
        "'''"
      ]
    }
  ],
  "metadata": {
    "kernelspec": {
      "display_name": "Python 3 (ipykernel)",
      "language": "python",
      "name": "python3"
    },
    "language_info": {
      "codemirror_mode": {
        "name": "ipython",
        "version": 3
      },
      "file_extension": ".py",
      "mimetype": "text/x-python",
      "name": "python",
      "nbconvert_exporter": "python",
      "pygments_lexer": "ipython3",
      "version": "3.9.12"
    },
    "vscode": {
      "interpreter": {
        "hash": "5c6a7f839effdddf35473dacbb9a8184e57ebbba5133cab03b12e4f28d4f0d0f"
      }
    },
    "colab": {
      "name": "lab_assignment_03.ipynb",
      "provenance": [],
      "include_colab_link": true
    }
  },
  "nbformat": 4,
  "nbformat_minor": 0
}