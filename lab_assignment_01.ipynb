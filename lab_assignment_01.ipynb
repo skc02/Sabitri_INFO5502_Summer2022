{
  "cells": [
    {
      "cell_type": "markdown",
      "metadata": {
        "id": "view-in-github",
        "colab_type": "text"
      },
      "source": [
        "<a href=\"https://colab.research.google.com/github/skc02/Sabitri_INFO5502_Summer2022/blob/main/lab_assignment_01.ipynb\" target=\"_parent\"><img src=\"https://colab.research.google.com/assets/colab-badge.svg\" alt=\"Open In Colab\"/></a>"
      ]
    },
    {
      "cell_type": "markdown",
      "metadata": {
        "id": "DymRJbxDBCnf"
      },
      "source": [
        "# **The first Lab-assignment (07/15/2022 11:59'AM' to 7/19/2022 11:59PM, 50 points in total)**"
      ]
    },
    {
      "cell_type": "markdown",
      "metadata": {
        "id": "jJDe71iLB616"
      },
      "source": [
        "(1) Write a Python program to count the number of characters in a string. (6 points)\n",
        "\n",
        "Sample String : 'google.com', \n",
        "\n",
        "Expected Result : {'o': 3, 'g': 2, '.': 1, 'e': 1, 'l': 1, 'm': 1, 'c': 1}"
      ]
    },
    {
      "cell_type": "code",
      "execution_count": 1,
      "metadata": {
        "colab": {
          "base_uri": "https://localhost:8080/"
        },
        "id": "MtKskTzbCLaU",
        "outputId": "283d273e-2196-47b0-e44b-fe8a74f9e181"
      },
      "outputs": [
        {
          "output_type": "stream",
          "name": "stdout",
          "text": [
            "Number of characters in a string :\n",
            "{'g': 2, 'o': 3, 'l': 1, 'e': 1, '.': 1, 'c': 1, 'm': 1}\n",
            "Number of characters in a string :\n",
            "{'o': 3, 'g': 2, 'l': 1, 'e': 1, '.': 1, 'c': 1, 'm': 1}\n"
          ]
        }
      ],
      "source": [
        "string = 'google.com'\n",
        "count = {}\n",
        "for char in string:\n",
        "    if char in count:\n",
        "        count[char] += 1\n",
        "    else:\n",
        "        count[char] = 1 \n",
        "            \n",
        "print(\"Number of characters in a string :\\n\"+ str(count))\n",
        "sorted_count = dict(sorted(count.items(), key=lambda item: item[1],reverse=True))\n",
        "print(\"Number of characters in a string :\\n\"+ str(sorted_count))\n"
      ]
    },
    {
      "cell_type": "markdown",
      "metadata": {
        "id": "55W9AMdXCSpV"
      },
      "source": [
        "(2) Write a Python program to sum all the items in a list. (6 points)"
      ]
    },
    {
      "cell_type": "code",
      "execution_count": 2,
      "metadata": {
        "colab": {
          "base_uri": "https://localhost:8080/"
        },
        "id": "I57NXsauCec2",
        "outputId": "0112b3b1-7745-47a2-cec7-4c378d7a934d"
      },
      "outputs": [
        {
          "output_type": "stream",
          "name": "stdout",
          "text": [
            "Sum of all the items in a list:  44\n"
          ]
        }
      ],
      "source": [
        "list = [3,4,5,6,7,8,9,2]\n",
        "sum_r = 0\n",
        "for i in list:\n",
        "    sum_r = sum_r + i\n",
        "#print(\"Sum of all the items in a list: \",sum(list) )\n",
        "print(\"Sum of all the items in a list: \",sum_r)\n"
      ]
    },
    {
      "cell_type": "markdown",
      "metadata": {
        "id": "4ulBZ6yhCi9F"
      },
      "source": [
        "(3) Write a Python program to get a string from a given string where all occurrences of its first char have been changed to '\\$', except the first char itself. (6 points)\n",
        "\n",
        "Sample String : 'restart', \n",
        "\n",
        "Expected Result : 'resta\\$t'"
      ]
    },
    {
      "cell_type": "code",
      "execution_count": 3,
      "metadata": {
        "colab": {
          "base_uri": "https://localhost:8080/"
        },
        "id": "Fj0XhwbBCw2o",
        "outputId": "7138fdad-0b42-4ae9-c5d7-07685fa20519"
      },
      "outputs": [
        {
          "output_type": "stream",
          "name": "stdout",
          "text": [
            "Enter a string:window\n",
            "windo$\n"
          ]
        }
      ],
      "source": [
        "string = input(\"Enter a string:\")\n",
        "replaced_string = string[0] + string[1:].replace(string[0],'$')\n",
        "print(replaced_string)"
      ]
    },
    {
      "cell_type": "markdown",
      "metadata": {
        "id": "_bIP7s1MCzue"
      },
      "source": [
        "(4) Write a program with python which could accept two parameter a and b to calculate and output the result of S, where \n",
        "\n",
        "$\\ S=3.14*(1+a/b)^3$ (6 points)\n",
        "\n"
      ]
    },
    {
      "cell_type": "code",
      "execution_count": 4,
      "metadata": {
        "colab": {
          "base_uri": "https://localhost:8080/"
        },
        "id": "w79QilHXD3Mg",
        "outputId": "d431a40e-ea97-40ff-c30b-08ed698c2a37"
      },
      "outputs": [
        {
          "output_type": "stream",
          "name": "stdout",
          "text": [
            "Enter first parameter:3\n",
            "Enter second parameter:5\n",
            "The output result S = 3.14∗(1+𝑎/𝑏)3 =  12.861440000000004\n"
          ]
        }
      ],
      "source": [
        "a = float(input(\"Enter first parameter:\"))\n",
        "b = float(input(\"Enter second parameter:\"))\n",
        "s = 3.14*(1+a/b)**3\n",
        "print(\"The output result S = 3.14∗(1+𝑎/𝑏)3 = \",s)\n"
      ]
    },
    {
      "cell_type": "markdown",
      "metadata": {
        "id": "xCa2bK9aD4Q3"
      },
      "source": [
        "(5) Write a Python program to concatenate following dictionaries to create a new one. (6 points)\n",
        "\n",
        "Sample Dictionary : dic1={1:10, 2:20}, dic2={3:30, 4:40}, dic3={5:50,6:60}, \n",
        "\n",
        "Expected Result : {1: 10, 2: 20, 3: 30, 4: 40, 5: 50, 6: 60}\n"
      ]
    },
    {
      "cell_type": "code",
      "execution_count": 5,
      "metadata": {
        "colab": {
          "base_uri": "https://localhost:8080/"
        },
        "id": "_z4aLqAbEET1",
        "outputId": "00ac2de2-ac88-49de-d5fd-d134fe8d6ac7"
      },
      "outputs": [
        {
          "output_type": "stream",
          "name": "stdout",
          "text": [
            "{1: 10, 2: 20, 3: 30, 4: 40, 5: 50, 6: 60}\n"
          ]
        }
      ],
      "source": [
        "# write your answer here\n",
        "dic1 = {1:10,2:20}\n",
        "dic2 = {3:30,4:40}\n",
        "dic3 = {5:50,6:60}\n",
        "dic = dic1\n",
        "dic.update(dic2)\n",
        "dic.update(dic3)\n",
        "print(dic)"
      ]
    },
    {
      "cell_type": "markdown",
      "metadata": {
        "id": "0v48Vqa7FrQh"
      },
      "source": [
        "(6) Write a Python program to check whether an element exists within a tuple. (6 points)"
      ]
    },
    {
      "cell_type": "code",
      "execution_count": 6,
      "metadata": {
        "colab": {
          "base_uri": "https://localhost:8080/"
        },
        "id": "7WEmgq-DF2P1",
        "outputId": "fc11faff-26f4-44bd-f44c-0b0dfea08848"
      },
      "outputs": [
        {
          "output_type": "stream",
          "name": "stdout",
          "text": [
            "Enter a tuple in comma separated string: 2,4,5,6,6,4)\n",
            "Enter a character to find: 4\n",
            "4 is in the tuple\n"
          ]
        }
      ],
      "source": [
        "#Tuple = (52,24,14,a,b,2)\n",
        "#check =9\n",
        "\n",
        "def check_tuple(tuple,given_char):\n",
        "    for ch in tuple:\n",
        "        if ch == given_char:\n",
        "            return True\n",
        "    return False\n",
        "\n",
        "\n",
        "x = input(\"Enter a tuple in comma separated string: \")\n",
        "given_tuple = tuple(x.split(\",\"))\n",
        "char = input('Enter a character to find: ')\n",
        "\n",
        "if check_tuple(given_tuple, char):\n",
        "    print('{0} is in the tuple'.format(char))\n",
        "else:\n",
        "    print('{0} is not in the tuple'.format(char))\n"
      ]
    },
    {
      "cell_type": "markdown",
      "metadata": {
        "id": "vD5PYLMuGga_"
      },
      "source": [
        "(7) Write a Python program to find maximum and the minimum value in a set. (6 points)"
      ]
    },
    {
      "cell_type": "code",
      "execution_count": 7,
      "metadata": {
        "colab": {
          "base_uri": "https://localhost:8080/"
        },
        "id": "t0D5kdJUGjjw",
        "outputId": "6a4a77de-36dc-458c-9abf-6a5f1bb2c622"
      },
      "outputs": [
        {
          "output_type": "stream",
          "name": "stdout",
          "text": [
            "Maximum value of set:  49.2\n",
            "Minimun value of set:  3.14159\n"
          ]
        }
      ],
      "source": [
        "thisset = {42, 46,49.2,10,3.14159}\n",
        "print ('Maximum value of set: ' ,max(thisset))\n",
        "print ('Minimun value of set: ' ,min(thisset))"
      ]
    },
    {
      "cell_type": "markdown",
      "metadata": {
        "id": "PgVsKFgRjmMO"
      },
      "source": [
        "(8) Write a Python program to find the duplicate elements in a given array of integers. Return -1 If there are no such elements. (8 points)"
      ]
    },
    {
      "cell_type": "code",
      "execution_count": 9,
      "metadata": {
        "colab": {
          "base_uri": "https://localhost:8080/"
        },
        "id": "0Ey6ynOrjmMO",
        "outputId": "b1e1328d-8c0f-47ea-d353-8ecf3d61a07f"
      },
      "outputs": [
        {
          "output_type": "stream",
          "name": "stdout",
          "text": [
            "Enter element of an array in comma separated string:2,3,4,5,6,7,8,2\n",
            "('DUPLICATE FOUND : ', {'2'})\n",
            "Enter 'Y/N'.'N' to exit.Y to continue..y\n",
            "Enter element of an array in comma separated string:2,3,4,5,6,7,8,9\n",
            "('NO DUPLICATE FOUND : ', -1)\n",
            "Enter 'Y/N'.'N' to exit.Y to continue..n\n",
            "Good bye ..\n"
          ]
        }
      ],
      "source": [
        "def find_duplicate(nums):\n",
        "    dup_set = set()\n",
        "    num_set = set()\n",
        "    for i in range(len(nums)):\n",
        "        if nums[i] not in num_set:            \n",
        "            num_set.add(nums[i])\n",
        "        else:\n",
        "            dup_set.add(nums[i])       \n",
        "                      \n",
        "    if len(dup_set) > 0:\n",
        "        return \"DUPLICATE FOUND : \", dup_set\n",
        "    else :\n",
        "        return \"NO DUPLICATE FOUND : \", -1\n",
        "\n",
        "choice = True\n",
        "while choice == True:\n",
        "    input_array = input(\"Enter element of an array in comma separated string:\")\n",
        "    a = input_array.split(\",\")\n",
        "    print(find_duplicate(a))\n",
        "    user_choice = input(\"Enter 'Y/N'.'N' to exit.Y to continue..\")\n",
        "    if user_choice.upper() == 'Y':\n",
        "        choice = True\n",
        "    else:\n",
        "        choice = False   \n",
        "        print(\"Good bye ..\")\n"
      ]
    },
    {
      "cell_type": "code",
      "execution_count": 8,
      "metadata": {
        "id": "HG9Xw1RGjmMP"
      },
      "outputs": [],
      "source": [
        ""
      ]
    }
  ],
  "metadata": {
    "colab": {
      "collapsed_sections": [],
      "name": "lab_assignment_01.ipynb",
      "provenance": [],
      "include_colab_link": true
    },
    "kernelspec": {
      "display_name": "Python 3 (ipykernel)",
      "language": "python",
      "name": "python3"
    },
    "language_info": {
      "codemirror_mode": {
        "name": "ipython",
        "version": 3
      },
      "file_extension": ".py",
      "mimetype": "text/x-python",
      "name": "python",
      "nbconvert_exporter": "python",
      "pygments_lexer": "ipython3",
      "version": "3.9.12"
    },
    "vscode": {
      "interpreter": {
        "hash": "5c6a7f839effdddf35473dacbb9a8184e57ebbba5133cab03b12e4f28d4f0d0f"
      }
    }
  },
  "nbformat": 4,
  "nbformat_minor": 0
}